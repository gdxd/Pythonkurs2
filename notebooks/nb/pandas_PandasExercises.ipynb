{
 "cells": [
  {
   "cell_type": "markdown",
   "metadata": {},
   "source": [
    "## Exercises for Pandas\n",
    "\n",
    "### Notebook examples\n",
    "* Check in detail the examples presented\n",
    "  * Vary methods, outputs, plots, ...\n",
    "  \n",
    "  \n",
    "### Titanic Data with Pandas\n",
    "Using Pandas-IO, Dataframes and the groupby Function the analysis of survival rates by class and sex is rather straightforward ...\n",
    "\n",
    "Solution: [pd_titanic.py](http://www-static.etp.physik.uni-muenchen.de/kurs/Computing/python2/source/pd_titanic.py)\n",
    "\n",
    "### Weather Data\n",
    "* Investigate other variables or aggregations, e.g. variance of Temperatur, Sonnenschein (daily sun-shine), Schneehöhe (Snow-height), Number of days with  snow, ...\n",
    "* Last night (Feb 26, 2018) was reportedly the coldest night of this winter with -27 degree. Check in the Zugspitze data for yearly minimum temperature. How often has it been colder?\n",
    "* Take data from other weather stations ([DWD Archiv](https://www.dwd.de/DE/leistungen/klimadatendeutschland/klarchivtagmonat.html), i.e. Hohenpeißenberg, Helgoland, ...)\n",
    "  * here an [example notebook](http://www-static.etp.physik.uni-muenchen.de/kurs/Computing/sw/nb/AnalysisOfMunichWeatherData.ipynb) contributed by J.Kühne in the 2020 course\n",
    "\n",
    " \n"
   ]
  },
  {
   "cell_type": "markdown",
   "metadata": {},
   "source": [
    "### Energy Charts\n",
    "\n",
    "How to manage the transition to renewable energy production is a highly disputet and controversial subject.\n",
    "Interesting input to the discussion provide the energy-charts \n",
    "https://www.energy-charts.info/index.html?l=de&c=DE\n",
    "which show timeline of electricity usage together with production from different sources. One can also export the data in csv format and use Pandas for more detailed investigations:\n"
   ]
  },
  {
   "cell_type": "code",
   "execution_count": 1,
   "metadata": {},
   "outputs": [
    {
     "name": "stdout",
     "output_type": "stream",
     "text": [
      "595680\n",
      "Index(['Kernenergie', 'Laufwasser', 'Biomasse', 'Braunkohle', 'Steinkohle',\n",
      "       'Öl', 'Erdgas', 'Geothermie', 'Speicherwasser', 'Pumpspeicher',\n",
      "       'Andere', 'Andere Erneuerbare', 'Müll', 'Wind Offshore', 'Wind Onshore',\n",
      "       'Solar', 'Last'],\n",
      "      dtype='object')\n"
     ]
    }
   ],
   "source": [
    "import matplotlib.pyplot as plt\n",
    "import pandas as pd\n",
    "import datetime\n",
    "import numpy as np\n",
    "\n",
    "df=pd.read_csv('http://www-static.etp.physik.uni-muenchen.de/kurs/Computing/sw/source/energy-charts_Oeffentliche_Nettostromerzeugung_in_Deutschland_2021.csv',index_col='Datum (GMT+1)',parse_dates=['Datum (GMT+1)'],engine='python')\n",
    "print (df.size)\n",
    "print (df.columns)\n",
    "# combine wind\n",
    "df['Wind'] = df['Wind Onshore'] + df['Wind Offshore']"
   ]
  },
  {
   "cell_type": "code",
   "execution_count": 3,
   "metadata": {},
   "outputs": [
    {
     "data": {
      "text/html": [
       "<div>\n",
       "<style scoped>\n",
       "    .dataframe tbody tr th:only-of-type {\n",
       "        vertical-align: middle;\n",
       "    }\n",
       "\n",
       "    .dataframe tbody tr th {\n",
       "        vertical-align: top;\n",
       "    }\n",
       "\n",
       "    .dataframe thead th {\n",
       "        text-align: right;\n",
       "    }\n",
       "</style>\n",
       "<table border=\"1\" class=\"dataframe\">\n",
       "  <thead>\n",
       "    <tr style=\"text-align: right;\">\n",
       "      <th></th>\n",
       "      <th>Kernenergie</th>\n",
       "      <th>Laufwasser</th>\n",
       "      <th>Biomasse</th>\n",
       "      <th>Braunkohle</th>\n",
       "      <th>Steinkohle</th>\n",
       "      <th>Öl</th>\n",
       "      <th>Erdgas</th>\n",
       "      <th>Geothermie</th>\n",
       "      <th>Speicherwasser</th>\n",
       "      <th>Pumpspeicher</th>\n",
       "      <th>Andere</th>\n",
       "      <th>Andere Erneuerbare</th>\n",
       "      <th>Müll</th>\n",
       "      <th>Wind Offshore</th>\n",
       "      <th>Wind Onshore</th>\n",
       "      <th>Solar</th>\n",
       "      <th>Last</th>\n",
       "      <th>Wind</th>\n",
       "    </tr>\n",
       "    <tr>\n",
       "      <th>Datum (GMT+1)</th>\n",
       "      <th></th>\n",
       "      <th></th>\n",
       "      <th></th>\n",
       "      <th></th>\n",
       "      <th></th>\n",
       "      <th></th>\n",
       "      <th></th>\n",
       "      <th></th>\n",
       "      <th></th>\n",
       "      <th></th>\n",
       "      <th></th>\n",
       "      <th></th>\n",
       "      <th></th>\n",
       "      <th></th>\n",
       "      <th></th>\n",
       "      <th></th>\n",
       "      <th></th>\n",
       "      <th></th>\n",
       "    </tr>\n",
       "  </thead>\n",
       "  <tbody>\n",
       "    <tr>\n",
       "      <th>2021-11-30 10:45:00+00:00</th>\n",
       "      <td>7403.6</td>\n",
       "      <td>1301.3</td>\n",
       "      <td>4616.5</td>\n",
       "      <td>12786.5</td>\n",
       "      <td>6292.3</td>\n",
       "      <td>111.1</td>\n",
       "      <td>5322.2</td>\n",
       "      <td>25.6</td>\n",
       "      <td>58.6</td>\n",
       "      <td>268.5</td>\n",
       "      <td>83.6</td>\n",
       "      <td>143.8</td>\n",
       "      <td>1107.8</td>\n",
       "      <td>5550.8</td>\n",
       "      <td>40018.5</td>\n",
       "      <td>1953.6</td>\n",
       "      <td>81366.1</td>\n",
       "      <td>45569.3</td>\n",
       "    </tr>\n",
       "  </tbody>\n",
       "</table>\n",
       "</div>"
      ],
      "text/plain": [
       "                           Kernenergie  Laufwasser  Biomasse  Braunkohle  \\\n",
       "Datum (GMT+1)                                                              \n",
       "2021-11-30 10:45:00+00:00       7403.6      1301.3    4616.5     12786.5   \n",
       "\n",
       "                           Steinkohle     Öl  Erdgas  Geothermie  \\\n",
       "Datum (GMT+1)                                                      \n",
       "2021-11-30 10:45:00+00:00      6292.3  111.1  5322.2        25.6   \n",
       "\n",
       "                           Speicherwasser  Pumpspeicher  Andere  \\\n",
       "Datum (GMT+1)                                                     \n",
       "2021-11-30 10:45:00+00:00            58.6         268.5    83.6   \n",
       "\n",
       "                           Andere Erneuerbare    Müll  Wind Offshore  \\\n",
       "Datum (GMT+1)                                                          \n",
       "2021-11-30 10:45:00+00:00               143.8  1107.8         5550.8   \n",
       "\n",
       "                           Wind Onshore   Solar     Last     Wind  \n",
       "Datum (GMT+1)                                                      \n",
       "2021-11-30 10:45:00+00:00       40018.5  1953.6  81366.1  45569.3  "
      ]
     },
     "execution_count": 3,
     "metadata": {},
     "output_type": "execute_result"
    }
   ],
   "source": [
    "df[df.Last==df.Last.max()]"
   ]
  },
  {
   "cell_type": "code",
   "execution_count": 2,
   "metadata": {},
   "outputs": [
    {
     "data": {
      "text/plain": [
       "<AxesSubplot:xlabel='Datum (GMT+1)'>"
      ]
     },
     "execution_count": 2,
     "metadata": {},
     "output_type": "execute_result"
    },
    {
     "data": {
      "image/png": "[encoded data removed]",
      "text/plain": [
       "<Figure size 432x288 with 1 Axes>"
      ]
     },
     "metadata": {
      "needs_background": "light"
     },
     "output_type": "display_data"
    }
   ],
   "source": [
    "# plot short date range\n",
    "day = '2021-08-10'\n",
    "day2 ='2021-08-16'\n",
    "df['Last'][day:day2].plot()\n",
    "df.Solar[day:day2].plot()\n",
    "df.Wind[day:day2].plot()\n"
   ]
  },
  {
   "cell_type": "code",
   "execution_count": null,
   "metadata": {},
   "outputs": [],
   "source": [
    "# plot weekly averages\n",
    "dfm=df.resample('w').sum()\n",
    "dfm.Last.plot()\n",
    "dfm.Wind.plot()\n",
    "dfm.Solar.plot()\n"
   ]
  },
  {
   "cell_type": "markdown",
   "metadata": {},
   "source": [
    "* how much would you need to scale up solar or wind production to match consumption ('Last')?\n",
    "* how big is the gap (=sum of periods when production is below consumption) for solar-only (and wind-only)?\n",
    "* minimize that gap by combining solar and wind"
   ]
  },
  {
   "cell_type": "markdown",
   "metadata": {},
   "source": [
    "### Football results\n",
    " \n",
    "Based on article in  iX Nov/Dec 2015, data source at http://www.football-data.co.uk/mmz4281/1516/D1.csv\n",
    "\n"
   ]
  },
  {
   "cell_type": "code",
   "execution_count": null,
   "metadata": {},
   "outputs": [],
   "source": [
    "import pandas as pd\n",
    "import matplotlib.pyplot as plt\n",
    "# direct read from url\n",
    "data = pd.read_csv('http://www-static.etp.physik.uni-muenchen.de/kurs/Computing/sw/source/D1s.csv')\n",
    "# data = pd.read_csv('D1s.csv')\n",
    "data.info();"
   ]
  },
  {
   "cell_type": "code",
   "execution_count": null,
   "metadata": {},
   "outputs": [],
   "source": [
    "data.head()"
   ]
  },
  {
   "cell_type": "markdown",
   "metadata": {},
   "source": [
    "#### Some examples how to explore the data"
   ]
  },
  {
   "cell_type": "code",
   "execution_count": null,
   "metadata": {
    "scrolled": true
   },
   "outputs": [],
   "source": [
    "#\n",
    "\n",
    "# matches with > 3 Auswaertstore\n",
    "data[data.ATore>3]\n",
    "# die meisten Auswaertstore\n",
    "data.ATore.max()\n",
    "#...\n",
    "# Eintrag fuer meiste Auswaertstore\n",
    "data[data.ATore==data.ATore.max()]\n",
    "#...\n",
    "\n",
    "# Heimsiege fuer Mainz\n",
    "data[data.Heim=='Mainz'][data.HTore>data.ATore].count()\n",
    "#...\n",
    "# Mittelwert Heimtore\n",
    "data.groupby('Heim')['HTore'].mean()\n",
    "#...\n",
    "# Heimtore Verlauf fuer Stuttgart\n",
    "data.HTore[data.Heim=='Stuttgart'].cumsum().plot()\n",
    "\n",
    "# Tordifferenz zufuegen\n",
    "data['TDiff']=np.abs(data.HTore-data.ATore)\n"
   ]
  },
  {
   "cell_type": "markdown",
   "metadata": {},
   "source": [
    "#### A few more things to check:\n",
    "* which match had most Heimtore, which the largest Tordifferenz?\n",
    "\n",
    "* Make plot of season distribution for Heim und Auswärtstore for your favorite team.\n",
    "\n",
    "* *For statistics experts:* Determine the distribution of the number of goals per match, i.e. how often occur how many goals, does it follow the Poisson statistics?\n"
   ]
  },
  {
   "cell_type": "code",
   "execution_count": null,
   "metadata": {},
   "outputs": [],
   "source": []
  }
 ],
 "metadata": {
  "anaconda-cloud": {},
  "kernelspec": {
   "display_name": "Python 3 (ipykernel)",
   "language": "python",
   "name": "python3"
  },
  "language_info": {
   "codemirror_mode": {
    "name": "ipython",
    "version": 3
   },
   "file_extension": ".py",
   "mimetype": "text/x-python",
   "name": "python",
   "nbconvert_exporter": "python",
   "pygments_lexer": "ipython3",
   "version": "3.9.12"
  },
  "toc": {
   "base_numbering": 1,
   "nav_menu": {},
   "number_sections": true,
   "sideBar": true,
   "skip_h1_title": false,
   "title_cell": "Table of Contents",
   "title_sidebar": "Contents",
   "toc_cell": false,
   "toc_position": {},
   "toc_section_display": true,
   "toc_window_display": false
  }
 },
 "nbformat": 4,
 "nbformat_minor": 4
}
