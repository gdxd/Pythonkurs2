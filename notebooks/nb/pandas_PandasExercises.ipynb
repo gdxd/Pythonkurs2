{
 "cells": [
  {
   "cell_type": "markdown",
   "metadata": {},
   "source": [
    "## Exercises for Pandas\n",
    "\n",
    "### Notebook examples\n",
    "* Check in detail the examples presented\n",
    "  * Vary methods, outputs, plots, ...\n",
    "  \n",
    "  \n",
    "### Titanic Data with Pandas\n",
    "Using Pandas-IO, Dataframes and the groupby Function the analysis of survival rates by class and sex is rather straightforward ...\n",
    "\n",
    "Solution: [pd_titanic.py](http://www-static.etp.physik.uni-muenchen.de/kurs/Computing/python2/source/pd_titanic.py)\n",
    "\n",
    "### Weather Data\n",
    "* Investigate other variables or aggregations, e.g. variance of Temperatur, Sonnenschein (daily sun-shine), Schneehöhe (Snow-height), Number of days with  snow, ...\n",
    "* Last night (Feb 26, 2018) was reportedly the coldest night of this winter with -27 degree. Check in the Zugspitze data for yearly minimum temperature. How often has it been colder?\n",
    "* Take data from other weather stations ([DWD Archiv](https://www.dwd.de/DE/leistungen/klimadatendeutschland/klarchivtagmonat.html), i.e. Hohenpeißenberg, Helgoland, ...)\n",
    "  * here an [example notebook](http://www-static.etp.physik.uni-muenchen.de/kurs/Computing/sw/nb/AnalysisOfMunichWeatherData.ipynb) contributed by J.Kühne in the 2020 course\n",
    "\n",
    " \n"
   ]
  },
  {
   "cell_type": "markdown",
   "metadata": {},
   "source": [
    "### Energy Charts\n",
    "\n",
    "How to manage the transition to renewable energy production is a highly disputet and controversial subject.\n",
    "Interesting input to the discussion provide the energy-charts \n",
    "https://www.energy-charts.info/index.html?l=de&c=DE\n",
    "which show timeline of electricity usage together with production from different sources. One can also export the data in csv format and use Pandas for more detailed investigations:\n"
   ]
  },
  {
   "cell_type": "code",
   "execution_count": null,
   "metadata": {},
   "outputs": [],
   "source": [
    "import matplotlib.pyplot as plt\n",
    "import pandas as pd\n",
    "import datetime\n",
    "import numpy as np\n",
    "\n",
    "df=pd.read_csv('http://www-static.etp.physik.uni-muenchen.de/kurs/Computing/sw/source/energy-charts_Oeffentliche_Nettostromerzeugung_in_Deutschland_2021.csv',index_col='Datum (GMT+1)',parse_dates=['Datum (GMT+1)'],engine='python')\n",
    "print (df.size)\n",
    "print (df.columns)\n",
    "# combine wind\n",
    "df['Wind'] = df['Wind Onshore'] + df['Wind Offshore']"
   ]
  },
  {
   "cell_type": "code",
   "execution_count": null,
   "metadata": {},
   "outputs": [],
   "source": [
    "# plot short date range\n",
    "day = '2021-08-10'\n",
    "day2 ='2021-08-16'\n",
    "df['Last'][day:day2].plot()\n",
    "df.Solar[day:day2].plot()\n",
    "df.Wind[day:day2].plot()\n"
   ]
  },
  {
   "cell_type": "code",
   "execution_count": null,
   "metadata": {},
   "outputs": [],
   "source": [
    "# plot weekly averages\n",
    "dfm=df.resample('w').sum()\n",
    "dfm.Last.plot()\n",
    "dfm.Wind.plot()\n",
    "dfm.Solar.plot()\n"
   ]
  },
  {
   "cell_type": "markdown",
   "metadata": {},
   "source": [
    "* how much would you need to scale up solar or wind production to match consumption ('Last')?\n",
    "* how big is the gap (=sum of periods when production is below consumption) for solar-only (and wind-only)?\n",
    "* minimize that gap by combining solar and wind"
   ]
  },
  {
   "cell_type": "markdown",
   "metadata": {},
   "source": [
    "### Football results\n",
    " \n",
    "Based on article in  iX Nov/Dec 2015, data source at http://www.football-data.co.uk/mmz4281/1516/D1.csv\n",
    "\n"
   ]
  },
  {
   "cell_type": "code",
   "execution_count": null,
   "metadata": {},
   "outputs": [],
   "source": [
    "import pandas as pd\n",
    "import matplotlib.pyplot as plt\n",
    "# direct read from url\n",
    "data = pd.read_csv('http://www-static.etp.physik.uni-muenchen.de/kurs/Computing/sw/source/D1s.csv')\n",
    "# data = pd.read_csv('D1s.csv')\n",
    "data.info();"
   ]
  },
  {
   "cell_type": "code",
   "execution_count": null,
   "metadata": {},
   "outputs": [],
   "source": [
    "data.head()"
   ]
  },
  {
   "cell_type": "markdown",
   "metadata": {},
   "source": [
    "#### Some examples how to explore the data"
   ]
  },
  {
   "cell_type": "code",
   "execution_count": null,
   "metadata": {
    "scrolled": true
   },
   "outputs": [],
   "source": [
    "#\n",
    "\n",
    "# matches with > 3 Auswaertstore\n",
    "data[data.ATore>3]\n",
    "# die meisten Auswaertstore\n",
    "data.ATore.max()\n",
    "#...\n",
    "# Eintrag fuer meiste Auswaertstore\n",
    "data[data.ATore==data.ATore.max()]\n",
    "#...\n",
    "\n",
    "# Heimsiege fuer Mainz\n",
    "data[data.Heim=='Mainz'][data.HTore>data.ATore].count()\n",
    "#...\n",
    "# Mittelwert Heimtore\n",
    "data.groupby('Heim')['HTore'].mean()\n",
    "#...\n",
    "# Heimtore Verlauf fuer Stuttgart\n",
    "data.HTore[data.Heim=='Stuttgart'].cumsum().plot()\n",
    "\n",
    "# Tordifferenz zufuegen\n",
    "data['TDiff']=np.abs(data.HTore-data.ATore)\n"
   ]
  },
  {
   "cell_type": "markdown",
   "metadata": {},
   "source": [
    "#### A few more things to check:\n",
    "* which match had most Heimtore, which the largest Tordifferenz?\n",
    "\n",
    "* Make plot of season distribution for Heim und Auswärtstore for your favorite team.\n",
    "\n",
    "* *For statistics experts:* Determine the distribution of the number of goals per match, i.e. how often occur how many goals, does it follow the Poisson statistics?\n"
   ]
  },
  {
   "cell_type": "code",
   "execution_count": null,
   "metadata": {},
   "outputs": [],
   "source": []
  }
 ],
 "metadata": {
  "anaconda-cloud": {},
  "kernelspec": {
   "display_name": "Python 3 (ipykernel)",
   "language": "python",
   "name": "python3"
  },
  "language_info": {
   "codemirror_mode": {
    "name": "ipython",
    "version": 3
   },
   "file_extension": ".py",
   "mimetype": "text/x-python",
   "name": "python",
   "nbconvert_exporter": "python",
   "pygments_lexer": "ipython3",
   "version": "3.9.7"
  },
  "toc": {
   "base_numbering": 1,
   "nav_menu": {},
   "number_sections": true,
   "sideBar": true,
   "skip_h1_title": false,
   "title_cell": "Table of Contents",
   "title_sidebar": "Contents",
   "toc_cell": false,
   "toc_position": {},
   "toc_section_display": true,
   "toc_window_display": false
  }
 },
 "nbformat": 4,
 "nbformat_minor": 4
}
