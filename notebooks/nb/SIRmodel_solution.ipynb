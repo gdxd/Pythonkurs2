{
 "cells": [
  {
   "cell_type": "markdown",
   "metadata": {},
   "source": [
    "## Solutions\n",
    "\n",
    "### Problem 1\n",
    "* Task description / introduction to SIR model: see [this notebook](SIRmodel.ipynb)"
   ]
  },
  {
   "cell_type": "code",
   "execution_count": null,
   "metadata": {},
   "outputs": [],
   "source": [
    "import numpy as np\n",
    "import matplotlib.pyplot as plt\n",
    "from scipy.integrate import odeint"
   ]
  },
  {
   "cell_type": "code",
   "execution_count": null,
   "metadata": {},
   "outputs": [],
   "source": [
    "def F(y, t, N, c, w):\n",
    "  \"return the derivates defining the differential equations of the SIR model, y = (S, I, R)\"\n",
    "  S, I, R = y\n",
    "  dS = -c*S/N*I\n",
    "  dI =  c*S/N*I -w*I\n",
    "  dR =           w*I\n",
    "  return dS, dI, dR"
   ]
  },
  {
   "cell_type": "code",
   "execution_count": null,
   "metadata": {},
   "outputs": [],
   "source": [
    "# solve system of ODEs\n",
    "def SolveSIRAndPlot(F, y0, ts, args):\n",
    "    # solve ODE\n",
    "    S, I, R = odeint(F, y0, ts, args).T\n",
    "    # plot result\n",
    "    plt.plot(ts, S, label = \"susceptible\")\n",
    "    plt.plot(ts, I, label = \"infected\")\n",
    "    plt.plot(ts, R, label = \"recovered\")\n",
    "    plt.xlabel(\"time [days]\")\n",
    "    plt.ylabel(\"individuals [1]\")\n",
    "    plt.legend()\n",
    "    plt.show()"
   ]
  },
  {
   "cell_type": "code",
   "execution_count": null,
   "metadata": {},
   "outputs": [],
   "source": [
    "# time steps [assume days as time unit]\n",
    "def TimeSteps(t_min, t_max, dt):\n",
    "    return np.arange(t_min, t_max+dt, dt)"
   ]
  },
  {
   "cell_type": "code",
   "execution_count": null,
   "metadata": {},
   "outputs": [],
   "source": [
    "# initial conditions and constants\n",
    "y0 = (999, 1, 0) # (note: we use floats although individual counts are integers)\n",
    "N  = sum(y0)\n",
    "c  = 0.10\n",
    "w  = 0.05"
   ]
  },
  {
   "cell_type": "code",
   "execution_count": null,
   "metadata": {},
   "outputs": [],
   "source": [
    "print(\"r =\", c/w, \"(basic reproduction number)\")\n",
    "if c/w > N/y0[0]: print(\"Outbreak\")"
   ]
  },
  {
   "cell_type": "code",
   "execution_count": null,
   "metadata": {},
   "outputs": [],
   "source": [
    "ts = TimeSteps(t_min = 0, t_max = 500, dt = 1)"
   ]
  },
  {
   "cell_type": "code",
   "execution_count": null,
   "metadata": {},
   "outputs": [],
   "source": [
    "SolveSIRAndPlot(F, y0, ts, args = (N, c, w))"
   ]
  },
  {
   "cell_type": "markdown",
   "metadata": {},
   "source": [
    "To get a feeling for the impact of the model parameters on the time evolution, we can use [``ipywidgets``](https://ipywidgets.readthedocs.io/)  in jupyter notebooks, which allow us to add interactive sliders to change the model parameters and call a function whenever the slider has been moved:"
   ]
  },
  {
   "cell_type": "code",
   "execution_count": null,
   "metadata": {},
   "outputs": [],
   "source": [
    "from ipywidgets import interact\n",
    "interact(lambda c: c**2, c=(0, 0.5, 0.05));"
   ]
  },
  {
   "cell_type": "code",
   "execution_count": null,
   "metadata": {},
   "outputs": [],
   "source": [
    "%matplotlib inline\n",
    "from ipywidgets import interact\n",
    "interact(lambda c, w, t_max: \n",
    "             SolveSIRAndPlot(F, y0, TimeSteps(0, t_max, 5), \n",
    "                             args = (N, c, w)), \n",
    "         c=(0, 0.5, 0.05),\n",
    "         w=(0, 0.5, 0.05),\n",
    "         t_max=(500, 2500, 500),\n",
    "         continuous_update=False);"
   ]
  },
  {
   "cell_type": "markdown",
   "metadata": {},
   "source": [
    "### Problem 2\n",
    "\n",
    "This is an open-ended project task. Here, we will just look at some basics to get you started on your own investigations."
   ]
  },
  {
   "cell_type": "code",
   "execution_count": null,
   "metadata": {},
   "outputs": [],
   "source": [
    "### same code as before...\n",
    "import numpy as np\n",
    "import pandas as pd\n",
    "import matplotlib.pyplot as plt\n",
    "from requests_cache import CachedSession\n",
    "session = CachedSession('../data/cache_plot_corona_cases', backend='sqlite', expire_after = 86400)\n",
    "\n",
    "def SaveURL(url, path):\n",
    "  with open(path, \"w\") as outf:\n",
    "    outf.write(GetURL(url))\n",
    "    \n",
    "def GetURL(url):\n",
    "  response = session.get(url)\n",
    "  print(f\"Loaded {url} from cache: {response.from_cache}\")\n",
    "  if response.status_code != 200:\n",
    "    print(f\"Request failed with code {response.status_code}\")\n",
    "    return None\n",
    "  else:\n",
    "    return response.text\n",
    "\n",
    "def LoadDataset(url, local_path, date_column, cases_column):\n",
    "  SaveURL(url, local_path)\n",
    "  df = pd.read_csv(local_path, parse_dates = [date_column])\\\n",
    "         .set_index(date_column)\n",
    "  print(\"Last data point:\")\n",
    "  print(df.tail(1)[cases_column])\n",
    "  return df\n",
    "\n",
    "# JHU, documentation: https://github.com/owid/covid-19-data/tree/master/public/data#readme\n",
    "dfj = LoadDataset(\"https://raw.githubusercontent.com/owid/covid-19-data/master/public/data/jhu/new_cases.csv\", \n",
    "                  \"/tmp/new_cases.csv\",\n",
    "                  \"date\",\n",
    "                  \"Germany\")"
   ]
  },
  {
   "cell_type": "markdown",
   "metadata": {},
   "source": [
    "Let's pick the numbers for Germany:"
   ]
  },
  {
   "cell_type": "code",
   "execution_count": null,
   "metadata": {},
   "outputs": [],
   "source": [
    "df = dfj[[\"Germany\"]]"
   ]
  },
  {
   "cell_type": "markdown",
   "metadata": {},
   "source": [
    "First issue with the data:  Sometimes the number of new cases per day are negative.\n",
    "\n",
    "Reason given in README: \n",
    "> Note: the number of cases or deaths reported by any institution—including JHU, the WHO, the ECDC and others—on a given day does not necessarily represent the actual number on that date. This is because of the long reporting chain that exists between a new case/death and its inclusion in statistics. This also means that negative values in cases and deaths can sometimes appear when a country corrects historical data, because it had previously overestimated the number of cases/deaths. Alternatively, large changes can sometimes (although rarely) be made to a country's entire time series if JHU decides (and has access to the necessary data) to correct values retrospectively."
   ]
  },
  {
   "cell_type": "code",
   "execution_count": null,
   "metadata": {},
   "outputs": [],
   "source": [
    "df.describe()"
   ]
  },
  {
   "cell_type": "markdown",
   "metadata": {},
   "source": [
    "Fortunately, pandas provides a handy solution:"
   ]
  },
  {
   "cell_type": "code",
   "execution_count": null,
   "metadata": {},
   "outputs": [],
   "source": [
    "df.clip(lower = 0).describe()"
   ]
  },
  {
   "cell_type": "markdown",
   "metadata": {},
   "source": [
    "What is the problem with this?"
   ]
  },
  {
   "cell_type": "code",
   "execution_count": null,
   "metadata": {},
   "outputs": [],
   "source": [
    "df.sum() - df.clip(lower = 0).sum()"
   ]
  },
  {
   "cell_type": "markdown",
   "metadata": {},
   "source": [
    "We're artificially reducing the sum. But wait... that's today's number..."
   ]
  },
  {
   "cell_type": "code",
   "execution_count": null,
   "metadata": {},
   "outputs": [],
   "source": [
    "df.index[df[\"Germany\"] < 0]"
   ]
  },
  {
   "cell_type": "markdown",
   "metadata": {},
   "source": [
    "It seems only the last value is wrong, so probably not too much a concern."
   ]
  },
  {
   "cell_type": "markdown",
   "metadata": {},
   "source": [
    "Second issue with the data: Day-to-day fluctuations. Unlikely to be real."
   ]
  },
  {
   "cell_type": "code",
   "execution_count": null,
   "metadata": {},
   "outputs": [],
   "source": [
    "# simplest solution: rolling average (https://pandas.pydata.org/docs/reference/api/pandas.DataFrame.rolling.html)\n",
    "df = df.assign(rolling = df[\"Germany\"].rolling(\"7d\", center = True).mean())"
   ]
  },
  {
   "cell_type": "code",
   "execution_count": null,
   "metadata": {},
   "outputs": [],
   "source": [
    "df.tail(20)"
   ]
  },
  {
   "cell_type": "code",
   "execution_count": null,
   "metadata": {},
   "outputs": [],
   "source": [
    "# plot\n",
    "import matplotlib.pyplot as plt\n",
    "plt.rcParams['figure.figsize'] = [16, 8]\n",
    "plt.plot(df[\"Germany\"], \"b\", alpha = 0.4)\n",
    "plt.plot(df[\"rolling\"], \"b\")"
   ]
  },
  {
   "cell_type": "code",
   "execution_count": null,
   "metadata": {},
   "outputs": [],
   "source": [
    "df = df.assign(weekday = df.index.weekday)\n",
    "df"
   ]
  },
  {
   "cell_type": "code",
   "execution_count": null,
   "metadata": {},
   "outputs": [],
   "source": [
    "df.loc[\"01.11.2020\":\"30.04.2021\"].plot.scatter(\"weekday\", \"Germany\", alpha = 0.2);"
   ]
  },
  {
   "cell_type": "markdown",
   "metadata": {},
   "source": [
    "(Hard to see anything here as numbers vary a lot even when selecting a subset.)"
   ]
  },
  {
   "cell_type": "code",
   "execution_count": null,
   "metadata": {},
   "outputs": [],
   "source": [
    "df = df.assign(avg = df[\"Germany\"] / df[\"rolling\"])"
   ]
  },
  {
   "cell_type": "code",
   "execution_count": null,
   "metadata": {},
   "outputs": [],
   "source": [
    "df.tail(20)"
   ]
  },
  {
   "cell_type": "code",
   "execution_count": null,
   "metadata": {},
   "outputs": [],
   "source": [
    "df.plot.scatter(\"weekday\", \"avg\", alpha = 0.2);"
   ]
  },
  {
   "cell_type": "code",
   "execution_count": null,
   "metadata": {},
   "outputs": [],
   "source": []
  }
 ],
 "metadata": {
  "@webio": {
   "lastCommId": null,
   "lastKernelId": null
  },
  "kernelspec": {
   "display_name": "Python 3 (ipykernel)",
   "language": "python",
   "name": "python3"
  },
  "language_info": {
   "codemirror_mode": {
    "name": "ipython",
    "version": 3
   },
   "file_extension": ".py",
   "mimetype": "text/x-python",
   "name": "python",
   "nbconvert_exporter": "python",
   "pygments_lexer": "ipython3",
   "version": "3.9.12"
  }
 },
 "nbformat": 4,
 "nbformat_minor": 4
}
