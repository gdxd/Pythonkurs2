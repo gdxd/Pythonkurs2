{
 "cells": [
  {
   "cell_type": "code",
   "execution_count": null,
   "id": "5cd492db-fccd-4443-a576-e94c15788498",
   "metadata": {},
   "outputs": [],
   "source": [
    "import matplotlib.pyplot as plt\n",
    "import pandas as pd\n",
    "import datetime\n",
    "import numpy as np\n",
    "# csv data file from zip file download from \n",
    "# http://www.dwd.de/DE/leistungen/klimadatendeutschland/klarchivtagmonat.html\n",
    "# Messdatum als index und Interpretation als Datum (nicht nur String) \n",
    "#df=pd.read_csv('http://www-static.etp.physik.uni-muenchen.de/kurs/Computing/sw/source/produkt_klima_Tageswerte_19000801_20151231_05792.txt',';\\s*',index_col='MESS_DATUM',parse_dates=['MESS_DATUM'],skipfooter=1)\n",
    "#df=pd.read_csv('http://www-static.etp.physik.uni-muenchen.de/kurs/Computing/sw/source/produkt_klima_tag_19000801_20181231_05792.txt',';\\s*',index_col='MESS_DATUM',parse_dates=['MESS_DATUM'],engine='python')\n",
    "\n",
    "df=pd.read_csv('http://www-static.etp.physik.uni-muenchen.de/kurs/Computing/sw/source/energy-charts_Oeffentliche_Nettostromerzeugung_in_Deutschland_2021.csv',index_col='Datum (GMT+1)',parse_dates=['Datum (GMT+1)'],engine='python')\n",
    "print (df.size)\n",
    "print (df.columns)\n"
   ]
  },
  {
   "cell_type": "code",
   "execution_count": null,
   "id": "b0af93a1-d1ff-4b36-a8eb-445fc610a46c",
   "metadata": {},
   "outputs": [],
   "source": [
    "df['REother']=df['Laufwasser'] + df['Biomasse'] + df['Speicherwasser'] + df['Pumpspeicher'] + df['Geothermie']\n",
    "df['LastRed']=df.Last-df.REother\n",
    "df['Wind'] = df['Wind Onshore'] + df['Wind Offshore']"
   ]
  },
  {
   "cell_type": "code",
   "execution_count": null,
   "id": "36e8812f-0ae3-460d-90e9-be4045cde1a0",
   "metadata": {},
   "outputs": [],
   "source": [
    "df.describe()"
   ]
  },
  {
   "cell_type": "code",
   "execution_count": null,
   "id": "3dd494c1-f61e-4d98-ae0b-0ff3497c1139",
   "metadata": {},
   "outputs": [],
   "source": [
    "retypes = ['Laufwasser', 'Biomasse', 'Geothermie', 'Speicherwasser', 'Pumpspeicher', 'Andere Erneuerbare', 'Müll', 'Wind Offshore', 'Wind Onshore',\n",
    "       'Solar']\n",
    "reotot = df.REother.sum()\n",
    "ltot = df.Last.sum()\n",
    "for r in retypes+['Last']:\n",
    "    rtot = df[r].sum()\n",
    "    print(f\"{r:20s} {rtot:10.0f}  {rtot/reotot:.3f}  {rtot/ltot:.3f}\")"
   ]
  },
  {
   "cell_type": "code",
   "execution_count": null,
   "id": "75eeb1c0-716b-42b7-9ef6-3555798f6a76",
   "metadata": {},
   "outputs": [],
   "source": [
    "df.Last.sum()/(4*1e6)"
   ]
  },
  {
   "cell_type": "code",
   "execution_count": null,
   "id": "f2768b06-b218-4a54-8b63-f083138372a9",
   "metadata": {},
   "outputs": [],
   "source": [
    "days = '2021-08-05'\n",
    "days2 ='2021-08-16'\n",
    "dayw = '2021-02-05'\n",
    "dayw2 ='2021-02-16'\n",
    "# random winter period\n",
    "df.Last[dayw:dayw2].plot()\n",
    "df.Solar[dayw:dayw2].plot()\n",
    "df.Wind[dayw:dayw2].plot()\n",
    "df.REother[dayw:dayw2].plot()\n",
    "plt.legend();\n",
    "#(df.Solar[day:day2]*fsol*rsol+df.Wind[day:day2]*fwin*rwin).plot()\n",
    "fig=plt.figure()\n",
    "# random summer period\n",
    "df.Last[days:days2].plot()\n",
    "df.Solar[days:days2].plot()\n",
    "df.Wind[days:days2].plot()\n",
    "df.REother[days:days2].plot()\n",
    "plt.legend();"
   ]
  },
  {
   "cell_type": "code",
   "execution_count": null,
   "id": "40a84760-4426-4d37-bcf7-b8322d2bd340",
   "metadata": {},
   "outputs": [],
   "source": [
    "# weekly sum over year\n",
    "dfm=df.resample('w').sum()\n",
    "dfm.Last.plot()\n",
    "dfm.Wind.plot()\n",
    "dfm.Solar.plot()\n",
    "dfm.REother.plot()\n",
    "plt.legend();"
   ]
  },
  {
   "cell_type": "markdown",
   "id": "c358fe27-d7ed-4421-b147-6a44d82910e5",
   "metadata": {},
   "source": [
    "#### Ratio last vs solar / wind\n"
   ]
  },
  {
   "cell_type": "code",
   "execution_count": null,
   "id": "10465e63-e302-402e-b88c-03a30d6359fb",
   "metadata": {},
   "outputs": [],
   "source": [
    "\n",
    "tl=df.LastRed.sum()\n",
    "tlt=df.Last.sum()\n",
    "\n",
    "fsol = tl/df.Solar.sum()\n",
    "fwin = tl/df.Wind.sum()\n",
    "print(f\"yearly sum ratios: Last/Solar: {fsol:.2f} Last/Wind: {fwin:.2f}\")\n"
   ]
  },
  {
   "cell_type": "code",
   "execution_count": null,
   "id": "cc3a4e03-77a8-477b-afbb-12e92ad07644",
   "metadata": {},
   "outputs": [],
   "source": [
    "# determine gap between last and solar/wind\n",
    "dfc = df[df.Solar*fsol<df.LastRed]\n",
    "smiss=(dfc.LastRed-dfc.Solar*fsol).sum()\n",
    "dfc = df[df.Wind*fwin<df.LastRed]\n",
    "wmiss=(dfc.LastRed-dfc.Wind*fwin).sum()\n",
    "print(f\"yearly relative gap for scaled-up solar: {smiss/tl:.3f} and wind: {wmiss/tl:.3f}\")"
   ]
  },
  {
   "cell_type": "code",
   "execution_count": null,
   "id": "5b92a3ce-9ed9-44b5-afb7-93698fa03095",
   "metadata": {},
   "outputs": [],
   "source": [
    "tl/tlt"
   ]
  },
  {
   "cell_type": "code",
   "execution_count": null,
   "id": "04d5039a-ebff-4a1e-b51b-b71730038dc3",
   "metadata": {},
   "outputs": [],
   "source": [
    "# plot gap as function of solar/wind mix\n",
    "rsa = np.linspace(0,0.5,20)\n",
    "fa=np.zeros(20)\n",
    "for i,rsol in enumerate(rsa):\n",
    "    rwin = 1-rsol\n",
    "    dfc = df[(df.Solar*fsol*rsol+df.Wind*fwin*rwin)<df.LastRed]\n",
    "    emiss=(dfc.LastRed-(dfc.Solar*fsol*rsol+dfc.Wind*fwin*rwin)).sum()\n",
    "    f=emiss/tl\n",
    "    fa[i]=f\n",
    "#    print(rsol,f)\n",
    "plt.plot(rsa,fa)"
   ]
  },
  {
   "cell_type": "code",
   "execution_count": null,
   "id": "177e5e67-da3d-4abd-8810-2ee77481da1d",
   "metadata": {},
   "outputs": [],
   "source": [
    "rsol = 0.22\n",
    "rwin = 1-rsol\n",
    "fsol*rsol,fwin*rwin"
   ]
  },
  {
   "cell_type": "markdown",
   "id": "e3b3ca04-4b7f-4ab4-bb6c-e3b6e3da1b05",
   "metadata": {},
   "source": [
    "#### Fit to determine best solar/wind mix "
   ]
  },
  {
   "cell_type": "code",
   "execution_count": null,
   "id": "09df21f4-aae8-409f-a4f9-fdc8b82013a8",
   "metadata": {},
   "outputs": [],
   "source": [
    "def chi2(params):\n",
    "    rsol = params[0]\n",
    "    rwin = 1-rsol\n",
    "    dfc = df[(df.Solar*fsol*rsol+df.Wind*fwin*rwin)<df.LastRed]\n",
    "    emiss=(dfc.LastRed-(dfc.Solar*fsol*rsol+dfc.Wind*fwin*rwin)).sum()\n",
    "    f=emiss/tlt\n",
    "    return f\n"
   ]
  },
  {
   "cell_type": "code",
   "execution_count": null,
   "id": "2af0e623-dc3b-46d3-84cd-6da3444b4910",
   "metadata": {},
   "outputs": [],
   "source": [
    "from scipy.optimize import minimize\n",
    "result = minimize(chi2, (0.5))\n",
    "print(result)"
   ]
  },
  {
   "cell_type": "markdown",
   "id": "c439afb2-254e-4e88-be5d-024411fb56b6",
   "metadata": {},
   "source": [
    "---\n",
    "\n",
    "**optimize solar/wind with constraint that excess energy = 3 * gap-energy**"
   ]
  },
  {
   "cell_type": "code",
   "execution_count": null,
   "id": "ea580ac2-5327-4e47-8f6b-8547c29dca14",
   "metadata": {},
   "outputs": [],
   "source": [
    "# constrain chi2 fit such that excess-energy = 3 times gap-energy using constraint option in fit\n",
    "\n",
    "def chi2c(params):\n",
    "    rsol,rf = params\n",
    "    rwin = 1-rsol\n",
    "    dfc = df[(df.Solar*fsol*rsol+df.Wind*fwin*rwin)*rf<df.LastRed]\n",
    "    emiss=(dfc.LastRed-(dfc.Solar*fsol*rsol+dfc.Wind*fwin*rwin)*rf).sum()\n",
    "    dfp = df[(df.Solar*fsol*rsol+df.Wind*fwin*rwin)*rf>df.LastRed]\n",
    "    eplus=-(dfp.LastRed-(dfp.Solar*fsol*rsol+dfp.Wind*fwin*rwin)*rf).sum()\n",
    "  \n",
    "    f=emiss/tlt \n",
    "    return f\n",
    "def constr(params):\n",
    "    rsol,rf = params\n",
    "    rwin = 1-rsol\n",
    "    dfc = df[(df.Solar*fsol*rsol+df.Wind*fwin*rwin)*rf<df.LastRed]\n",
    "    emiss=(dfc.LastRed-(dfc.Solar*fsol*rsol+dfc.Wind*fwin*rwin)*rf).sum()\n",
    "    dfp = df[(df.Solar*fsol*rsol+df.Wind*fwin*rwin)*rf>df.LastRed]\n",
    "    eplus=-(dfp.LastRed-(dfp.Solar*fsol*rsol+dfp.Wind*fwin*rwin)*rf).sum()\n",
    "    \n",
    "    \n",
    "    f=emiss-eplus/3\n",
    "    return f\n"
   ]
  },
  {
   "cell_type": "code",
   "execution_count": null,
   "id": "6a009785-88a7-4e04-81de-3f7730f3612c",
   "metadata": {},
   "outputs": [],
   "source": [
    "# see https://people.duke.edu/~ccc14/sta-663-2017/14C_Optimization_In_Python.html \n",
    "cons = ({'type': 'eq', 'fun' : constr})\n",
    "result = minimize(chi2c, (0.5,1.), constraints=cons)"
   ]
  },
  {
   "cell_type": "code",
   "execution_count": null,
   "id": "dfd46bca-bf78-4f14-bfdc-d25b4f9aeb6c",
   "metadata": {},
   "outputs": [],
   "source": [
    "result"
   ]
  },
  {
   "cell_type": "code",
   "execution_count": null,
   "id": "a5c492e4-fa7a-43a9-9a7a-3835e3420518",
   "metadata": {},
   "outputs": [],
   "source": [
    "constr(result.x)"
   ]
  },
  {
   "cell_type": "code",
   "execution_count": null,
   "id": "3b707e92-7579-4873-ab41-c2eae5dc0757",
   "metadata": {},
   "outputs": [],
   "source": [
    "rsol,rf = result.x\n",
    "rwin = 1 - rsol\n",
    "fsoltot = fsol * rsol * rf\n",
    "fwintot = fwin * rwin * rf\n",
    "print(f\"Factor for solar {fsoltot:.2f}, Factor for wind {fwintot:.2f}\") "
   ]
  },
  {
   "cell_type": "code",
   "execution_count": null,
   "id": "85b69c04-1b12-4602-b302-34b6ee7cffd3",
   "metadata": {},
   "outputs": [],
   "source": [
    "solsum=df.Solar.sum()*fsoltot\n",
    "winsum=df.Wind.sum()*fwintot\n",
    "print(f\" {solsum=:.1f} {winsum=:.1f} {tl=:.1f}\")\n",
    "print(f\" ratio: {(solsum+winsum)/tl:.3f}\")"
   ]
  },
  {
   "cell_type": "code",
   "execution_count": null,
   "id": "3b77762b-1e3a-4a14-b25c-cd8775f3fe53",
   "metadata": {},
   "outputs": [],
   "source": [
    "df['SWscaled']=df.Solar*fsoltot+df.Wind*fwintot\n",
    "dfm=df.resample('w').sum()\n",
    "dfm.LastRed.plot()\n",
    "dfm.Wind.plot()\n",
    "dfm.Solar.plot()\n",
    "dfm.SWscaled.plot()"
   ]
  },
  {
   "cell_type": "code",
   "execution_count": null,
   "id": "97ca1de6-8a10-4a42-993c-321ad5fa2b6c",
   "metadata": {},
   "outputs": [],
   "source": [
    "days = '2021-08-05'\n",
    "days2 ='2021-08-16'\n",
    "dayw = '2021-02-05'\n",
    "dayw2 ='2021-02-16'\n",
    "# random winter period\n",
    "df.LastRed[dayw:dayw2].plot()\n",
    "(df.Solar[dayw:dayw2]*fsoltot).plot()\n",
    "(df.Wind[dayw:dayw2]*fwintot).plot()\n",
    "df.SWscaled[dayw:dayw2].plot()\n",
    "plt.legend();\n",
    "#(df.Solar[day:day2]*fsol*rsol+df.Wind[day:day2]*fwin*rwin).plot()\n",
    "fig=plt.figure()\n",
    "# random summer period\n",
    "df.LastRed[days:days2].plot()\n",
    "(df.Solar[days:days2]*fsoltot).plot()\n",
    "(df.Wind[days:days2]*fwintot).plot()\n",
    "df.SWscaled[days:days2].plot()\n",
    "plt.legend();"
   ]
  },
  {
   "cell_type": "code",
   "execution_count": null,
   "id": "5af251b0-b98c-47d6-ae26-762178f1eb61",
   "metadata": {},
   "outputs": [],
   "source": [
    "(df.SWscaled-df.LastRed).hist(bins=50)"
   ]
  },
  {
   "cell_type": "code",
   "execution_count": null,
   "id": "2d1d64c5-21b1-46d8-b3f1-99acda294ce2",
   "metadata": {},
   "outputs": [],
   "source": [
    "dfw=df['Solar'].resample('w').sum()\n",
    "#dfw=df['Wind Offshore'].resample('w').sum()\n",
    "dfw=df['Wind Onshore'].resample('w').sum()\n",
    "dfw.plot();"
   ]
  },
  {
   "cell_type": "code",
   "execution_count": null,
   "id": "2ca7944c-93da-41e1-8ac3-249bfcfa5c7c",
   "metadata": {},
   "outputs": [],
   "source": [
    "dfd=df.resample('d').sum()"
   ]
  },
  {
   "cell_type": "code",
   "execution_count": null,
   "id": "99cd4993-c303-4480-ad2c-648998d411c1",
   "metadata": {},
   "outputs": [],
   "source": [
    "plt.plot(df['Wind Offshore'],df['Wind Onshore'],'.')"
   ]
  },
  {
   "cell_type": "code",
   "execution_count": null,
   "id": "9f4726ac-eb5a-40cb-846a-6bba868aec6b",
   "metadata": {},
   "outputs": [],
   "source": [
    "plt.plot(dfd['Solar'],dfd['Wind'],'.')"
   ]
  },
  {
   "cell_type": "code",
   "execution_count": null,
   "id": "b4ba6701-51d6-4273-a863-91cc67b66afc",
   "metadata": {},
   "outputs": [],
   "source": [
    "df.Last.sum(),df.Solar.sum(),df.Wind.sum()"
   ]
  },
  {
   "cell_type": "code",
   "execution_count": null,
   "id": "69420459-9871-4aee-b0b2-152fe4a6b24d",
   "metadata": {},
   "outputs": [],
   "source": [
    "tl=df.Last.sum()\n",
    "fsol = tl/df.Solar.sum()\n",
    "fwin = tl/df.Wind.sum()\n",
    "fsol,fwin\n"
   ]
  },
  {
   "cell_type": "code",
   "execution_count": null,
   "id": "e6dc1126-b33a-48e6-8ba2-c9ade454cde2",
   "metadata": {},
   "outputs": [],
   "source": [
    "dfc = df[df.Solar*fsol<df.Last]\n",
    "smiss=(dfc.Last-dfc.Solar*fsol).sum()\n",
    "dfc = df[df.Wind*fwin<df.Last]\n",
    "wmiss=(dfc.Last-dfc.Wind*fwin).sum()\n",
    "smiss/tl,wmiss/tl"
   ]
  },
  {
   "cell_type": "code",
   "execution_count": null,
   "id": "011807a3-52f3-4b6d-976a-659298927281",
   "metadata": {},
   "outputs": [],
   "source": [
    "\n",
    "rsol = 0.3\n",
    "rwin = 1-0.3\n",
    "dfc = df[(df.Solar*fsol*rsol+df.Wind*fwin*rwin+df.Pumpspeicher)<df.Last]\n",
    "emiss=(dfc.Last-(dfc.Solar*fsol*rsol+dfc.Wind*fwin*rwin+df.Pumpspeicher)).sum()\n",
    "emiss/tl"
   ]
  },
  {
   "cell_type": "code",
   "execution_count": null,
   "id": "2ad07141-53fe-416b-be3c-f3f4eaf22b18",
   "metadata": {},
   "outputs": [],
   "source": [
    "rsa = np.linspace(0,0.5,20)\n",
    "fa=np.zeros(20)\n",
    "for i,rsol in enumerate(rsa):\n",
    "    rwin = 1-rsol\n",
    "    dfc = df[(df.Solar*fsol*rsol+df.Wind*fwin*rwin+df.Pumpspeicher)<df.Last]\n",
    "    emiss=(dfc.Last-(dfc.Solar*fsol*rsol+dfc.Wind*fwin*rwin+df.Pumpspeicher)).sum()\n",
    "    f=emiss/tl\n",
    "    fa[i]=f\n",
    "#    print(rsol,f)\n",
    "plt.plot(rsa,fa)"
   ]
  },
  {
   "cell_type": "code",
   "execution_count": null,
   "id": "3e4062ef-0d2c-4fdd-aa2a-b3fa2c3d8acb",
   "metadata": {},
   "outputs": [],
   "source": [
    "smiss/tl"
   ]
  },
  {
   "cell_type": "code",
   "execution_count": null,
   "id": "1edd7e79-c106-4d01-b186-79ee7816d8d0",
   "metadata": {},
   "outputs": [],
   "source": [
    "len(dfc)"
   ]
  },
  {
   "cell_type": "code",
   "execution_count": null,
   "id": "ecbcaba9-3ae0-4647-b116-689898248348",
   "metadata": {},
   "outputs": [],
   "source": [
    "len(df)"
   ]
  },
  {
   "cell_type": "code",
   "execution_count": null,
   "id": "c2624072-c3cd-4ce7-95bb-71d0f9e41d65",
   "metadata": {},
   "outputs": [],
   "source": [
    "1+1"
   ]
  },
  {
   "cell_type": "code",
   "execution_count": null,
   "id": "abfcc071-046c-477e-83f1-93e3f6ee498c",
   "metadata": {},
   "outputs": [],
   "source": []
  }
 ],
 "metadata": {
  "kernelspec": {
   "display_name": "Python 3 (ipykernel)",
   "language": "python",
   "name": "python3"
  },
  "language_info": {
   "codemirror_mode": {
    "name": "ipython",
    "version": 3
   },
   "file_extension": ".py",
   "mimetype": "text/x-python",
   "name": "python",
   "nbconvert_exporter": "python",
   "pygments_lexer": "ipython3",
   "version": "3.9.12"
  }
 },
 "nbformat": 4,
 "nbformat_minor": 5
}
