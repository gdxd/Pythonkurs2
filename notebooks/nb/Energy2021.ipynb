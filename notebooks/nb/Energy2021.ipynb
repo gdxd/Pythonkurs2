{
 "cells": [
  {
   "cell_type": "code",
   "execution_count": null,
   "id": "5cd492db-fccd-4443-a576-e94c15788498",
   "metadata": {},
   "outputs": [],
   "source": [
    "import matplotlib.pyplot as plt\n",
    "import pandas as pd\n",
    "import datetime\n",
    "import numpy as np\n",
    "# csv data file from zip file download from \n",
    "# http://www.dwd.de/DE/leistungen/klimadatendeutschland/klarchivtagmonat.html\n",
    "# Messdatum als index und Interpretation als Datum (nicht nur String) \n",
    "#df=pd.read_csv('http://www-static.etp.physik.uni-muenchen.de/kurs/Computing/sw/source/produkt_klima_Tageswerte_19000801_20151231_05792.txt',';\\s*',index_col='MESS_DATUM',parse_dates=['MESS_DATUM'],skipfooter=1)\n",
    "#df=pd.read_csv('http://www-static.etp.physik.uni-muenchen.de/kurs/Computing/sw/source/produkt_klima_tag_19000801_20181231_05792.txt',';\\s*',index_col='MESS_DATUM',parse_dates=['MESS_DATUM'],engine='python')\n",
    "\n",
    "df=pd.read_csv('http://www-static.etp.physik.uni-muenchen.de/kurs/Computing/sw/source/energy-charts_Oeffentliche_Nettostromerzeugung_in_Deutschland_2021.csv',index_col='Datum (GMT+1)',parse_dates=['Datum (GMT+1)'],engine='python')\n",
    "print (df.size)\n",
    "print (df.columns)\n"
   ]
  },
  {
   "cell_type": "code",
   "execution_count": null,
   "id": "67da3131-3e9a-43da-8dcd-79828d438864",
   "metadata": {},
   "outputs": [],
   "source": [
    "df['Wind'] = df['Wind Onshore'] + df['Wind Offshore']"
   ]
  },
  {
   "cell_type": "code",
   "execution_count": null,
   "id": "f2768b06-b218-4a54-8b63-f083138372a9",
   "metadata": {},
   "outputs": [],
   "source": [
    "day = '2021-08-05'\n",
    "day2 ='2021-08-16'\n",
    "day = '2021-02-05'\n",
    "day2 ='2021-02-16'\n",
    "df['Last'][day:day2].plot()\n",
    "df.Solar[day:day2].plot()\n",
    "df.Wind[day:day2].plot()\n",
    "(df.Solar[day:day2]*fsol*rsol+df.Wind[day:day2]*fwin*rwin).plot()\n"
   ]
  },
  {
   "cell_type": "code",
   "execution_count": null,
   "id": "177e5e67-da3d-4abd-8810-2ee77481da1d",
   "metadata": {},
   "outputs": [],
   "source": [
    "rsol = 0.22\n",
    "rwin = 1-rsol\n",
    "fsol*rsol,fwin*rwin"
   ]
  },
  {
   "cell_type": "code",
   "execution_count": null,
   "id": "3b77762b-1e3a-4a14-b25c-cd8775f3fe53",
   "metadata": {},
   "outputs": [],
   "source": [
    "dfm=df.resample('w').sum()\n",
    "dfm.Last.plot()\n",
    "dfm.Wind.plot()\n",
    "dfm.Solar.plot()\n",
    "(dfm.Solar*fsol*rsol+dfm.Wind*fwin*rwin).plot()"
   ]
  },
  {
   "cell_type": "code",
   "execution_count": null,
   "id": "2d1d64c5-21b1-46d8-b3f1-99acda294ce2",
   "metadata": {},
   "outputs": [],
   "source": [
    "dfw=df['Solar'].resample('w').sum()\n",
    "#dfw=df['Wind Offshore'].resample('w').sum()\n",
    "dfw=df['Wind Onshore'].resample('w').sum()\n",
    "dfw.plot();"
   ]
  },
  {
   "cell_type": "code",
   "execution_count": null,
   "id": "2ca7944c-93da-41e1-8ac3-249bfcfa5c7c",
   "metadata": {},
   "outputs": [],
   "source": [
    "dfd=df.resample('d').sum()"
   ]
  },
  {
   "cell_type": "code",
   "execution_count": null,
   "id": "99cd4993-c303-4480-ad2c-648998d411c1",
   "metadata": {},
   "outputs": [],
   "source": [
    "plt.plot(df['Wind Offshore'],df['Wind Onshore'],'.')"
   ]
  },
  {
   "cell_type": "code",
   "execution_count": null,
   "id": "9f4726ac-eb5a-40cb-846a-6bba868aec6b",
   "metadata": {},
   "outputs": [],
   "source": [
    "plt.plot(dfd['Solar'],dfd['Wind'],'.')"
   ]
  },
  {
   "cell_type": "code",
   "execution_count": null,
   "id": "b4ba6701-51d6-4273-a863-91cc67b66afc",
   "metadata": {},
   "outputs": [],
   "source": [
    "df.Last.sum(),df.Solar.sum(),df.Wind.sum()"
   ]
  },
  {
   "cell_type": "code",
   "execution_count": null,
   "id": "69420459-9871-4aee-b0b2-152fe4a6b24d",
   "metadata": {},
   "outputs": [],
   "source": [
    "tl=df.Last.sum()\n",
    "fsol = tl/df.Solar.sum()\n",
    "fwin = tl/df.Wind.sum()\n",
    "fsol,fwin\n"
   ]
  },
  {
   "cell_type": "code",
   "execution_count": null,
   "id": "e6dc1126-b33a-48e6-8ba2-c9ade454cde2",
   "metadata": {},
   "outputs": [],
   "source": [
    "dfc = df[df.Solar*fsol<df.Last]\n",
    "smiss=(dfc.Last-dfc.Solar*fsol).sum()\n",
    "dfc = df[df.Wind*fwin<df.Last]\n",
    "wmiss=(dfc.Last-dfc.Wind*fwin).sum()\n",
    "smiss/tl,wmiss/tl"
   ]
  },
  {
   "cell_type": "code",
   "execution_count": null,
   "id": "011807a3-52f3-4b6d-976a-659298927281",
   "metadata": {},
   "outputs": [],
   "source": [
    "\n",
    "rsol = 0.3\n",
    "rwin = 1-0.3\n",
    "dfc = df[(df.Solar*fsol*rsol+df.Wind*fwin*rwin+df.Pumpspeicher)<df.Last]\n",
    "emiss=(dfc.Last-(dfc.Solar*fsol*rsol+dfc.Wind*fwin*rwin+df.Pumpspeicher)).sum()\n",
    "emiss/tl"
   ]
  },
  {
   "cell_type": "code",
   "execution_count": null,
   "id": "2ad07141-53fe-416b-be3c-f3f4eaf22b18",
   "metadata": {},
   "outputs": [],
   "source": [
    "rsa = np.linspace(0,0.5,20)\n",
    "fa=np.zeros(20)\n",
    "for i,rsol in enumerate(rsa):\n",
    "    rwin = 1-rsol\n",
    "    dfc = df[(df.Solar*fsol*rsol+df.Wind*fwin*rwin+df.Pumpspeicher)<df.Last]\n",
    "    emiss=(dfc.Last-(dfc.Solar*fsol*rsol+dfc.Wind*fwin*rwin+df.Pumpspeicher)).sum()\n",
    "    f=emiss/tl\n",
    "    fa[i]=f\n",
    "#    print(rsol,f)\n",
    "plt.plot(rsa,fa)"
   ]
  },
  {
   "cell_type": "code",
   "execution_count": null,
   "id": "3e4062ef-0d2c-4fdd-aa2a-b3fa2c3d8acb",
   "metadata": {},
   "outputs": [],
   "source": [
    "smiss/tl"
   ]
  },
  {
   "cell_type": "code",
   "execution_count": null,
   "id": "1edd7e79-c106-4d01-b186-79ee7816d8d0",
   "metadata": {},
   "outputs": [],
   "source": [
    "len(dfc)"
   ]
  },
  {
   "cell_type": "code",
   "execution_count": null,
   "id": "ecbcaba9-3ae0-4647-b116-689898248348",
   "metadata": {},
   "outputs": [],
   "source": [
    "len(df)"
   ]
  },
  {
   "cell_type": "code",
   "execution_count": null,
   "id": "c2624072-c3cd-4ce7-95bb-71d0f9e41d65",
   "metadata": {},
   "outputs": [],
   "source": [
    "1+1"
   ]
  },
  {
   "cell_type": "code",
   "execution_count": null,
   "id": "54ab5f76-59cb-4c82-8b4d-2c4badafd608",
   "metadata": {},
   "outputs": [],
   "source": [
    "!wget https://www-static.etp.physik.uni-muenchen.de/kurs/Computing/sw/nb/pandas_PandasExercises.ipynb\n"
   ]
  },
  {
   "cell_type": "code",
   "execution_count": null,
   "id": "abfcc071-046c-477e-83f1-93e3f6ee498c",
   "metadata": {},
   "outputs": [],
   "source": []
  }
 ],
 "metadata": {
  "kernelspec": {
   "display_name": "Python 3 (ipykernel)",
   "language": "python",
   "name": "python3"
  },
  "language_info": {
   "codemirror_mode": {
    "name": "ipython",
    "version": 3
   },
   "file_extension": ".py",
   "mimetype": "text/x-python",
   "name": "python",
   "nbconvert_exporter": "python",
   "pygments_lexer": "ipython3",
   "version": "3.10.5"
  }
 },
 "nbformat": 4,
 "nbformat_minor": 5
}
