{
 "cells": [
  {
   "cell_type": "markdown",
   "metadata": {},
   "source": [
    "<b> Week 5: Linear Regression </b><br>\n",
    "<br>\n",
    "<br>\n",
    "Contact: Jens.Kuehne@campus.lmu.de"
   ]
  },
  {
   "cell_type": "code",
   "execution_count": null,
   "metadata": {
    "scrolled": true
   },
   "outputs": [],
   "source": [
    "import numpy as np\n",
    "import matplotlib.pyplot as plt\n",
    "import pandas as pd\n",
    "from datetime import datetime\n",
    "\n",
    "\n",
    "do_i_print = True\n",
    "print(\"Importing Successful! \")\n",
    "print( (\" See print for Errors \" if do_i_print else \" Nothing will be printed. \") )\n",
    "city_name = [\"\", \"Weilerswist\", \"Munich\", \"Cologne\"]\n",
    "city_name = city_name[2]\n",
    "print(\" Using data of\",city_name)"
   ]
  },
  {
   "cell_type": "markdown",
   "metadata": {},
   "source": [
    "# You Should change here the Directory of the file. \n",
    "<br>\n",
    "I recommend to download the data and give a path to the file. "
   ]
  },
  {
   "cell_type": "code",
   "execution_count": null,
   "metadata": {
    "scrolled": true
   },
   "outputs": [],
   "source": [
    "####### Helper Functions #######\n",
    "\n",
    "def read_monthly_data(city_name):\n",
    "    ##################################################################################\n",
    "    #                                                                                #\n",
    "    # Insert path to the Data-Files here!!!!                                         #\n",
    "    #                                                                                #\n",
    "    #                                                                                #\n",
    "    ##################################################################################\n",
    "    dir = \"C:\\\\Users\\\\YOUR_NAME\\\\SS2020 - Data Analysis\\\\Data\\\\\"\n",
    "    \n",
    "    ##################################################################################\n",
    "    #                                                                                #\n",
    "    # Name of the files - check above how you solve that, so that your figures       #\n",
    "    # Have the right title.                                                          #\n",
    "    # Here you find a list of the stations:                                          #\n",
    "    # http://opendata.dwd.de/climate_environment/CDC/observations_germany/climate/monthly/kl/historical/KL_Monatswerte_Beschreibung_Stationen.txt #\n",
    "    #                                                                                #\n",
    "    # I added the Name of the station inside the filename.                           #\n",
    "    # Here you find the *zip-files for the data.                                     #\n",
    "    # http://opendata.dwd.de/climate_environment/CDC/observations_germany/climate/monthly/kl/historical/\n",
    "    ##################################################################################\n",
    "    weilerswist  = \"produkt_klima_monat_19370101_20191231_Weilerswist-Lommersum.txt\"\n",
    "    munich       = \"produkt_klima_monat_19540601_20191231_M-Stadt.txt\"\n",
    "    koeln        = \"produkt_klima_monat_19570901_20191231_Koeln-Flughafen.txt\"\n",
    "\n",
    "    if city_name == \"Weilerswist\":\n",
    "        path = dir+weilerswist\n",
    "    elif city_name == \"Munich\":\n",
    "        path = dir+munich\n",
    "    elif city_name == \"Cologne\":\n",
    "        path = dir+koeln\n",
    "    else:\n",
    "        print(\"Error! City\",city_name,\"is not known. \")\n",
    "        return\n",
    "    \n",
    "    # Lambda Expression\n",
    "    dateparse = lambda x: datetime.strptime(x, \"%Y%m%d\")\n",
    "    f=pd.read_csv(path, sep=\";\", header=0, index_col=1, date_parser=dateparse)\n",
    "    \n",
    "    dates =f.index\n",
    "    \n",
    "    dates = dates.astype(str)\n",
    "    y, mo = datefunction_mo(dates)\n",
    "    mo_tt = f[\"MO_TT\"].to_numpy()\n",
    "    \n",
    "    print(\"Following data for\",city_name,\"was loaded: \")\n",
    "    print(\" Time: {} - {}\".format(y[0],y[-1]))\n",
    "    print(\"Monthly Mean Temperature time series\")\n",
    "    \n",
    "    return mo_tt, dates, y, mo\n",
    "\n",
    "def datefunction_mo(dates):\n",
    "    # Here we define our dates correctly\n",
    "    y = np.zeros(len(dates), dtype=int)\n",
    "    mo = np.zeros(len(dates), dtype=int)\n",
    "    # The Date is a string. \n",
    "    for i in range(len(dates)):\n",
    "        y[i]    = dates[i][0:4]\n",
    "        mo[i]   = dates[i][5:7]\n",
    "    return y,mo\n",
    "\n",
    "mo_tt, dates, y, mo = read_monthly_data(city_name)"
   ]
  },
  {
   "cell_type": "markdown",
   "metadata": {},
   "source": [
    "<b> 1. Linear Fit: </b><br>\n",
    "<b> 1. </b> Compute and visualise the annual mean temperature timeseries for the downtown Munich station and find the best fit line using both: <br>\n",
    "<b> 1. a) </b> the linear fit parameters (<font face=\"Consolas\">a</font> and <font face=\"Consolas\">b</font>) derived in the lecture and <br>\n",
    "<b> 1. b) </b> using the inbuilt Python function. You can use the <font face=\"Consolas\">np.polyfit()</font> function for this. Do the trends agree? (They should) <br>\n",
    "<br>"
   ]
  },
  {
   "cell_type": "code",
   "execution_count": null,
   "metadata": {
    "scrolled": false
   },
   "outputs": [],
   "source": [
    "#### Code here\n",
    "# You have to give monthly mean temperature timeseries\n",
    "def annual_mean_temperatures(mo_tt, dates, y, mo):\n",
    "    # Annual Mean Temperature Array\n",
    "    y_tt = []\n",
    "    # LISTEN HERE YOU LITTLE SHIT: \n",
    "    # This one will be our array for which will be valid:\n",
    "    # for each year in yy ;)\n",
    "    # for the array y this is not possible. \n",
    "    #\n",
    "    # Remind yourself of using better names.....\n",
    "    yy = []\n",
    "    \n",
    "    \n",
    "    # Due to going throw each month in the array, \n",
    "    # we need an index\n",
    "    index = 0\n",
    "    \n",
    "    # If you have Happy New year, you have to start your calculation\n",
    "    # with zero\n",
    "    new_year_tt = 0.0\n",
    "    \n",
    "    # Think of this one as a boolean. =12 TRUE else FALSE\n",
    "    i_have_a_year = 0\n",
    "    \n",
    "    # Here we go throw the array month after month\n",
    "    for month in mo:\n",
    "        # Check if we have a January\n",
    "        # wish everyone a happy new year\n",
    "        # and set temperature to 0.0\n",
    "        if month == 1:\n",
    "            new_year_tt = 0.0\n",
    "        \n",
    "        # Calculation of annual mean by adding up each month\n",
    "        # reminder \n",
    "        # 1/N * ∑ xi = ∑ xi/N  ---> 1/N is a constant factor ;)\n",
    "        new_year_tt += (mo_tt[index]/12.0)\n",
    "        i_have_a_year += 1\n",
    "        \n",
    "        # If we are at december, we are finished with the calculation\n",
    "        if month == 12:\n",
    "            # but only if we have used 12 month for the year\n",
    "            if i_have_a_year == 12:\n",
    "                y_tt.append(new_year_tt)\n",
    "                yy.append(y[index])\n",
    "                \n",
    "                # For safety issues set the temperature agian to 0.0\n",
    "                new_year_tt = 0.0\n",
    "            \n",
    "            # If we are at december and were a time traveller, \n",
    "            # we did not use 12 Months per Year which is really sad. \n",
    "            elif(i_have_a_year != 12) and do_i_print:\n",
    "                print(\"Skipped Year {} because there are only {} month in dataset :/\".format(y[index], i_have_a_year))\n",
    "            i_have_a_year = 0\n",
    "        \n",
    "        # Do not forget to have this at the right place\n",
    "        index += 1\n",
    "    \n",
    "    if do_i_print:\n",
    "        for year in range(len(yy)):\n",
    "            print(\"Year {} had {:.2f}°C \".format(yy[year], y_tt[year]))\n",
    "    return y_tt, yy\n",
    "\n",
    "def plotting_trend(y_tt, yy, city_name, chosen_month, variable_name):\n",
    "    names_of_months = [\"Annual\", \n",
    "        \"January\", \"February\", \"March\",   \"April\",   \"May\",      \"June\",\n",
    "        \"July\",    \"August\", \"September\", \"October\", \"November\", \"December\"]\n",
    "    \n",
    "    \n",
    "    \n",
    "    # Calculation of the regression line using the formula from the lectures\n",
    "    b = np.mean( (yy - np.mean(yy) ) * (y_tt - np.mean(y_tt)) ) \\\n",
    "    /np.mean(( yy - np.mean(yy))**2 )\n",
    "    \n",
    "    a = np.mean(y_tt) - b * np.mean(yy)\n",
    "    print(\"Linear Regression from calculation\") \n",
    "    print(\"         by hand: {:1.5f} °C per year\".format(b))\n",
    "    \n",
    "    # Calculation of the Trend with the built in python function\n",
    "    # read in the documentation how this works\n",
    "    polyfit = np.polyfit(yy,y_tt,deg=1)\n",
    "    \n",
    "    # Needed because python does not want to use the original array\n",
    "    yy = np.arange(yy[0], (y[-1]+1) )\n",
    "    \n",
    "    # Result is y(x) =     P[0] * x    + P[1]\n",
    "    regression_line = (polyfit[0]*yy+polyfit[1])\n",
    "    print(\"using np.polyfit: {:1.5f} °C per year\".format(polyfit[0])) \n",
    "    print(\"  This is {:.2f} °C per 30 years\".format(b*30))\n",
    "\n",
    "    \n",
    "    ####### PLOTTING ##########\n",
    "    fig1 = plt.figure(figsize=(16,4), dpi=80, facecolor=\"w\",edgecolor=\"k\")\n",
    "    plt.plot(yy, y_tt, \"-o\")\n",
    "    plt.plot(yy,regression_line,\"--r\",linewidth=4)\n",
    "    plt.xlabel(\"Year\")\n",
    "    plt.ylabel(\"Temperature in °C\")\n",
    "    title=names_of_months[chosen_month]+\" \" +variable_name+\" in \"+city_name\n",
    "    plt.title(title, fontsize=16)\n",
    "    plt.grid()\n",
    "    plt.xlim(yy[0], yy[-1])\n",
    "    return\n",
    "\n",
    "\n",
    "y_tt, yy = annual_mean_temperatures(mo_tt, dates,y,mo)\n",
    "plotting_trend(y_tt, yy, city_name, 0, \"Mean Temperature\")"
   ]
  },
  {
   "cell_type": "markdown",
   "metadata": {},
   "source": [
    "<b> 1. c) </b> Do a similar analysis for monthly mean temperatures i.e. instead of annual means, compute the best fit using only the monthly mean temperatures for January from 1955 to 2020 and so on, for each month. Do all month have similar warming trends? <br>\n",
    "<br>"
   ]
  },
  {
   "cell_type": "code",
   "execution_count": null,
   "metadata": {},
   "outputs": [],
   "source": [
    "#### Code here\n",
    "# You have to give monthly mean temperature timeseries\n",
    "def monthly_temperatures(mo_tt, dates, y, mo, chosen_month):\n",
    "    # Extracting the month\n",
    "    dates = dates[mo==chosen_month]\n",
    "    mo_tt = mo_tt[mo==chosen_month]\n",
    "    y, mo = datefunction_mo(dates)\n",
    "    \n",
    "    return mo_tt,dates,y"
   ]
  },
  {
   "cell_type": "markdown",
   "metadata": {},
   "source": [
    "# January"
   ]
  },
  {
   "cell_type": "code",
   "execution_count": null,
   "metadata": {},
   "outputs": [],
   "source": [
    "mo_tt_individual, y_tt_individual, yy_individual = monthly_temperatures(mo_tt, dates,y,mo,1)\n",
    "plotting_trend(mo_tt_individual, yy_individual, city_name, 1, \"Mean Temperature\")"
   ]
  },
  {
   "cell_type": "markdown",
   "metadata": {},
   "source": [
    "# February"
   ]
  },
  {
   "cell_type": "code",
   "execution_count": null,
   "metadata": {},
   "outputs": [],
   "source": [
    "mo_tt_individual, y_tt_individual, yy_individual = monthly_temperatures(mo_tt, dates,y,mo,2)\n",
    "plotting_trend(mo_tt_individual, yy_individual, city_name, 2, \"Mean Temperature\")"
   ]
  },
  {
   "cell_type": "markdown",
   "metadata": {},
   "source": [
    "# March"
   ]
  },
  {
   "cell_type": "code",
   "execution_count": null,
   "metadata": {},
   "outputs": [],
   "source": [
    "mo_tt_individual, y_tt_individual, yy_individual = monthly_temperatures(mo_tt, dates,y,mo,3)\n",
    "plotting_trend(mo_tt_individual, yy_individual, city_name, 3, \"Mean Temperature\")"
   ]
  },
  {
   "cell_type": "markdown",
   "metadata": {},
   "source": [
    "# April"
   ]
  },
  {
   "cell_type": "code",
   "execution_count": null,
   "metadata": {},
   "outputs": [],
   "source": [
    "mo_tt_individual, y_tt_individual, yy_individual = monthly_temperatures(mo_tt, dates,y,mo,4)\n",
    "plotting_trend(mo_tt_individual, yy_individual, city_name, 4, \"Mean Temperature\")"
   ]
  },
  {
   "cell_type": "markdown",
   "metadata": {},
   "source": [
    "# May"
   ]
  },
  {
   "cell_type": "code",
   "execution_count": null,
   "metadata": {},
   "outputs": [],
   "source": [
    "mo_tt_individual, y_tt_individual, yy_individual = monthly_temperatures(mo_tt, dates,y,mo,5)\n",
    "plotting_trend(mo_tt_individual, yy_individual, city_name, 5, \"Mean Temperature\")"
   ]
  },
  {
   "cell_type": "markdown",
   "metadata": {},
   "source": [
    "# June"
   ]
  },
  {
   "cell_type": "code",
   "execution_count": null,
   "metadata": {},
   "outputs": [],
   "source": [
    "mo_tt_individual, y_tt_individual, yy_individual = monthly_temperatures(mo_tt, dates,y,mo,6)\n",
    "plotting_trend(mo_tt_individual, yy_individual, city_name, 6, \"Mean Temperature\")"
   ]
  },
  {
   "cell_type": "markdown",
   "metadata": {},
   "source": [
    "# July"
   ]
  },
  {
   "cell_type": "code",
   "execution_count": null,
   "metadata": {},
   "outputs": [],
   "source": [
    "mo_tt_individual, y_tt_individual, yy_individual = monthly_temperatures(mo_tt, dates,y,mo,7)\n",
    "plotting_trend(mo_tt_individual, yy_individual, city_name, 7, \"Mean Temperature\")"
   ]
  },
  {
   "cell_type": "markdown",
   "metadata": {},
   "source": [
    "# August"
   ]
  },
  {
   "cell_type": "code",
   "execution_count": null,
   "metadata": {},
   "outputs": [],
   "source": [
    "mo_tt_individual, y_tt_individual, yy_individual = monthly_temperatures(mo_tt, dates,y,mo,8)\n",
    "plotting_trend(mo_tt_individual, yy_individual, city_name, 8, \"Mean Temperature\")"
   ]
  },
  {
   "cell_type": "markdown",
   "metadata": {},
   "source": [
    "# September"
   ]
  },
  {
   "cell_type": "code",
   "execution_count": null,
   "metadata": {},
   "outputs": [],
   "source": [
    "mo_tt_individual, y_tt_individual, yy_individual = monthly_temperatures(mo_tt, dates,y,mo,9)\n",
    "plotting_trend(mo_tt_individual, yy_individual, city_name, 9, \"Mean Temperature\")"
   ]
  },
  {
   "cell_type": "markdown",
   "metadata": {},
   "source": [
    "# October"
   ]
  },
  {
   "cell_type": "code",
   "execution_count": null,
   "metadata": {},
   "outputs": [],
   "source": [
    "mo_tt_individual, y_tt_individual, yy_individual = monthly_temperatures(mo_tt, dates,y,mo,10)\n",
    "plotting_trend(mo_tt_individual, yy_individual, city_name, 10, \"Mean Temperature\")"
   ]
  },
  {
   "cell_type": "markdown",
   "metadata": {},
   "source": [
    "# November"
   ]
  },
  {
   "cell_type": "code",
   "execution_count": null,
   "metadata": {},
   "outputs": [],
   "source": [
    "mo_tt_individual, y_tt_individual, yy_individual = monthly_temperatures(mo_tt, dates,y,mo,11)\n",
    "plotting_trend(mo_tt_individual, yy_individual, city_name, 11, \"Mean Temperature\")"
   ]
  },
  {
   "cell_type": "markdown",
   "metadata": {},
   "source": [
    "# December"
   ]
  },
  {
   "cell_type": "code",
   "execution_count": null,
   "metadata": {},
   "outputs": [],
   "source": [
    "mo_tt_individual, y_tt_individual, yy_individual = monthly_temperatures(mo_tt, dates,y,mo,12)\n",
    "plotting_trend(mo_tt_individual, yy_individual, city_name, 12, \"Mean Temperature\")"
   ]
  },
  {
   "cell_type": "markdown",
   "metadata": {},
   "source": [
    "<b> 1. d) </b> Make sure to evaluate the goodness of fit parameter r² and use the t-statistic to assess the 95 % Confidence Interval for r. <br>\n",
    "<br>"
   ]
  },
  {
   "cell_type": "code",
   "execution_count": null,
   "metadata": {
    "scrolled": true
   },
   "outputs": [],
   "source": [
    "#### Code here"
   ]
  }
 ],
 "metadata": {
  "kernelspec": {
   "display_name": "Python 3",
   "language": "python",
   "name": "python3"
  },
  "language_info": {
   "codemirror_mode": {
    "name": "ipython",
    "version": 3
   },
   "file_extension": ".py",
   "mimetype": "text/x-python",
   "name": "python",
   "nbconvert_exporter": "python",
   "pygments_lexer": "ipython3",
   "version": "3.7.3"
  },
  "toc": {
   "base_numbering": 1,
   "nav_menu": {},
   "number_sections": true,
   "sideBar": true,
   "skip_h1_title": false,
   "title_cell": "Table of Contents",
   "title_sidebar": "Contents",
   "toc_cell": false,
   "toc_position": {},
   "toc_section_display": true,
   "toc_window_display": false
  }
 },
 "nbformat": 4,
 "nbformat_minor": 4
}
