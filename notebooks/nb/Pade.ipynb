{
 "cells": [
  {
   "cell_type": "markdown",
   "id": "d2d2aa47",
   "metadata": {},
   "source": [
    "## Padé approximants\n",
    "Using the example of $\\sin(x)$ for simplicity."
   ]
  },
  {
   "cell_type": "code",
   "execution_count": null,
   "id": "1d5311e9",
   "metadata": {},
   "outputs": [],
   "source": [
    "from sympy import Symbol, sin, series, Poly, symbols, Eq, solve, Order, plot, pi"
   ]
  },
  {
   "cell_type": "code",
   "execution_count": null,
   "id": "0039c455",
   "metadata": {},
   "outputs": [],
   "source": [
    "x = Symbol(\"x\")"
   ]
  },
  {
   "cell_type": "code",
   "execution_count": null,
   "id": "a8785bf5",
   "metadata": {},
   "outputs": [],
   "source": [
    "# n+m for the Padé approximant\n",
    "m = 2\n",
    "n = 2"
   ]
  },
  {
   "cell_type": "code",
   "execution_count": null,
   "id": "d596a05f",
   "metadata": {},
   "outputs": [],
   "source": [
    "degree = m+n\n",
    "taylorO = sin(x).series(x, 0, degree + 1)\n",
    "taylorO"
   ]
  },
  {
   "cell_type": "code",
   "execution_count": null,
   "id": "6867845f",
   "metadata": {},
   "outputs": [],
   "source": [
    "# drop the O\n",
    "taylor = taylorO.removeO()\n",
    "taylor"
   ]
  },
  {
   "cell_type": "code",
   "execution_count": null,
   "id": "3f828c0d",
   "metadata": {},
   "outputs": [],
   "source": [
    "# coeff gives a coefficient but only for the specified term\n",
    "taylor.coeff(x**3)"
   ]
  },
  {
   "cell_type": "code",
   "execution_count": null,
   "id": "b68157c9",
   "metadata": {},
   "outputs": [],
   "source": [
    "# if we first convert to Poly, we can get all coefficients easily\n",
    "Poly(taylor, x).all_coeffs()"
   ]
  },
  {
   "cell_type": "markdown",
   "id": "41117c9f",
   "metadata": {},
   "source": [
    "We now solve \n",
    "$$\\frac{A_0 + A_1 x + \\dots + A_m x^m}{B_0 + B_1 x + \\dots + B_n x^n} = \\operatorname{Taylor}[f]$$"
   ]
  },
  {
   "cell_type": "code",
   "execution_count": null,
   "id": "5e3a5630",
   "metadata": {},
   "outputs": [],
   "source": [
    "# generate a list of symbols\n",
    "As = symbols(f\"A0:{m+1}\")\n",
    "Bs = symbols(f\"B0:{m+1}\")\n",
    "As, Bs"
   ]
  },
  {
   "cell_type": "code",
   "execution_count": null,
   "id": "ef26a761",
   "metadata": {},
   "outputs": [],
   "source": [
    "Poly(reversed(Bs), x) + 1 # SymPy doesn't know the domain of the Bs, so it adjoins them to the coefficient ring"
   ]
  },
  {
   "cell_type": "code",
   "execution_count": null,
   "id": "da58aae4",
   "metadata": {},
   "outputs": [],
   "source": [
    "B0 = Bs[0]\n",
    "B0 = 0 # doesn't work -- why?"
   ]
  },
  {
   "cell_type": "code",
   "execution_count": null,
   "id": "7a724913",
   "metadata": {},
   "outputs": [],
   "source": [
    "Bs1 = (1,) + Bs[1:]\n",
    "Bs1"
   ]
  },
  {
   "cell_type": "code",
   "execution_count": null,
   "id": "27a41e17",
   "metadata": {},
   "outputs": [],
   "source": [
    "poly_B = Poly(reversed(Bs1), x)\n",
    "poly_B"
   ]
  },
  {
   "cell_type": "code",
   "execution_count": null,
   "id": "ccd1f55e",
   "metadata": {},
   "outputs": [],
   "source": [
    "rhs_poly = poly_B * taylor\n",
    "rhs_poly"
   ]
  },
  {
   "cell_type": "code",
   "execution_count": null,
   "id": "72a7395b",
   "metadata": {},
   "outputs": [],
   "source": [
    "# rhs is still a polynomial. This doesn't have the expand method that solveset uses, so let's make it a simple expression:\n",
    "rhs5 = rhs_poly.as_expr()\n",
    "rhs5"
   ]
  },
  {
   "cell_type": "code",
   "execution_count": null,
   "id": "bb757926",
   "metadata": {},
   "outputs": [],
   "source": [
    "# we need to discard powers in x == m+n+1 -- many ways to do this, a simple one I found\n",
    "rhs = (rhs5 + Order(x**(m+n+1))).removeO()\n",
    "rhs"
   ]
  },
  {
   "cell_type": "code",
   "execution_count": null,
   "id": "13c6fc88",
   "metadata": {},
   "outputs": [],
   "source": [
    "# same for the left-hand side\n",
    "(lhs := Poly(reversed(As), x).as_expr())"
   ]
  },
  {
   "cell_type": "code",
   "execution_count": null,
   "id": "9f2a7139",
   "metadata": {},
   "outputs": [],
   "source": [
    "eq = Eq(lhs, rhs)\n",
    "eq"
   ]
  },
  {
   "cell_type": "code",
   "execution_count": null,
   "id": "6cc75023",
   "metadata": {},
   "outputs": [],
   "source": [
    "sol_A = solve(eq, As)\n",
    "sol_A"
   ]
  },
  {
   "cell_type": "code",
   "execution_count": null,
   "id": "417ab921",
   "metadata": {},
   "outputs": [],
   "source": [
    "eqA = eq.subs(sol_A)\n",
    "eqA"
   ]
  },
  {
   "cell_type": "code",
   "execution_count": null,
   "id": "ba0c11a8",
   "metadata": {},
   "outputs": [],
   "source": [
    "sol_B = solve(eqA, Bs1)\n",
    "sol_B"
   ]
  },
  {
   "cell_type": "code",
   "execution_count": null,
   "id": "d79626d9",
   "metadata": {},
   "outputs": [],
   "source": [
    "# now we have all coefficients and can put them into the original Padé approximant\n",
    "pade = Poly(reversed(As), x)/Poly(reversed(Bs1), x)\n",
    "pade"
   ]
  },
  {
   "cell_type": "code",
   "execution_count": null,
   "id": "81a1484b",
   "metadata": {},
   "outputs": [],
   "source": [
    "pade_sin = pade.subs(sol_A).subs(sol_B)\n",
    "pade_sin"
   ]
  },
  {
   "cell_type": "markdown",
   "id": "67a61186",
   "metadata": {},
   "source": [
    "Note: the approach above may not be the simplest nor best (in terms of generality). An alternative would be to extract the coefficients from the left- and right-hand side and construct a system of linear equations to be solved."
   ]
  },
  {
   "cell_type": "code",
   "execution_count": null,
   "id": "e68be6fb",
   "metadata": {},
   "outputs": [],
   "source": [
    "p = plot(\n",
    "    sin(x), taylor, pade_sin, \n",
    "    xlim = (0, 2*pi),\n",
    "    ylim = (-2, 2),\n",
    "    legend = True,\n",
    "    show = False\n",
    ")\n",
    "# first want to update the legend before showing it 🤭\n",
    "p[1].label = \"Taylor\"\n",
    "p[2].label = \"Padé\"\n",
    "p.show()"
   ]
  },
  {
   "cell_type": "code",
   "execution_count": null,
   "id": "8dc53d74",
   "metadata": {},
   "outputs": [],
   "source": [
    "# residuals\n",
    "p = plot(\n",
    "    0, taylor - sin(x), pade_sin - sin(x), \n",
    "    (x, 0, 4*pi), # range\n",
    "    ylim = (-4, 4),\n",
    "    legend = True,\n",
    "    show = False\n",
    ")\n",
    "p[1].label = \"Taylor\"\n",
    "p[2].label = \"Padé\"\n",
    "p.show()"
   ]
  },
  {
   "cell_type": "code",
   "execution_count": null,
   "id": "f940b191",
   "metadata": {},
   "outputs": [],
   "source": [
    "# relative error \n",
    "p = plot(\n",
    "    abs((pade_sin - sin(x)) / (taylor - sin(x))),\n",
    "    (x, 0, 4*pi)\n",
    ")"
   ]
  },
  {
   "cell_type": "code",
   "execution_count": null,
   "id": "108eaee1",
   "metadata": {},
   "outputs": [],
   "source": []
  }
 ],
 "metadata": {
  "@webio": {
   "lastCommId": null,
   "lastKernelId": null
  },
  "kernelspec": {
   "display_name": "Python 3 (ipykernel)",
   "language": "python",
   "name": "python3"
  },
  "language_info": {
   "codemirror_mode": {
    "name": "ipython",
    "version": 3
   },
   "file_extension": ".py",
   "mimetype": "text/x-python",
   "name": "python",
   "nbconvert_exporter": "python",
   "pygments_lexer": "ipython3",
   "version": "3.8.10"
  }
 },
 "nbformat": 4,
 "nbformat_minor": 5
}
