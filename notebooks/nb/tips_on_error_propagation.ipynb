{
 "cells": [
  {
   "cell_type": "markdown",
   "id": "1bfa9a06-93af-449f-bd40-d71498491c62",
   "metadata": {},
   "source": [
    "# Tips on Error propagation\n",
    "\n",
    "## Error propagation reminder\n",
    "\n",
    "Suppose we have a function $y = f(x_1, x_2, ..., x_n)$. Then we can propagate uncertainties $\\sigma_{x_i}$ using\n",
    "\n",
    "$\\sigma_{y}^2 = \\sum_i (\\frac{\\partial f}{\\partial x_i} \\sigma_{x_i})^2$\n",
    "\n",
    "E.g. if we have $y = f(a, b) = a + b$ we get for $a=10\\pm2$ and $b=20\\pm3$"
   ]
  },
  {
   "cell_type": "code",
   "execution_count": null,
   "id": "16908006-38f2-42d3-8914-7c4985deff4e",
   "metadata": {},
   "outputs": [],
   "source": [
    "import math"
   ]
  },
  {
   "cell_type": "code",
   "execution_count": null,
   "id": "ec8cc6bd-e31d-4050-8edf-70ad7c69ddd0",
   "metadata": {},
   "outputs": [],
   "source": [
    "a = 10\n",
    "b = 20\n",
    "sigma_a = 2\n",
    "sigma_b = 3\n",
    "\n",
    "y = a + b\n",
    "dyda = 1\n",
    "dydb = 1\n",
    "sigma_y = math.sqrt((dyda * sigma_a) ** 2 + (dydb * sigma_b) ** 2)\n",
    "\n",
    "f\"y = {y}+/-{sigma_y}\""
   ]
  },
  {
   "cell_type": "markdown",
   "id": "b1bd775c-1fe7-43e0-817b-da7e3979f2d1",
   "metadata": {},
   "source": [
    "## Correlations\n",
    "\n",
    "But what if we have correlated values, e.g. $y = f(c, d) = c + d$ with $c = a + b$ and $d = a \\cdot b$?\n",
    "\n",
    "Now $c$ and $d$ are correlated (because they both depend on $a$ and $b$).\n",
    "\n",
    "One way is of course to write $f$ as a function of the uncorrelated variables $a$ and $b$, $f(a, b) = a + b + a \\cdot b$ and get\n",
    "\n",
    "$\\sigma_y^2 = (\\frac{\\partial f}{\\partial a}\\sigma_a)^2 + (\\frac{\\partial f}{\\partial b}\\sigma_b)^2 = ((1 + b)\\sigma_a)^2 + ((1 + a)\\sigma_b)^2$"
   ]
  },
  {
   "cell_type": "code",
   "execution_count": null,
   "id": "ec88c0c8-c233-4868-b90f-1aec4f80b3c8",
   "metadata": {},
   "outputs": [],
   "source": [
    "y = a + b + a * b\n",
    "sigma_y = math.sqrt(((1 + b) * sigma_a) ** 2 + ((1 + a) * sigma_b) ** 2)\n",
    "f\"y = {y}+/-{sigma_y}\""
   ]
  },
  {
   "cell_type": "markdown",
   "id": "4f210e04-cc14-4ac9-a370-97933aacc643",
   "metadata": {},
   "source": [
    "Alternatively we use the more general error propagation function for the case where values can be correlated (see https://en.wikipedia.org/wiki/Propagation_of_uncertainty#Non-linear_combinations)\n",
    "\n",
    "$\\Sigma^f \\approx J\\Sigma^xJ^T$\n",
    "\n",
    "or in components\n",
    "\n",
    "$\\Sigma_{kl}^f = \\mathrm{cov}(f_k, f_l) \\approx \\sum_{ij} \\frac{\\partial f_k}{\\partial x_i}\\frac{\\partial f_l}{\\partial x_j} \\mathrm{cov}(x_i, x_j)$\n",
    "\n",
    "So in this example we could then first get the covariance of $c = a + b$ and $d = a \\cdot b$ via\n",
    "\n",
    "$\n",
    "\\mathrm{cov}(c, d) \\approx \\frac{\\partial c}{\\partial a}\\frac{\\partial d}{\\partial a} \\sigma_a^2 + \\frac{\\partial c}{\\partial b}\\frac{\\partial d}{\\partial b} \\sigma_b^2\n",
    "= b \\sigma_a^2 + a \\sigma_b^2\n",
    "$"
   ]
  },
  {
   "cell_type": "code",
   "execution_count": null,
   "id": "b1b1bb2e-caa1-4fea-bdd6-508b5bb2c17c",
   "metadata": {},
   "outputs": [],
   "source": [
    "cov_cd = b * sigma_a**2 + a * sigma_b**2\n",
    "cov_cd"
   ]
  },
  {
   "cell_type": "markdown",
   "id": "053030c0-58ff-41dd-ad49-35719966d27b",
   "metadata": {},
   "source": [
    "Then we get the propagated uncertainty as\n",
    "\n",
    "$\\sigma_c^2 = (\\frac{\\partial c}{\\partial a}\\sigma_a)^2 + (\\frac{\\partial c}{\\partial b}\\sigma_b)^2$\n",
    "\n",
    "$\\sigma_d^2 = (\\frac{\\partial d}{\\partial a}\\sigma_a)^2 + (\\frac{\\partial d}{\\partial b}\\sigma_b)^2$\n",
    "\n",
    "$\\sigma_y^2 = (\\frac{\\partial f}{\\partial c}\\sigma_c)^2 + (\\frac{\\partial f}{\\partial d}\\sigma_d)^2 + 2\\frac{\\partial f}{\\partial d}\\frac{\\partial f}{\\partial c}\\mathrm{cov}(c, d)$"
   ]
  },
  {
   "cell_type": "code",
   "execution_count": null,
   "id": "e58fbc6c-991c-42e5-8f1c-b28775b68b41",
   "metadata": {},
   "outputs": [],
   "source": [
    "sigma_c = math.sqrt(sigma_a**2 + sigma_b**2)\n",
    "sigma_d = math.sqrt((b * sigma_a) ** 2 + (a * sigma_b) ** 2)\n",
    "sigma_y = math.sqrt(sigma_c**2 + sigma_d**2 + 2 * cov_cd)\n",
    "\n",
    "f\"y = {y}+/-{sigma_y}\""
   ]
  },
  {
   "cell_type": "markdown",
   "id": "29962c18-d225-4ab7-a219-5959d8eabf69",
   "metadata": {},
   "source": [
    "## Use the uncertainties package"
   ]
  },
  {
   "cell_type": "markdown",
   "id": "28f2895b-e8e2-44bb-8fdd-341288897bb4",
   "metadata": {},
   "source": [
    "We don't need to calculate all that by hand (annoying especially for more complicated formulae). A very nice package from this is `uncertainties` (https://uncertainties.readthedocs.io)"
   ]
  },
  {
   "cell_type": "code",
   "execution_count": null,
   "id": "cd498ca6-8e21-4798-a305-d38349ff226d",
   "metadata": {},
   "outputs": [],
   "source": [
    "#!pip install uncertainties"
   ]
  },
  {
   "cell_type": "code",
   "execution_count": null,
   "id": "07e02908-6034-4bd2-9368-8e1fbb83eb3e",
   "metadata": {},
   "outputs": [],
   "source": [
    "import uncertainties\n",
    "from uncertainties import ufloat"
   ]
  },
  {
   "cell_type": "markdown",
   "id": "2441f788-9720-4a23-9ae4-f11189776000",
   "metadata": {},
   "source": [
    "We can define `ufloat` numbers that are numbers with errors:"
   ]
  },
  {
   "cell_type": "code",
   "execution_count": null,
   "id": "ff1a7fc1-e3f8-4450-86f4-f7a9925e4eb9",
   "metadata": {},
   "outputs": [],
   "source": [
    "a = ufloat(10, 2)\n",
    "b = ufloat(20, 3)"
   ]
  },
  {
   "cell_type": "code",
   "execution_count": null,
   "id": "a47668b2-368e-4dbc-9fb4-a2ee40eef1ff",
   "metadata": {},
   "outputs": [],
   "source": [
    "a"
   ]
  },
  {
   "cell_type": "code",
   "execution_count": null,
   "id": "3c8775c8-46c1-4819-a8e7-025e4988a49c",
   "metadata": {},
   "outputs": [],
   "source": [
    "b"
   ]
  },
  {
   "cell_type": "markdown",
   "id": "7a3204bf-62e0-4175-824b-3c2921d2cb07",
   "metadata": {},
   "source": [
    "Now, if we calculate something using these numbers, the uncertainties will be automatically propagated:"
   ]
  },
  {
   "cell_type": "code",
   "execution_count": null,
   "id": "05b6ab8a-9cbb-4747-96a5-f622e2c9ce52",
   "metadata": {},
   "outputs": [],
   "source": [
    "c = a + b\n",
    "c"
   ]
  },
  {
   "cell_type": "code",
   "execution_count": null,
   "id": "7d9a1d94-4868-4fdf-ac77-ac3ea82d6a28",
   "metadata": {},
   "outputs": [],
   "source": [
    "d = a * b\n",
    "d"
   ]
  },
  {
   "cell_type": "code",
   "execution_count": null,
   "id": "6cbbf1c1-a656-42b9-88e7-1ddb47bb558e",
   "metadata": {},
   "outputs": [],
   "source": [
    "y = c + d\n",
    "y"
   ]
  },
  {
   "cell_type": "markdown",
   "id": "c631fdaa-6c51-412f-9c74-13aa9f117970",
   "metadata": {},
   "source": [
    "This took the correlation of c and d into account. We can also retrieve the covariance matrix by"
   ]
  },
  {
   "cell_type": "code",
   "execution_count": null,
   "id": "149f83d8-f114-4fda-ae2c-d6cbb9cdce9e",
   "metadata": {},
   "outputs": [],
   "source": [
    "uncertainties.covariance_matrix([c, d])"
   ]
  },
  {
   "cell_type": "markdown",
   "id": "c2504ffa-8435-4c50-8686-86b775c7e098",
   "metadata": {},
   "source": [
    "Or the other way round, if we already have the covariance matrix between values (e.g. from a previous calculation or a fit result) we can pass it to uncertainties:"
   ]
  },
  {
   "cell_type": "code",
   "execution_count": null,
   "id": "ea33478e-202e-46dd-9927-2533be4ad305",
   "metadata": {},
   "outputs": [],
   "source": [
    "cc, dd = uncertainties.correlated_values(\n",
    "    [30, 200],\n",
    "    [[13.0, 170.0], [170.0, 2500.0]]\n",
    ")\n",
    "ff = cc + dd\n",
    "ff"
   ]
  },
  {
   "cell_type": "markdown",
   "id": "fa2b5623-b6b7-49bf-9c48-99843dfb9bd9",
   "metadata": {},
   "source": [
    "The `uncertainties.umath` module has the standard mathematical functions, so one can use these for `ufloat` values as well"
   ]
  },
  {
   "cell_type": "code",
   "execution_count": null,
   "id": "c3fd965d-7f60-47cf-813c-d0f8c09f2a6a",
   "metadata": {},
   "outputs": [],
   "source": [
    "from uncertainties import umath"
   ]
  },
  {
   "cell_type": "code",
   "execution_count": null,
   "id": "e9519945-e293-43ee-bdf1-0b9ad300e43f",
   "metadata": {
    "scrolled": true
   },
   "outputs": [],
   "source": [
    "dir(umath)"
   ]
  },
  {
   "cell_type": "code",
   "execution_count": null,
   "id": "4e7ec816-3ace-4576-b787-aa9c680a7ec6",
   "metadata": {},
   "outputs": [],
   "source": [
    "umath.sqrt(ff)"
   ]
  },
  {
   "cell_type": "markdown",
   "id": "5ea5be5d-4f6f-4e10-a4b4-855191f82c80",
   "metadata": {},
   "source": [
    "## Using the jacobi package"
   ]
  },
  {
   "cell_type": "markdown",
   "id": "aeb52f24-13c3-4350-837e-4a93d591e5a8",
   "metadata": {},
   "source": [
    "Sometimes we don't have a closed analytical form for our functions, so we may need to calculate the derivatives numerically. One package to do this is `jacobi` (https://hdembinski.github.io/jacobi):"
   ]
  },
  {
   "cell_type": "code",
   "execution_count": null,
   "id": "621e46b3-316c-4eeb-8c9a-b0bd8c9aa869",
   "metadata": {},
   "outputs": [],
   "source": [
    "#!pip install jacobi"
   ]
  },
  {
   "cell_type": "code",
   "execution_count": null,
   "id": "b358683a-f9fb-4a21-aa5e-ef686bc5b24d",
   "metadata": {},
   "outputs": [],
   "source": [
    "import jacobi"
   ]
  },
  {
   "cell_type": "code",
   "execution_count": null,
   "id": "fe6eb0f8-645a-438d-af22-a89dfd8afb5c",
   "metadata": {},
   "outputs": [],
   "source": [
    "def f(args):\n",
    "    c, d = args\n",
    "    return c + d"
   ]
  },
  {
   "cell_type": "code",
   "execution_count": null,
   "id": "6cd03136-b1c6-4a73-b5a1-e981fff2c1ca",
   "metadata": {},
   "outputs": [],
   "source": [
    "y, ycov = jacobi.propagate(\n",
    "    f,\n",
    "    [30, 200],\n",
    "    [[13.0, 170.0], [170.0, 2500.0]]\n",
    ")\n",
    "\n",
    "f\"{y}+/-{math.sqrt(ycov)}\""
   ]
  },
  {
   "cell_type": "markdown",
   "id": "565f3886-7590-42bf-80f8-0f9bf5e3098c",
   "metadata": {},
   "source": [
    "The advantage is that this will work for any arbitrary function even if it is not composable to operations that can act on `ufloat` values from uncertainties"
   ]
  },
  {
   "cell_type": "markdown",
   "id": "59836efe-ad2e-45a9-8f2a-5a3da0a3a74e",
   "metadata": {},
   "source": [
    "## Manual numerical propagation\n",
    "\n",
    "As a final method one can also manually propagate uncertainties through an arbitrary function by varying the inputs with +/- 1 standard deviation. Then in the error propagation formula we can replace\n",
    "\n",
    "$\\frac{\\partial f}{\\partial x}\\sigma_x \\approx \\frac{f(x + \\sigma_x) - f(x - \\sigma_x)}{2}$\n",
    "\n",
    "We then have to rewrite the covariance using the correlation:\n",
    "\n",
    "$\\mathrm{corr}({x_i, x_j}) = \\frac{\\mathrm{cov}(x_i, x_j)}{\\sigma_i\\sigma_j}$\n",
    "\n",
    "So we can write for the mixed terms\n",
    "\n",
    "$\\frac{\\partial f}{\\partial x_i}\\frac{\\partial f}{\\partial x_j}\\mathrm{cov}(x_i, x_j) \\approx \\frac{f(x_i + \\sigma_i, x_j) - f(x_i - \\sigma_i, x_j)}{2}\\frac{f(x_i, x_j + \\sigma_j) - f(x_i, x_j - \\sigma_j)}{2}\\mathrm{corr}({x_i, x_j})$"
   ]
  },
  {
   "cell_type": "markdown",
   "id": "c67c2bc0-c601-4206-b12e-5a8042ef48c9",
   "metadata": {},
   "source": [
    "With our simple example:"
   ]
  },
  {
   "cell_type": "code",
   "execution_count": null,
   "id": "bca212b0-0b51-4464-87e1-53651fedf2e9",
   "metadata": {},
   "outputs": [],
   "source": [
    "corrcoef = 170 / math.sqrt(13*2500)\n",
    "corrcoef"
   ]
  },
  {
   "cell_type": "markdown",
   "id": "9a64c9e3-d623-411b-aca7-658069ec1dc0",
   "metadata": {},
   "source": [
    "E.g. again for our simple example:"
   ]
  },
  {
   "cell_type": "code",
   "execution_count": null,
   "id": "85808d06-1e41-4bdd-ba55-7ac198dea14d",
   "metadata": {},
   "outputs": [],
   "source": [
    "sigma_c = math.sqrt(13)\n",
    "sigma_d = math.sqrt(2500)\n",
    "\n",
    "delta_c = (f((30 + sigma_c, 200)) - f((30 - sigma_c, 200))) / 2\n",
    "delta_d = (f((30, 200 + sigma_d)) - f((30, 200 - sigma_d))) / 2"
   ]
  },
  {
   "cell_type": "code",
   "execution_count": null,
   "id": "bb86a8fa-338a-41d7-9860-451057714d30",
   "metadata": {},
   "outputs": [],
   "source": [
    "dy = math.sqrt(delta_c**2 + delta_d**2 + 2 * delta_c * delta_d * corrcoef)\n",
    "dy"
   ]
  },
  {
   "cell_type": "markdown",
   "id": "49bb8651-ca2c-45f1-8fd8-96429549a6f1",
   "metadata": {},
   "source": [
    "Also this would work for arbitrary functions"
   ]
  },
  {
   "cell_type": "markdown",
   "id": "a354b260-17e5-455f-b4a6-1e645a8f7607",
   "metadata": {},
   "source": [
    "## With Monte Carlo methods (\"toys\")\n",
    "\n",
    "For complicated functions with a huge amount of parameters it might be worth sampling a bunch of values from the uncertain function inputs and check the standard deviation of the resulting function output:"
   ]
  },
  {
   "cell_type": "code",
   "execution_count": null,
   "id": "77935082-7648-4297-9dd6-4d0f68d94102",
   "metadata": {},
   "outputs": [],
   "source": [
    "import numpy as np"
   ]
  },
  {
   "cell_type": "code",
   "execution_count": null,
   "id": "43311136-564d-4fa2-b101-5cecb43a4770",
   "metadata": {},
   "outputs": [],
   "source": [
    "random_inputs = np.random.multivariate_normal(mean=[30, 200], cov=[[13.0, 170.0], [170.0, 2500.0]], size=100)"
   ]
  },
  {
   "cell_type": "code",
   "execution_count": null,
   "id": "ba2a0c29-3329-4050-9a3b-3ae9eee8664f",
   "metadata": {},
   "outputs": [],
   "source": [
    "random_outputs = [f((c, d)) for c, d in random_inputs]"
   ]
  },
  {
   "cell_type": "code",
   "execution_count": null,
   "id": "59311e13-0cfa-4df4-8398-206e2bcc31be",
   "metadata": {},
   "outputs": [],
   "source": [
    "np.std(random_outputs)"
   ]
  },
  {
   "cell_type": "markdown",
   "id": "3a6131fb-521e-4415-952e-6b40e64c8a4c",
   "metadata": {},
   "source": [
    "This will of course fluctuate in the order of $\\sqrt{N}$ depending on the size $N$ of the toy sample (here for $N=100$ we excpect a precision in the order of 10%)"
   ]
  }
 ],
 "metadata": {
  "kernelspec": {
   "display_name": "Python 3 (ipykernel)",
   "language": "python",
   "name": "python3"
  },
  "language_info": {
   "codemirror_mode": {
    "name": "ipython",
    "version": 3
   },
   "file_extension": ".py",
   "mimetype": "text/x-python",
   "name": "python",
   "nbconvert_exporter": "python",
   "pygments_lexer": "ipython3",
   "version": "3.12.7"
  }
 },
 "nbformat": 4,
 "nbformat_minor": 5
}
