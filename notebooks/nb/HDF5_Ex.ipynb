{
 "cells": [
  {
   "cell_type": "markdown",
   "id": "16826091-fcb8-4e2e-afc1-de45dd18ee1c",
   "metadata": {},
   "source": [
    "### HDF5 Format\n",
    "\n",
    "For  numerical data, in particular for large data volumes, HDF5 is a popular format.\n",
    "\n",
    "* HDF5 data is portable between different applications, all common programming languages provide interfaces for it.\n",
    "* You can process large data in chunks, i.e. you do not need to load the full data volume in RAM and one can process arbitrarily large data volumes\n",
    "* HDF5 implements some sort of directory structure -– the datasets are structured in directories -- similar to files in a file-system.\n",
    "\n",
    "In Python there are several modules for HDF5: h5py, PyTables, Pandas IO.\n",
    "In the following example we use h5py. \n",
    "\n",
    "HDF5 has many more features – deep directory structures, meta-data attributes, sophisticated compression, ...   \n",
    "\n",
    "See e.g. https://www.pythonforthelab.com/blog/how-to-use-hdf5-files-in-python/ "
   ]
  },
  {
   "cell_type": "markdown",
   "id": "3fe64894-a480-4e29-b442-079ecb9f6e38",
   "metadata": {},
   "source": [
    "### HDF5 examples with h5py\n"
   ]
  },
  {
   "cell_type": "code",
   "execution_count": null,
   "id": "bf027d75-0016-4d9d-b950-e23c351fdda9",
   "metadata": {},
   "outputs": [],
   "source": [
    "# create hdf5 data set\n",
    "import h5py\n",
    "import numpy as np\n",
    "\n",
    "arr = np.random.randn(10000) # 10k normally distributed numbers\n",
    "\n",
    "f = h5py.File('rand1.hdf5', 'w')\n",
    "f.create_dataset(\"default\", data=arr) # single data set as 'default'\n",
    "f.close()"
   ]
  },
  {
   "cell_type": "code",
   "execution_count": null,
   "id": "d3d605bd-95d1-4ecb-ac65-8cee9e67616e",
   "metadata": {},
   "outputs": [],
   "source": [
    "# read back in\n",
    "# read back from hdf5 data\n",
    "f = h5py.File('rand1.hdf5', 'r')\n",
    "data = f['default']\n",
    "print(min(data))\n",
    "print(max(data))\n",
    "print(data[:15])"
   ]
  },
  {
   "cell_type": "markdown",
   "id": "11caf362-9726-49a0-bd8c-e7dbaba82ca0",
   "metadata": {},
   "source": [
    "#### hdf5 dataset vs numpy array\n",
    "An hdf5/h5py dataset is similar to a numpy array and one can copy the content into a numpy array"
   ]
  },
  {
   "cell_type": "code",
   "execution_count": null,
   "id": "79275d0b-8923-49d2-a1ac-4fc0e8bf49ce",
   "metadata": {},
   "outputs": [],
   "source": [
    "import matplotlib.pyplot as plt\n",
    "plt.hist(data,50);"
   ]
  },
  {
   "cell_type": "code",
   "execution_count": null,
   "id": "c2c3ed67-c942-43cf-870c-e44f65af731c",
   "metadata": {},
   "outputs": [],
   "source": [
    "nd = data[:]\n",
    "print(type(data),type(nd))"
   ]
  },
  {
   "cell_type": "markdown",
   "id": "b62717b2-d195-4d18-b912-fc445312031c",
   "metadata": {},
   "source": [
    "**However:** H5PY dataset is only active as long as the file is open:"
   ]
  },
  {
   "cell_type": "code",
   "execution_count": null,
   "id": "3b8660cf-7e53-4f50-a150-08c5e40ad482",
   "metadata": {},
   "outputs": [],
   "source": [
    "f.close()\n",
    "#\n",
    "print(data[:15]) # error after file closed\n"
   ]
  },
  {
   "cell_type": "markdown",
   "id": "45db7947-a156-4aaf-b388-6c30ac153962",
   "metadata": {},
   "source": [
    "\n",
    "#### Store several datasets"
   ]
  },
  {
   "cell_type": "code",
   "execution_count": null,
   "id": "c10ebd70-f87f-4def-bdb1-9b5a55dbbc9c",
   "metadata": {},
   "outputs": [],
   "source": [
    "nv = 10000\n",
    "af = np.random.randn(nv)\n",
    "ai = np.random.randint(0,10,(nv,3))\n",
    "\n",
    "\n",
    "with h5py.File('rand2.hdf5', 'w') as f:\n",
    "    f.create_dataset(\"floats\", data=af)\n",
    "    f.create_dataset(\"ints\", data=ai)"
   ]
  },
  {
   "cell_type": "code",
   "execution_count": null,
   "id": "05d6cea5-7d2d-4dbe-a946-dc3b40e72629",
   "metadata": {},
   "outputs": [],
   "source": [
    "# open for reading\n",
    "f=h5py.File('rand2.hdf5')\n",
    "for k in f.keys():\n",
    "    print(k)"
   ]
  },
  {
   "cell_type": "code",
   "execution_count": null,
   "id": "29523686-5578-414a-8f73-fcb6ec7e0cf4",
   "metadata": {},
   "outputs": [],
   "source": [
    "df = f['floats']\n",
    "print(df[:10])"
   ]
  },
  {
   "cell_type": "code",
   "execution_count": null,
   "id": "eccd8f7d-25b6-4792-8d9f-25ab36198d2d",
   "metadata": {},
   "outputs": [],
   "source": [
    "di=f['ints']\n",
    "print(di[:10])"
   ]
  },
  {
   "cell_type": "code",
   "execution_count": null,
   "id": "b4853e1e-1d4a-458d-8eca-28184d0f3d0d",
   "metadata": {},
   "outputs": [],
   "source": [
    "# don't forget closing\n",
    "f.close()"
   ]
  },
  {
   "cell_type": "code",
   "execution_count": null,
   "id": "e36e61bd-70d5-4e80-841b-5ab1ea10af8c",
   "metadata": {},
   "outputs": [],
   "source": []
  }
 ],
 "metadata": {
  "kernelspec": {
   "display_name": "Python 3 (ipykernel)",
   "language": "python",
   "name": "python3"
  },
  "language_info": {
   "codemirror_mode": {
    "name": "ipython",
    "version": 3
   },
   "file_extension": ".py",
   "mimetype": "text/x-python",
   "name": "python",
   "nbconvert_exporter": "python",
   "pygments_lexer": "ipython3",
   "version": "3.9.12"
  }
 },
 "nbformat": 4,
 "nbformat_minor": 5
}
