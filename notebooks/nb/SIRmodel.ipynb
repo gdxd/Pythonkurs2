{
 "cells": [
  {
   "cell_type": "markdown",
   "id": "f49cffc3",
   "metadata": {},
   "source": [
    "## Problem 1: Mathematical model of an infectious disease\n",
    "\n",
    "Consider the [SIR model](https://de.wikipedia.org/wiki/SIR-Modell) characterized through the following coupled systems of ordinary differential equations:\n",
    "* ${\\frac {dS}{dt}}=-c{\\frac {S}{N}}I$\n",
    "* ${\\frac {dI}{dt}}=c{\\frac {S}{N}}I-wI$\n",
    "* ${\\frac {dR}{dt}}=wI$\n",
    "\n",
    "with the boundary condition that the total number of individuals N, which is the sum of S, I, and R, is constant\n",
    "* $N=S+I+R$\n",
    "\n",
    "(Obviously, the boundary condition is trivially fulfilled as the sum of the derivatives is zero, i.e. no births or deaths are included in this version of the model.)\n",
    "\n",
    "Herein are:\n",
    "* S: number of susceptible individuals\n",
    "* I: number of infected individuals\n",
    "* R: number of recovered (removed) individuals\n",
    "* c: probability of disease transmission\n",
    "* w: rate of recovery\n",
    "* t: time (independent variable)"
   ]
  },
  {
   "cell_type": "markdown",
   "id": "30a8d8aa",
   "metadata": {},
   "source": [
    "Your tasks:\n",
    "* Solve this system of equations using methods presented in the course and plot S, I and R as a function of time.\n",
    "* Change the parameters c and w and study their impact.\n",
    "* Make the model more dynamic by e.g. introducing a birth and a death rate, or vaccination.\n",
    "\n",
    "### Background\n",
    "The SIR model (developed by W. O. Kermack and A. G. McKendrick in 1927) is one of the simplest variants in a group of [compartmental models](https://en.wikipedia.org/wiki/Compartmental_models_in_epidemiology) used in theoretical biology to model how an infectious disease spreads in a population in order to determine the likely outcome of an epidemic. The variables S, I and R represent the number of people in the compartments of the population and the differential equations describe the transition rates and thus flow between the compartments over time. When based on ODEs, the models are deterministic.\n",
    "\n",
    "The basic reproduction number $R$ is given by $R=c/w$. It describes the expected number of new infections caused by one infected individual (in a population where all subjects are susceptible).\n",
    "\n",
    "A more complex model based on SEIR and including deaths and hospitalization with an interactive interface can be found [here](https://gabgoh.github.io/COVID/index.html). In addition to more compartments, one can also consider spatial dependencies in addition to time."
   ]
  },
  {
   "cell_type": "markdown",
   "id": "6f3785a5",
   "metadata": {},
   "source": [
    "## Problem 2: Understanding and working with a real-life dataset"
   ]
  },
  {
   "cell_type": "markdown",
   "id": "4bc93039",
   "metadata": {},
   "source": [
    "Here, we are going to work with two datasets that contain the daily new cases of reported COVID-19 infections. The purpose of this exercise is to practice the use of the Python tools that we encountered in the course and how to apply them to work with real-life data and gain experience what problems might occur.\n"
   ]
  },
  {
   "cell_type": "code",
   "execution_count": null,
   "id": "f336a417-2153-4a29-b7f4-8bd6d4e7a019",
   "metadata": {},
   "outputs": [],
   "source": [
    "# you might need to install package first\n",
    "!pip install requests_cache"
   ]
  },
  {
   "cell_type": "code",
   "execution_count": null,
   "id": "c1df6858",
   "metadata": {},
   "outputs": [],
   "source": [
    "### imports\n",
    "import numpy as np\n",
    "import pandas as pd\n",
    "import matplotlib.pyplot as plt\n",
    "from requests_cache import CachedSession"
   ]
  },
  {
   "cell_type": "markdown",
   "id": "a0c57268",
   "metadata": {},
   "source": [
    "To avoid that the data is downloaded every time we run the notebook, we will use a module for caching that will create a local copy of the URLs we retrieve and only refetch them when a certain time has passed. "
   ]
  },
  {
   "cell_type": "code",
   "execution_count": null,
   "id": "e140a8e2",
   "metadata": {},
   "outputs": [],
   "source": [
    "### set up cached session\n",
    "session = CachedSession('../data/cache_plot_corona_cases', backend='sqlite', expire_after = 86400)\n",
    "\n",
    "### helper functions\n",
    "def SaveURL(url, path):\n",
    "  with open(path, \"w\") as outf:\n",
    "    outf.write(GetURL(url))\n",
    "    \n",
    "def GetURL(url):\n",
    "  response = session.get(url)\n",
    "  print(f\"Loaded {url} from cache: {response.from_cache}\")\n",
    "  if response.status_code != 200:\n",
    "    print(f\"Request failed with code {response.status_code}\")\n",
    "    return None\n",
    "  else:\n",
    "    return response.text"
   ]
  },
  {
   "cell_type": "markdown",
   "id": "b6ba3481",
   "metadata": {},
   "source": [
    "We will use 2 datasets, one provided by the Robert-Koch-Institut (RKI) and one from the Johns Hopkins University (JHU). Both are in CSV format."
   ]
  },
  {
   "cell_type": "code",
   "execution_count": null,
   "id": "d2b5b00a",
   "metadata": {},
   "outputs": [],
   "source": [
    "def LoadDataset(url, local_path, date_column, cases_column):\n",
    "  SaveURL(url, local_path)\n",
    "  df = pd.read_csv(local_path, parse_dates = [date_column])\\\n",
    "         .set_index(date_column)\n",
    "  print(\"Last data point:\")\n",
    "  print(df.tail(1)[cases_column])\n",
    "  return df"
   ]
  },
  {
   "cell_type": "code",
   "execution_count": null,
   "id": "a3e06341",
   "metadata": {},
   "outputs": [],
   "source": [
    "# RKI, documentation: https://github.com/robert-koch-institut/SARS-CoV-2-Nowcasting_und_-R-Schaetzung/#readme\n",
    "dfr = LoadDataset(\"https://raw.githubusercontent.com/robert-koch-institut/SARS-CoV-2-Nowcasting_und_-R-Schaetzung/main/Nowcast_R_aktuell.csv\", \n",
    "                  \"/tmp/Nowcast_R_aktuell.csv\",\n",
    "                  \"Datum\",\n",
    "                  \"PS_COVID_Faelle\")\n",
    "# JHU, documentation: https://github.com/owid/covid-19-data/tree/master/public/data#readme\n",
    "dfj = LoadDataset(\"https://raw.githubusercontent.com/owid/covid-19-data/master/public/data/jhu/new_cases.csv\", \n",
    "                  \"/tmp/new_cases.csv\",\n",
    "                  \"date\",\n",
    "                  \"Germany\")"
   ]
  },
  {
   "cell_type": "markdown",
   "id": "fff8c0f7",
   "metadata": {},
   "source": [
    "As a first step, it's always good to plot a dataset to see whether it makes sense intuitively:"
   ]
  },
  {
   "cell_type": "code",
   "execution_count": null,
   "id": "2e411573",
   "metadata": {},
   "outputs": [],
   "source": [
    "def Plot_Curve(df, colname, label,period=None):\n",
    "    if period is None:\n",
    "        l1 = plt.plot(df[colname], label = label)\n",
    "    else:\n",
    "        l1 = plt.plot(df[period][colname], label = label)\n",
    "      # mark last point with a star\n",
    "    last = df.tail(1)\n",
    "    plt.plot(last.index, last[colname], \"*\", color = l1[0].get_color())"
   ]
  },
  {
   "cell_type": "code",
   "execution_count": null,
   "id": "0d8053f3",
   "metadata": {},
   "outputs": [],
   "source": [
    "# larger plots\n",
    "import matplotlib.pyplot as plt\n",
    "plt.rcParams['figure.figsize'] = [16, 8]\n",
    "# plot RKI data\n",
    "Plot_Curve(dfr, \"PS_COVID_Faelle\", \"Nowcast\")\n",
    "# plot JHU data\n",
    "Plot_Curve(dfj, \"Germany\", \"JHU\")\n",
    "# style\n",
    "plt.tick_params(right = True, labelright = True)\n",
    "plt.xlabel(\"Date\")\n",
    "plt.ylabel(\"New cases / day (Germany)\")\n",
    "plt.legend()\n",
    "plt.tight_layout()"
   ]
  },
  {
   "cell_type": "markdown",
   "id": "3e1b5259",
   "metadata": {},
   "source": [
    "Your tasks:\n",
    "1. Looking at the plot, what differences between the datasets do you spot?\n",
    "2. Have a look at the README files to understand the features of the datasets:\n",
    "  * [README for RKI data](https://github.com/robert-koch-institut/SARS-CoV-2-Nowcasting_und_-R-Schaetzung/#readme)\n",
    "  * [README for JHU data](https://github.com/owid/covid-19-data/tree/master/public/data#readme)\n",
    "3. Both datasets have strong fluctuations. Think about possible reasons. Do you think these are real? How can you fix these?"
   ]
  },
  {
   "cell_type": "markdown",
   "id": "8d0c9567",
   "metadata": {},
   "source": [
    "To compare numbers in the constituent states of Germany we can use this dataset:"
   ]
  },
  {
   "cell_type": "code",
   "execution_count": null,
   "id": "659c008d",
   "metadata": {},
   "outputs": [],
   "source": [
    "dfbl = LoadDataset(\"https://raw.githubusercontent.com/jgehrcke/covid-19-germany-gae/master/cases-rl-crowdsource-by-state.csv\",\n",
    "            \"/tmp/cases-rl-crowdsource-by-state.csv\",\n",
    "            \"time_iso8601\",\n",
    "            \"sum_cases\")"
   ]
  },
  {
   "cell_type": "code",
   "execution_count": null,
   "id": "f4858838",
   "metadata": {},
   "outputs": [],
   "source": [
    "dfbl.columns"
   ]
  },
  {
   "cell_type": "code",
   "execution_count": null,
   "id": "c4979f8a",
   "metadata": {},
   "outputs": [],
   "source": [
    "dfbl.loc[:, \"DE-BB\":\"DE-TH\"].plot();"
   ]
  },
  {
   "cell_type": "code",
   "execution_count": null,
   "id": "34cae118",
   "metadata": {},
   "outputs": [],
   "source": []
  }
 ],
 "metadata": {
  "@webio": {
   "lastCommId": null,
   "lastKernelId": null
  },
  "kernelspec": {
   "display_name": "Python 3 (ipykernel)",
   "language": "python",
   "name": "python3"
  },
  "language_info": {
   "codemirror_mode": {
    "name": "ipython",
    "version": 3
   },
   "file_extension": ".py",
   "mimetype": "text/x-python",
   "name": "python",
   "nbconvert_exporter": "python",
   "pygments_lexer": "ipython3",
   "version": "3.9.12"
  }
 },
 "nbformat": 4,
 "nbformat_minor": 5
}
