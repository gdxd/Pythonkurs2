{
 "cells": [
  {
   "cell_type": "markdown",
   "metadata": {},
   "source": [
    "### JSON and REST API ###\n",
    "\n",
    "Modern communication services do not just exchange data files but provide a much more functional interface, a so-called **API** (Application Programming Interface). \n",
    "\n",
    "Most internet companies (Google, Facebook, ...) provide such an API in addition to their usual Web-portal, this way one can  directly request certain data elements  in a computer program.\n",
    "\n",
    "The REST API *(Representational state transfer)* is an API that uses HTTP requests for communication with web services.\n",
    "\n",
    "The Python **requests** module is a general http library which also provides  provides REST API functionality \n",
    "\n",
    "#### Simple example: ISS data ####\n",
    "A nice service is provided for the ISS (International Space Station)\n",
    "\n"
   ]
  },
  {
   "cell_type": "code",
   "execution_count": null,
   "metadata": {},
   "outputs": [],
   "source": [
    "# Python module requests \n",
    "import requests\n",
    "response = requests.get(\"http://api.open-notify.org/astros.json\")\n",
    "print(response.status_code)"
   ]
  },
  {
   "cell_type": "code",
   "execution_count": null,
   "metadata": {},
   "outputs": [],
   "source": [
    "response.text"
   ]
  },
  {
   "cell_type": "code",
   "execution_count": null,
   "metadata": {},
   "outputs": [],
   "source": [
    "j=response.json()\n",
    "j"
   ]
  },
  {
   "cell_type": "code",
   "execution_count": null,
   "metadata": {},
   "outputs": [],
   "source": [
    "j['people']"
   ]
  },
  {
   "cell_type": "markdown",
   "metadata": {},
   "source": [
    "#### Query parameters - ISS transition ####\n",
    "In many cases the endpoint also takes parameters for the query to in order to specify what kind of information one wants to get. The above example http://api.open-notify.org/astros.json takes no parameters, but there is also http://api.open-notify.org/iss-pass.json which takes a geographic location as parameters and returns information when the ISS crosses this location. \n"
   ]
  },
  {
   "cell_type": "code",
   "execution_count": null,
   "metadata": {},
   "outputs": [],
   "source": [
    "\n",
    "\n",
    "parameters = {\n",
    "    # coords of Muenchen\n",
    "    \"lat\": 48.13,\n",
    "    \"lon\": 11.58\n",
    "}\n",
    "response = requests.get(\"http://api.open-notify.org/iss-pass.json\", params=parameters)\n",
    "\n",
    "j=response.json()\n",
    "j\n",
    "\n",
    "# unfortunately broken (GD, Sep 14, 2022)\n",
    "# only people and current location still works:\n",
    "#http://api.open-notify.org/iss-now.json"
   ]
  },
  {
   "cell_type": "markdown",
   "metadata": {},
   "source": [
    "\n",
    "\n",
    "\n",
    "You can also **directly query web-page**:\n",
    "http://api.open-notify.org/iss-pass.json?lat=48.13&lon=11.58"
   ]
  },
  {
   "cell_type": "code",
   "execution_count": null,
   "metadata": {},
   "outputs": [],
   "source": [
    "# how to transform epoch-times to readable form\n",
    "times=[a['risetime'] for a in j['response']]\n",
    "from datetime import datetime\n",
    "for t in times:\n",
    "    print(datetime.fromtimestamp(t))"
   ]
  },
  {
   "cell_type": "markdown",
   "metadata": {},
   "source": [
    "#### API authentication ####\n",
    "\n",
    "Only few services offer free access without authentication, most services require some form of registration and authentication. \n",
    "\n",
    "Details go beyond the scope of this course. A nice introduction and overview how to proceed is given at \n",
    "https://rapidapi.com/blog/how-to-use-an-api-with-python/\n",
    "\n"
   ]
  },
  {
   "cell_type": "markdown",
   "metadata": {},
   "source": [
    "---\n",
    "\n",
    "#### Weather API -- get weather data for Munich "
   ]
  },
  {
   "cell_type": "code",
   "execution_count": null,
   "metadata": {},
   "outputs": [],
   "source": [
    "#### currently broken\n",
    "import requests\n",
    "\n",
    "#url = \"https://community-open-weather-map.p.rapidapi.com/weather\"\n",
    "\n",
    "#querystring = {\"callback\":\"test\",\"id\":\"2172797\",\n",
    "#               \"units\":\"metric\",\"q\":\"Muenchen,de\"}\n",
    "\n",
    "# needs proper key to work\n",
    "#headers = {\n",
    "#    'x-rapidapi-host': \"community-open-weather-map.p.rapidapi.com\",\n",
    "#    'x-rapidapi-key': \"your-key\"\n",
    "#    }\n",
    "\n",
    "#response = requests.request(\"GET\", url, headers=headers, params=querystring)\n",
    "\n",
    "#### this works (Sep 14, 2022)\n",
    "lat = \"48.13\"\n",
    "lon = \"11.58\"\n",
    "d='2022-09-28T13:00:00'\n",
    "url = \"https://api.brightsky.dev/weather?lat=%s&lon=%s&date=%s\" % (lat, lon, d)\n",
    "querystring = {\"lat\":lat,\"lon\":lon,\n",
    "               \"date\":d}\n",
    "response = requests.request(\"GET\", url, params=querystring)\n",
    "\n",
    "#print(response.text)\n",
    "j=response.json()\n",
    "j['weather'][0]['temperature']"
   ]
  },
  {
   "cell_type": "code",
   "execution_count": null,
   "metadata": {},
   "outputs": [],
   "source": []
  }
 ],
 "metadata": {
  "kernelspec": {
   "display_name": "Python 3 (ipykernel)",
   "language": "python",
   "name": "python3"
  },
  "language_info": {
   "codemirror_mode": {
    "name": "ipython",
    "version": 3
   },
   "file_extension": ".py",
   "mimetype": "text/x-python",
   "name": "python",
   "nbconvert_exporter": "python",
   "pygments_lexer": "ipython3",
   "version": "3.9.12"
  },
  "toc": {
   "base_numbering": 1,
   "nav_menu": {},
   "number_sections": true,
   "sideBar": true,
   "skip_h1_title": false,
   "title_cell": "Table of Contents",
   "title_sidebar": "Contents",
   "toc_cell": false,
   "toc_position": {},
   "toc_section_display": true,
   "toc_window_display": false
  }
 },
 "nbformat": 4,
 "nbformat_minor": 4
}
