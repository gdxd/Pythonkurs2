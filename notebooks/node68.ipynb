{
 "cells": [
  {
   "cell_type": "markdown",
   "metadata": {},
   "source": [
    "[Node 68: Webprogrammierung](http://www-static.etp.physik.uni-muenchen.de/kurs/Computing/python2/node68.html)"
   ]
  },
  {
   "cell_type": "markdown",
   "metadata": {},
   "source": [
    "Navigation:\n",
    "\n",
    "**Next:** [Web-Framework Django](node69.ipynb) **Up:** [Web-Framework Django](node69.ipynb) **Previous:** [Web-Framework Django](node69.ipynb)"
   ]
  },
  {
   "cell_type": "markdown",
   "metadata": {},
   "source": [
    "## Web Programming\n",
    "For performance reasons, web servers are usually written in C/C++, such as Apache or [lighttpd](https://www.lighttpd.net/). Such a performance is not always necessary, e.g. in embedded systems.\n",
    "\n",
    "The Python standard library provides two classes derived from <font color=#0000e6> ``Socket.Server.TCPServer``</font> for a web server: <font color=#0000e6> ``SimpleHTTPServer``</font> and <font color=#0000e6> ``CGIHTTPServer``</font> . Both classes are based on the <font color=#0000e6> ``http.server``</font> .\n",
    "\n",
    "The simplest web server:"
   ]
  },
  {
   "cell_type": "code",
   "execution_count": null,
   "metadata": {},
   "outputs": [],
   "source": [
    "import http.server as hs\n",
    "server_address = (\"\", 9090)\n",
    "handler_class  = hs.BaseHTTPRequestHandler\n",
    "server_class   = hs.HTTPServer\n",
    "server = server_class(server_address, handler_class)\n",
    "server.serve_forever()"
   ]
  },
  {
   "cell_type": "markdown",
   "metadata": {},
   "source": [
    "Run this program and go to the following address in a web browser: [http://localhost:9090/](http://localhost:9090/)."
   ]
  },
  {
   "cell_type": "markdown",
   "metadata": {},
   "source": [
    "This doesn't work properly yet: The server can't interpret the <font color=#0000e6> ``GET``</font> method because the <font color=#0000e6> ``handle``</font> method of <font color=#0000e6> ``BaseHTTPRequestHandler``</font> could not find a <font color=#0000e6> ``do_GET``</font> method.\n",
    "\n",
    "A corresponding extension is necessary:"
   ]
  },
  {
   "cell_type": "code",
   "execution_count": 10,
   "metadata": {},
   "outputs": [
    {
     "name": "stdout",
     "output_type": "stream",
     "text": [
      "Got GET Request from ('127.0.0.1', 41966)\n",
      "Got GET Request from ('127.0.0.1', 41982)\n"
     ]
    },
    {
     "ename": "KeyboardInterrupt",
     "evalue": "",
     "output_type": "error",
     "traceback": [
      "\u001b[0;31m---------------------------------------------------------------------------\u001b[0m",
      "\u001b[0;31mKeyboardInterrupt\u001b[0m                         Traceback (most recent call last)",
      "Input \u001b[0;32mIn [10]\u001b[0m, in \u001b[0;36m<cell line: 10>\u001b[0;34m()\u001b[0m\n\u001b[1;32m      8\u001b[0m server_class   \u001b[38;5;241m=\u001b[39m hs\u001b[38;5;241m.\u001b[39mHTTPServer\n\u001b[1;32m      9\u001b[0m server \u001b[38;5;241m=\u001b[39m server_class(server_address, handler_class)\n\u001b[0;32m---> 10\u001b[0m \u001b[43mserver\u001b[49m\u001b[38;5;241;43m.\u001b[39;49m\u001b[43mserve_forever\u001b[49m\u001b[43m(\u001b[49m\u001b[43m)\u001b[49m\n",
      "File \u001b[0;32m~/anaconda3/lib/python3.9/socketserver.py:232\u001b[0m, in \u001b[0;36mBaseServer.serve_forever\u001b[0;34m(self, poll_interval)\u001b[0m\n\u001b[1;32m    229\u001b[0m selector\u001b[38;5;241m.\u001b[39mregister(\u001b[38;5;28mself\u001b[39m, selectors\u001b[38;5;241m.\u001b[39mEVENT_READ)\n\u001b[1;32m    231\u001b[0m \u001b[38;5;28;01mwhile\u001b[39;00m \u001b[38;5;129;01mnot\u001b[39;00m \u001b[38;5;28mself\u001b[39m\u001b[38;5;241m.\u001b[39m__shutdown_request:\n\u001b[0;32m--> 232\u001b[0m     ready \u001b[38;5;241m=\u001b[39m \u001b[43mselector\u001b[49m\u001b[38;5;241;43m.\u001b[39;49m\u001b[43mselect\u001b[49m\u001b[43m(\u001b[49m\u001b[43mpoll_interval\u001b[49m\u001b[43m)\u001b[49m\n\u001b[1;32m    233\u001b[0m     \u001b[38;5;66;03m# bpo-35017: shutdown() called during select(), exit immediately.\u001b[39;00m\n\u001b[1;32m    234\u001b[0m     \u001b[38;5;28;01mif\u001b[39;00m \u001b[38;5;28mself\u001b[39m\u001b[38;5;241m.\u001b[39m__shutdown_request:\n",
      "File \u001b[0;32m~/anaconda3/lib/python3.9/selectors.py:416\u001b[0m, in \u001b[0;36m_PollLikeSelector.select\u001b[0;34m(self, timeout)\u001b[0m\n\u001b[1;32m    414\u001b[0m ready \u001b[38;5;241m=\u001b[39m []\n\u001b[1;32m    415\u001b[0m \u001b[38;5;28;01mtry\u001b[39;00m:\n\u001b[0;32m--> 416\u001b[0m     fd_event_list \u001b[38;5;241m=\u001b[39m \u001b[38;5;28;43mself\u001b[39;49m\u001b[38;5;241;43m.\u001b[39;49m\u001b[43m_selector\u001b[49m\u001b[38;5;241;43m.\u001b[39;49m\u001b[43mpoll\u001b[49m\u001b[43m(\u001b[49m\u001b[43mtimeout\u001b[49m\u001b[43m)\u001b[49m\n\u001b[1;32m    417\u001b[0m \u001b[38;5;28;01mexcept\u001b[39;00m \u001b[38;5;167;01mInterruptedError\u001b[39;00m:\n\u001b[1;32m    418\u001b[0m     \u001b[38;5;28;01mreturn\u001b[39;00m ready\n",
      "\u001b[0;31mKeyboardInterrupt\u001b[0m: "
     ]
    }
   ],
   "source": [
    "import http.server as hs\n",
    "class MyHandler(hs.BaseHTTPRequestHandler):\n",
    "    def do_GET(self):\n",
    "        print(\"Got GET Request from\", self.client_address)\n",
    "        self.wfile.write(b'Sorry, I do not speak HTTP. Go away.\\r\\n')\n",
    "server_address = (\"\", 9092)\n",
    "handler_class  = MyHandler\n",
    "server_class   = hs.HTTPServer\n",
    "server = server_class(server_address, handler_class)\n",
    "server.serve_forever()"
   ]
  },
  {
   "cell_type": "markdown",
   "metadata": {},
   "source": [
    "Now calling http://localhost:9091/ works.\n",
    "\n",
    "(Note: As before, we use a different port each time to bypass [this problem](https://dev.to/dechamp/the-dreaded-bind-address-already-in-use-kill-it-583l). There are plenty of them. Another, more elegant solution is to catch the exception and release the socket again -- see below.)"
   ]
  },
  {
   "cell_type": "markdown",
   "metadata": {},
   "source": [
    "This example can now be extended to a simple pocket calculator, for example. This accepts requests of the form \"<tt>/{add,sub,mul,div}/num1/num2</tt>\" that are passed in the URL. This request allows to add, subtract etc. two numbers <tt>num1</tt> and <tt>num2</tt>.\n",
    "\n",
    "The example also performs a series of checks to ensure that the request is valid. This is essential for services that are open to the world so as not to be vulnerable to abuse. (Typically, a server that you start on your own computer will not be easily accessible worldwide, but only from your home network.)\n",
    "\n",
    "Additionally, ``server.serv_forever()`` is wrapped in a ``try-except`` block to cleanly stop the server (and unblock the port again)."
   ]
  },
  {
   "cell_type": "code",
   "execution_count": 11,
   "metadata": {},
   "outputs": [
    {
     "name": "stdout",
     "output_type": "stream",
     "text": [
      "Starting server...\n"
     ]
    },
    {
     "name": "stderr",
     "output_type": "stream",
     "text": [
      "127.0.0.1 - - [30/Sep/2022 10:58:49] \"GET / HTTP/1.1\" 403 -\n",
      "127.0.0.1 - - [30/Sep/2022 10:59:21] \"GET /mul/15/5/ HTTP/1.1\" 403 -\n",
      "127.0.0.1 - - [30/Sep/2022 10:59:33] \"GET /mul/15/5/ HTTP/1.1\" 403 -\n",
      "127.0.0.1 - - [30/Sep/2022 11:00:11] \"GET /mul/15/5 HTTP/1.1\" 200 -\n",
      "127.0.0.1 - - [30/Sep/2022 11:00:31] \"GET /mul/15/15 HTTP/1.1\" 200 -\n"
     ]
    },
    {
     "name": "stdout",
     "output_type": "stream",
     "text": [
      "Stopping server...\n"
     ]
    }
   ],
   "source": [
    "import http.server\n",
    "\n",
    "class CalcHandler(http.server.BaseHTTPRequestHandler):\n",
    "\n",
    "  def do_GET(self):\n",
    "    path = self.path\n",
    "\n",
    "    lst = path.split(\"/\")\n",
    "    if len(lst) != 4:\n",
    "      self.send_response(403)\n",
    "      self.end_headers()\n",
    "      self.wfile.write(b\"Illegal syntax. Use /{add,sub,mul,div}/num1/num2\\r\\n\")\n",
    "      return\n",
    "\n",
    "    dummy, op, arg1, arg2 = lst\n",
    "\n",
    "    if op not in (\"add\", \"sub\", \"mul\", \"div\"):\n",
    "      self.send_response(403)\n",
    "      self.end_headers()\n",
    "      self.wfile.write(b\"Illegal operation: %s\\r\\n\" % op)\n",
    "      return\n",
    "\n",
    "    try:\n",
    "      numarg1 = float(arg1)\n",
    "      numarg2 = float(arg2)\n",
    "    except ValueError:\n",
    "      self.send_response(403)\n",
    "      self.end_headers()\n",
    "      self.wfile.write(b\"Numerical arguments expected\\r\\n\")\n",
    "      return\n",
    "\n",
    "    if op == \"add\":\n",
    "      result = numarg1 + numarg2\n",
    "    elif op == \"sub\":\n",
    "      result = numarg1 - numarg2\n",
    "    elif op == \"mul\":\n",
    "      result = numarg1 * numarg2\n",
    "    elif op == \"div\":\n",
    "      if numarg2 == 0:\n",
    "        result = \"NaN\"\n",
    "      else:\n",
    "        result = numarg1 / numarg2\n",
    "\n",
    "    self.send_response(200)\n",
    "    self.end_headers()\n",
    "    self.wfile.write(str(result).encode())\n",
    "\n",
    "\n",
    "def run_server(port=9093):\n",
    "  server_class = http.server.HTTPServer\n",
    "  server_address = (\"\", port)\n",
    "  handler_class = CalcHandler\n",
    "\n",
    "  server = server_class(server_address, handler_class)\n",
    "  try:\n",
    "    print(\"Starting server...\")\n",
    "    server.serve_forever()\n",
    "  except KeyboardInterrupt:\n",
    "    print(\"Stopping server...\")\n",
    "    server.socket.close()\n",
    "  except: # something else went wrong\n",
    "    raise\n",
    "\n",
    "if __name__ == \"__main__\":\n",
    "  run_server()"
   ]
  },
  {
   "cell_type": "markdown",
   "metadata": {},
   "source": [
    "This can be reached at http://localhost:9092.\n",
    "\n",
    "---\n",
    "\n",
    "The <font color=#0000ff> **SimpleHTTPServer**</font> offers a little more web server functionality, with which you can display directories and transfer files:"
   ]
  },
  {
   "cell_type": "code",
   "execution_count": null,
   "metadata": {},
   "outputs": [],
   "source": [
    "import http.server\n",
    "            \n",
    "def run_server(port=9093):\n",
    "    server_class   = http.server.HTTPServer\n",
    "    handler_class  = http.server.SimpleHTTPRequestHandler\n",
    "    server_address = (\"\", port)\n",
    "    \n",
    "    server = server_class(server_address, handler_class)\n",
    "    try:\n",
    "        server.serve_forever()\n",
    "    except KeyboardInterrupt:\n",
    "        server.socket.close()\n",
    "    except:\n",
    "        raise\n",
    "    \n",
    "if __name__ == '__main__':\n",
    "    run_server()"
   ]
  },
  {
   "cell_type": "markdown",
   "metadata": {},
   "source": [
    "Access address: http://localhost:9093"
   ]
  },
  {
   "cell_type": "markdown",
   "metadata": {},
   "source": [
    "The next step is not only to display content, but also to run scripts.\n",
    "The easiest way to do this is with so-called <font color=#0000ff> **CGI scripts**</font> using `CGIHTTPServer`. CGI scripts placed in the <font color=#0000e6> ``cgi-bin``</font> subdirectory of the web server can be used to run programs on the web server and transmit the results to the client. However, this is tricky from a security point of view. The scripts can be written in any programming language, not just Python (as long as it's server-side supported).\n",
    "\n",
    "A <font color=#0000ff> **CGIHTTPServer**</font>:"
   ]
  },
  {
   "cell_type": "code",
   "execution_count": null,
   "metadata": {},
   "outputs": [],
   "source": [
    "import http.server\n",
    "            \n",
    "def run_server(port=9094):\n",
    "    server_class   = http.server.HTTPServer\n",
    "    handler_class  = http.server.CGIHTTPRequestHandler\n",
    "    handler_class.cgi_directories = ['/source', '/source/cgi-bin']\n",
    "    server_address = (\"\", port)\n",
    "    \n",
    "    server = server_class(server_address, handler_class)\n",
    "    try:\n",
    "        server.serve_forever()\n",
    "    except KeyboardInterrupt:\n",
    "        server.socket.close()\n",
    "    except:\n",
    "        raise\n",
    "        \n",
    "if __name__ == '__main__':\n",
    "    run_server()"
   ]
  },
  {
   "cell_type": "markdown",
   "metadata": {},
   "source": [
    "We place the following CGI script with the name <tt>cgiprintenv.py</tt> in the subdirectory <tt>source/cgi-bin/</tt>:\n",
    "```python\n",
    "#!/usr/bin/env python3\n",
    "\n",
    "import os\n",
    "from sys import stdout\n",
    "\n",
    "stdout.write(\"Content-type: text/plain\\r\\n\\r\\n\")\n",
    "\n",
    "for key in sorted(os.environ.keys()):\n",
    "    print(\"%s=%s\" % (key, os.environ[key]))\n",
    "```\n",
    "and make it executable (`chmod +x cgiprintenv.py`).\n",
    "\n",
    "Then you can call it up in a web browser at the following address: http://localhost:9094/source/cgi-bin/cgiprintenv.py\n",
    "\n",
    "A further elegant CGI solution is the [**WSGI-Standard**](https://de.wikipedia.org/wiki/Web_Server_Gateway_Interface), which will not be discussed further here.\n",
    "\n"
   ]
  }
 ],
 "metadata": {
  "@webio": {
   "lastCommId": null,
   "lastKernelId": null
  },
  "kernelspec": {
   "display_name": "Python 3 (ipykernel)",
   "language": "python",
   "name": "python3"
  },
  "language_info": {
   "codemirror_mode": {
    "name": "ipython",
    "version": 3
   },
   "file_extension": ".py",
   "mimetype": "text/x-python",
   "name": "python",
   "nbconvert_exporter": "python",
   "pygments_lexer": "ipython3",
   "version": "3.9.12"
  }
 },
 "nbformat": 4,
 "nbformat_minor": 4
}
