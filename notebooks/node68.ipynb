{
 "cells": [
  {
   "cell_type": "markdown",
   "metadata": {},
   "source": [
    "[Node 68: Webprogrammierung](http://www-static.etp.physik.uni-muenchen.de/kurs/Computing/python2/node68.html)"
   ]
  },
  {
   "cell_type": "markdown",
   "metadata": {},
   "source": [
    "Navigation:\n",
    "\n",
    "**Next:** [Web-Framework Django](node69.ipynb) **Up:** [Web-Framework Django](node69.ipynb) **Previous:** [Web-Framework Django](node69.ipynb)"
   ]
  },
  {
   "cell_type": "markdown",
   "metadata": {},
   "source": [
    "## Web Programming\n",
    "For performance reasons, web servers are usually written in C/C++, such as Apache or [lighttpd](https://www.lighttpd.net/). Such a performance is not always necessary, e.g. in embedded systems.\n",
    "\n",
    "The Python standard library provides two classes derived from <font color=#0000e6> ``Socket.Server.TCPServer``</font> for a web server: <font color=#0000e6> ``SimpleHTTPServer``</font> and <font color=#0000e6> ``CGIHTTPServer``</font> . Both classes are based on the <font color=#0000e6> ``http.server``</font> .\n",
    "\n",
    "The simplest web server:"
   ]
  },
  {
   "cell_type": "code",
   "execution_count": null,
   "metadata": {},
   "outputs": [],
   "source": [
    "import http.server as hs\n",
    "server_address = (\"\", 9090)\n",
    "handler_class  = hs.BaseHTTPRequestHandler\n",
    "server_class   = hs.HTTPServer\n",
    "server = server_class(server_address, handler_class)\n",
    "server.serve_forever()"
   ]
  },
  {
   "cell_type": "markdown",
   "metadata": {},
   "source": [
    "Run this program and go to the following address in a web browser: [http://localhost:9090/](http://localhost:9090/)."
   ]
  },
  {
   "cell_type": "markdown",
   "metadata": {},
   "source": [
    "This doesn't work properly yet: The server can't interpret the <font color=#0000e6> ``GET``</font> method because the <font color=#0000e6> ``handle``</font> method of <font color=#0000e6> ``BaseHTTPRequestHandler``</font> could not find a <font color=#0000e6> ``do_GET``</font> method.\n",
    "\n",
    "A corresponding extension is necessary:"
   ]
  },
  {
   "cell_type": "code",
   "execution_count": null,
   "metadata": {},
   "outputs": [],
   "source": [
    "import http.server as hs\n",
    "class MyHandler(hs.BaseHTTPRequestHandler):\n",
    "    def do_GET(self):\n",
    "        print(\"Got GET Request from\", self.client_address)\n",
    "        self.wfile.write(b'Sorry, I do not speak HTTP. Go away.\\r\\n')\n",
    "server_address = (\"\", 9092)\n",
    "handler_class  = MyHandler\n",
    "server_class   = hs.HTTPServer\n",
    "server = server_class(server_address, handler_class)\n",
    "server.serve_forever()"
   ]
  },
  {
   "cell_type": "markdown",
   "metadata": {},
   "source": [
    "Now calling http://localhost:9091/ works.\n",
    "\n",
    "(Note: As before, we use a different port each time to bypass [this problem](https://dev.to/dechamp/the-dreaded-bind-address-already-in-use-kill-it-583l). There are plenty of them. Another, more elegant solution is to catch the exception and release the socket again -- see below.)"
   ]
  },
  {
   "cell_type": "markdown",
   "metadata": {},
   "source": [
    "This example can now be extended to a simple pocket calculator, for example. This accepts requests of the form \"<tt>/{add,sub,mul,div}/num1/num2</tt>\" that are passed in the URL. This request allows to add, subtract etc. two numbers <tt>num1</tt> and <tt>num2</tt>.\n",
    "\n",
    "The example also performs a series of checks to ensure that the request is valid. This is essential for services that are open to the world so as not to be vulnerable to abuse. (Typically, a server that you start on your own computer will not be easily accessible worldwide, but only from your home network.)\n",
    "\n",
    "Additionally, ``server.serv_forever()`` is wrapped in a ``try-except`` block to cleanly stop the server (and unblock the port again)."
   ]
  },
  {
   "cell_type": "code",
   "execution_count": null,
   "metadata": {},
   "outputs": [],
   "source": [
    "import http.server\n",
    "\n",
    "class CalcHandler(http.server.BaseHTTPRequestHandler):\n",
    "\n",
    "  def do_GET(self):\n",
    "    path = self.path\n",
    "\n",
    "    lst = path.split(\"/\")\n",
    "    if len(lst) != 4:\n",
    "      self.send_response(403)\n",
    "      self.end_headers()\n",
    "      self.wfile.write(b\"Illegal syntax. Use /{add,sub,mul,div}/num1/num2\\r\\n\")\n",
    "      return\n",
    "\n",
    "    dummy, op, arg1, arg2 = lst\n",
    "\n",
    "    if op not in (\"add\", \"sub\", \"mul\", \"div\"):\n",
    "      self.send_response(403)\n",
    "      self.end_headers()\n",
    "      self.wfile.write(b\"Illegal operation: %s\\r\\n\" % op)\n",
    "      return\n",
    "\n",
    "    try:\n",
    "      numarg1 = float(arg1)\n",
    "      numarg2 = float(arg2)\n",
    "    except ValueError:\n",
    "      self.send_response(403)\n",
    "      self.end_headers()\n",
    "      self.wfile.write(b\"Numerical arguments expected\\r\\n\")\n",
    "      return\n",
    "\n",
    "    if op == \"add\":\n",
    "      result = numarg1 + numarg2\n",
    "    elif op == \"sub\":\n",
    "      result = numarg1 - numarg2\n",
    "    elif op == \"mul\":\n",
    "      result = numarg1 * numarg2\n",
    "    elif op == \"div\":\n",
    "      if numarg2 == 0:\n",
    "        result = \"NaN\"\n",
    "      else:\n",
    "        result = numarg1 / numarg2\n",
    "\n",
    "    self.send_response(200)\n",
    "    self.end_headers()\n",
    "    self.wfile.write(str(result).encode())\n",
    "\n",
    "\n",
    "def run_server(port=9093):\n",
    "  server_class = http.server.HTTPServer\n",
    "  server_address = (\"\", port)\n",
    "  handler_class = CalcHandler\n",
    "\n",
    "  server = server_class(server_address, handler_class)\n",
    "  try:\n",
    "    print(\"Starting server...\")\n",
    "    server.serve_forever()\n",
    "  except KeyboardInterrupt:\n",
    "    print(\"Stopping server...\")\n",
    "    server.socket.close()\n",
    "  except: # something else went wrong\n",
    "    raise\n",
    "\n",
    "if __name__ == \"__main__\":\n",
    "  run_server()"
   ]
  },
  {
   "cell_type": "markdown",
   "metadata": {},
   "source": [
    "This can be reached at http://localhost:9092.\n",
    "\n",
    "---\n",
    "\n",
    "The <font color=#0000ff> **SimpleHTTPServer**</font> offers a little more web server functionality, with which you can display directories and transfer files:"
   ]
  },
  {
   "cell_type": "code",
   "execution_count": null,
   "metadata": {},
   "outputs": [],
   "source": [
    "import http.server\n",
    "            \n",
    "def run_server(port=9093):\n",
    "    server_class   = http.server.HTTPServer\n",
    "    handler_class  = http.server.SimpleHTTPRequestHandler\n",
    "    server_address = (\"\", port)\n",
    "    \n",
    "    server = server_class(server_address, handler_class)\n",
    "    try:\n",
    "        server.serve_forever()\n",
    "    except KeyboardInterrupt:\n",
    "        server.socket.close()\n",
    "    except:\n",
    "        raise\n",
    "    \n",
    "if __name__ == '__main__':\n",
    "    run_server()"
   ]
  },
  {
   "cell_type": "markdown",
   "metadata": {},
   "source": [
    "Access address: http://localhost:9093"
   ]
  },
  {
   "cell_type": "markdown",
   "metadata": {},
   "source": [
    "The next step is not only to display content, but also to run scripts.\n",
    "The easiest way to do this is with so-called <font color=#0000ff> **CGI scripts**</font> using `CGIHTTPServer`. CGI scripts placed in the <font color=#0000e6> ``cgi-bin``</font> subdirectory of the web server can be used to run programs on the web server and transmit the results to the client. However, this is tricky from a security point of view. The scripts can be written in any programming language, not just Python (as long as it's server-side supported).\n",
    "\n",
    "A <font color=#0000ff> **CGIHTTPServer**</font>:"
   ]
  },
  {
   "cell_type": "code",
   "execution_count": null,
   "metadata": {},
   "outputs": [],
   "source": [
    "import http.server\n",
    "            \n",
    "def run_server(port=9094):\n",
    "    server_class   = http.server.HTTPServer\n",
    "    handler_class  = http.server.CGIHTTPRequestHandler\n",
    "    handler_class.cgi_directories = ['/source', '/source/cgi-bin']\n",
    "    server_address = (\"\", port)\n",
    "    \n",
    "    server = server_class(server_address, handler_class)\n",
    "    try:\n",
    "        server.serve_forever()\n",
    "    except KeyboardInterrupt:\n",
    "        server.socket.close()\n",
    "    except:\n",
    "        raise\n",
    "        \n",
    "if __name__ == '__main__':\n",
    "    run_server()"
   ]
  },
  {
   "cell_type": "markdown",
   "metadata": {},
   "source": [
    "We place the following CGI script with the name <tt>cgiprintenv.py</tt> in the subdirectory <tt>source/cgi-bin/</tt>:\n",
    "```python\n",
    "#!/usr/bin/env python3\n",
    "\n",
    "import os\n",
    "from sys import stdout\n",
    "\n",
    "stdout.write(\"Content-type: text/plain\\r\\n\\r\\n\")\n",
    "\n",
    "for key in sorted(os.environ.keys()):\n",
    "    print(\"%s=%s\" % (key, os.environ[key]))\n",
    "```\n",
    "and make it executable (`chmod +x cgiprintenv.py`).\n",
    "\n",
    "Then you can call it up in a web browser at the following address: http://localhost:9094/source/cgi-bin/cgiprintenv.py\n",
    "\n",
    "A further elegant CGI solution is the [**WSGI-Standard**](https://de.wikipedia.org/wiki/Web_Server_Gateway_Interface), which will not be discussed further here.\n",
    "\n"
   ]
  }
 ],
 "metadata": {
  "@webio": {
   "lastCommId": null,
   "lastKernelId": null
  },
  "kernelspec": {
   "display_name": "Python 3 (ipykernel)",
   "language": "python",
   "name": "python3"
  },
  "language_info": {
   "codemirror_mode": {
    "name": "ipython",
    "version": 3
   },
   "file_extension": ".py",
   "mimetype": "text/x-python",
   "name": "python",
   "nbconvert_exporter": "python",
   "pygments_lexer": "ipython3",
   "version": "3.9.12"
  }
 },
 "nbformat": 4,
 "nbformat_minor": 4
}
