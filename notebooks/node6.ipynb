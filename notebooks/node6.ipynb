{
 "cells": [
  {
   "cell_type": "markdown",
   "metadata": {},
   "source": [
    "[Node 6: Python Grundlagen](http://www-static.etp.physik.uni-muenchen.de/kurs/Computing/python2/node6.html)"
   ]
  },
  {
   "cell_type": "markdown",
   "metadata": {},
   "source": [
    "Navigation:\n",
    "\n",
    "**Next:** [Weitergehende und häufig verwendete Python-Features](node7.ipynb) **Up:** [Weitergehende und häufig verwendete Python-Features](node7.ipynb) **Previous:** [Weitergehende und häufig verwendete Python-Features](node7.ipynb)"
   ]
  },
  {
   "cell_type": "markdown",
   "metadata": {},
   "source": [
    "# Python basics\n",
    "\n",
    "* Getting Started – Interactive, Run Scripts\n",
    "* Python operations\n",
    "* Basic data types and definition of variables\n",
    "* Strings and containers (lists, tuples, dictionaries)\n",
    "* Control instructions\n",
    "* Features\n",
    "* Basic I/O\n",
    "* **Classes and Objects**\n",
    "* Inheritance\n",
    "* Exception handling\n",
    "* ...and many tasks...\n",
    "\n",
    "Detailed introduction course 1 [**\"Python für Physiker\"**](http://www.etp.physik.uni-muenchen.de/kurs/Computing/python)\n",
    "* Basics of Python (start, switch Python 2 to 3)\n",
    "* Primitive data types vs. data structures, classes and objects\n",
    "* Handling exceptions\n",
    "\n",
    "Short summary of it in course [**Software Tools**](https://www-static.etp.physik.uni-muenchen.de/kurs/Computing/sw/node22.html)"
   ]
  },
  {
   "cell_type": "code",
   "execution_count": null,
   "metadata": {},
   "outputs": [],
   "source": []
  }
 ],
 "metadata": {
  "kernelspec": {
   "display_name": "Python 3 (ipykernel)",
   "language": "python",
   "name": "python3"
  },
  "language_info": {
   "codemirror_mode": {
    "name": "ipython",
    "version": 3
   },
   "file_extension": ".py",
   "mimetype": "text/x-python",
   "name": "python",
   "nbconvert_exporter": "python",
   "pygments_lexer": "ipython3",
   "version": "3.9.12"
  }
 },
 "nbformat": 4,
 "nbformat_minor": 4
}
