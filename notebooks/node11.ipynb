{
 "cells": [
  {
   "cell_type": "markdown",
   "metadata": {},
   "source": [
    "[Node 11: Reguläre Ausdrücke ](http://www-static.etp.physik.uni-muenchen.de/kurs/Computing/python2/node11.html)"
   ]
  },
  {
   "cell_type": "markdown",
   "metadata": {},
   "source": [
    "Navigation:\n",
    "\n",
    "**Next:** [Aufgaben](node12.ipynb) **Up:** [Aufgaben](node12.ipynb) **Previous:** [Aufgaben](node12.ipynb)"
   ]
  },
  {
   "cell_type": "markdown",
   "metadata": {},
   "source": [
    "## Regular expressions\n",
    "In character strings, you can usually search for simple sub-character strings and possibly replace them. For this you can use the simple methods <font color=#0000e6> ``index, rindex, find, rfind, replace``</font> and the operator <font color=#0000e6> ``in``</font> . (`index` and `find` only differ in their behavior if the searched string is not included.)\n",
    "\n",
    "With the help of regular expressions you can search for complicated patterns in character strings and replace parts of the character strings. A detailed description with examples of regular expressions can be found under: <font color=#0000ff>[Regular Expressions](http://docs.python.org/howto/regex.html)</font>\n",
    "\n",
    "The Python module <font color=#0000ff> **re**</font> provides numerous functions for using regular expressions.\n",
    "\n",
    "<font color=#0000e6> ``re.search``</font> versus <font color=#0000e6> ``in``</font> :"
   ]
  },
  {
   "cell_type": "code",
   "execution_count": null,
   "metadata": {},
   "outputs": [],
   "source": [
    "import re\n",
    "input = 'Franz jagt im komplett verwahrlosten Taxi quer durch Bayern'\n",
    "a=re.search(r'Taxi', input)"
   ]
  },
  {
   "cell_type": "code",
   "execution_count": null,
   "metadata": {},
   "outputs": [],
   "source": [
    "a.group(0)"
   ]
  },
  {
   "cell_type": "code",
   "execution_count": null,
   "metadata": {},
   "outputs": [],
   "source": [
    "'Taxi' in input"
   ]
  },
  {
   "cell_type": "code",
   "execution_count": null,
   "metadata": {},
   "outputs": [],
   "source": [
    "a=re.search(r'Bus', input) # not found, returns None\n",
    "print(a)"
   ]
  },
  {
   "cell_type": "code",
   "execution_count": null,
   "metadata": {},
   "outputs": [],
   "source": [
    "'Bus' in input"
   ]
  },
  {
   "cell_type": "markdown",
   "metadata": {},
   "source": [
    "A string that begins with <font color=#0000e6> ``r``</font> is called a 'raw' string. In this, no backslashes have to be escaped, i.e. in the following example you enter either ``r'\\bTaxi\\b'`` or ``'\\\\bTaxi\\\\b'``.\n",
    "\n",
    "If you want to search for single words, <font color=#0000e6> ``re.search``</font> shows its advantage with the extra parameter ``\\b`` (``\\b`` is “wild-card ” for word boundary):"
   ]
  },
  {
   "cell_type": "code",
   "execution_count": null,
   "metadata": {},
   "outputs": [],
   "source": [
    "input1 = 'Franz jagt im komplett verwahrlosten Taxi quer durch Bayern'\n",
    "input2 = 'Der Taxibus ist zu spaet'\n",
    "'Taxi' in input1, 'Taxi' in input2"
   ]
  },
  {
   "cell_type": "code",
   "execution_count": null,
   "metadata": {},
   "outputs": [],
   "source": [
    "re.search(r'\\bTaxi\\b', input1), re.search(r'\\bTaxi\\b', input2)"
   ]
  },
  {
   "cell_type": "markdown",
   "metadata": {},
   "source": [
    "To replace, use <font color=#0000e6> ``re.sub``</font> :"
   ]
  },
  {
   "cell_type": "code",
   "execution_count": null,
   "metadata": {},
   "outputs": [],
   "source": [
    "input1 = 'Franz jagt im komplett verwahrlosten Taxi quer durch Bayern'\n",
    "output=re.sub('Taxi', 'Bus', input)\n",
    "output"
   ]
  },
  {
   "cell_type": "markdown",
   "metadata": {},
   "source": [
    "With the <font color=#0000e6> ``match``</font> object you can access parts of the string that match regular expressions. With\n",
    "```python\n",
    "r'(\\b\\w+\\b)\\s+\\1'\n",
    "```\n",
    "can be searched for a double occurring word:"
   ]
  },
  {
   "cell_type": "code",
   "execution_count": null,
   "metadata": {},
   "outputs": [],
   "source": [
    "input = 'Franz jagt im komplett verwahrlosten Taxi quer quer durch Bayern'\n",
    "mo = re.search(r'(\\b\\w+\\b)\\s+\\1',input)\n",
    "mo"
   ]
  },
  {
   "cell_type": "markdown",
   "metadata": {},
   "source": [
    "(Explanation: `\\b\\w+\\b` matches a word (multiple (`+`) alphanumeric characters (`\\w`) within word boundaries `\\b`), the brackets around it mark this expression for further use, `\\s+ ` matches at least one (`+`) white space (`\\s`) and `\\1` is a reference back to the previously parenthesized expression.)"
   ]
  },
  {
   "cell_type": "code",
   "execution_count": null,
   "metadata": {},
   "outputs": [],
   "source": [
    "input = 'Franz jagt im komplett verwahrlosten Taxi quer und quer durch Bayern'\n",
    "mo = re.search(r'(\\b\\w+\\b).+\\1',input)\n",
    "mo"
   ]
  },
  {
   "cell_type": "markdown",
   "metadata": {},
   "source": [
    "(Explanation: Now the  `\\.+ ` matches a least one (`+`) arbitrary character, so it will find the first ocurence of any word appearing twice.)"
   ]
  },
  {
   "cell_type": "code",
   "execution_count": null,
   "metadata": {},
   "outputs": [],
   "source": [
    "mo.group(0)"
   ]
  },
  {
   "cell_type": "code",
   "execution_count": null,
   "metadata": {},
   "outputs": [],
   "source": [
    "mo.group(1)"
   ]
  },
  {
   "cell_type": "code",
   "execution_count": null,
   "metadata": {},
   "outputs": [],
   "source": [
    "mo.start()"
   ]
  },
  {
   "cell_type": "code",
   "execution_count": null,
   "metadata": {},
   "outputs": [],
   "source": [
    "mo.span()"
   ]
  },
  {
   "cell_type": "code",
   "execution_count": null,
   "metadata": {},
   "outputs": [],
   "source": [
    "input[42: 51]"
   ]
  },
  {
   "cell_type": "markdown",
   "metadata": {},
   "source": [
    "<font color=#0000e6> ``re.search``</font> returns only the <font color=#0000ff> **first**</font> occurrence of a search pattern. You can get all occurrences with <font color=#0000e6> ``re.findall``</font> or <font color=#0000e6> ``re.finditer``</font> .\n",
    " \n",
    "\n",
    "<font color=#0000e6> ``re.compile``</font> gives faster access to search results, especially for longer character strings or reading / searching line by line in a file. The search term is “compiled” once and can then be reused:"
   ]
  },
  {
   "cell_type": "code",
   "execution_count": null,
   "metadata": {},
   "outputs": [],
   "source": [
    "input3 = 'Franz jagt im komplett verwahrlosten Taxi quer durch Bayern'\n",
    "input4 = 'Franz jagt im komplett verwahrlosten Taxi quer quer durch Bayern'\n",
    "regdoub = re.compile(r'(\\b\\w+\\b)\\s+\\1')\n",
    "regdoub"
   ]
  },
  {
   "cell_type": "code",
   "execution_count": null,
   "metadata": {},
   "outputs": [],
   "source": [
    "regdoub.search(input3)\n",
    "regdoub.search(input4)"
   ]
  },
  {
   "cell_type": "code",
   "execution_count": null,
   "metadata": {},
   "outputs": [],
   "source": [
    "regdoub.sub(r'\\1',input3)"
   ]
  },
  {
   "cell_type": "code",
   "execution_count": null,
   "metadata": {},
   "outputs": [],
   "source": [
    "regdoub.sub(r'\\1',input4)"
   ]
  },
  {
   "cell_type": "markdown",
   "metadata": {},
   "source": [
    "#### fnmatch"
   ]
  },
  {
   "cell_type": "markdown",
   "metadata": {},
   "source": [
    "The Python module <font color=#0000e6> ``fnmatch``</font> can be used to search in <font color=#0000e6> ``strings``</font> using the Unix filename search convention. The rules known from the `bash` command line are used here:"
   ]
  },
  {
   "cell_type": "markdown",
   "metadata": {},
   "source": [
    "* `*` matches anything\n",
    "* `?` matches a letter\n",
    "* `[seq]` matches a letter in seq\n",
    "* `[!seq]` matches a letter not in seq"
   ]
  },
  {
   "cell_type": "markdown",
   "metadata": {},
   "source": [
    "The following example shows all filenames in the current directory with the extension <font color=#0000e6> ``.txt``</font> :"
   ]
  },
  {
   "cell_type": "code",
   "execution_count": null,
   "metadata": {},
   "outputs": [],
   "source": [
    "import fnmatch\n",
    "import os\n",
    "for file in os.listdir('.'):\n",
    "    if fnmatch.fnmatch(file, '*.txt'):\n",
    "        print(file)"
   ]
  }
 ],
 "metadata": {
  "@webio": {
   "lastCommId": null,
   "lastKernelId": null
  },
  "kernelspec": {
   "display_name": "Python 3 (ipykernel)",
   "language": "python",
   "name": "python3"
  },
  "language_info": {
   "codemirror_mode": {
    "name": "ipython",
    "version": 3
   },
   "file_extension": ".py",
   "mimetype": "text/x-python",
   "name": "python",
   "nbconvert_exporter": "python",
   "pygments_lexer": "ipython3",
   "version": "3.9.12"
  }
 },
 "nbformat": 4,
 "nbformat_minor": 4
}
