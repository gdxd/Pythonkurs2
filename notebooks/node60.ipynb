{
 "cells": [
  {
   "cell_type": "markdown",
   "metadata": {},
   "source": [
    "Navigation:\n",
    "\n",
    "[](node61.ipynb)[](node61.ipynb)[](node61.ipynb)\n",
    "\n",
    "**Next:** [Pandas – Datenanalyse mit](node61.ipynb)"
   ]
  },
  {
   "cell_type": "markdown",
   "metadata": {},
   "source": [
    "##  Tasks\n",
    "\n",
    "1. **SAX**\n",
    "Test the presented examples of XML processing with SAX or Elementtree\n",
    "1. **Real-world example on XML – 1**\n",
    "Data exchange via XML is now a quasi-standard, many applications at least optionally offer output in XML format. This allows easy further processing. A practical example from our area is the SGE batch system on the LRZ Linux cluster. The batch system manages \"jobs\" on a computer cluster and provides information on the status of the running jobs such as job ID, CPU time used, start time, memory requirement, and much more. This information is important for users, but also for monitoring systems around the Monitor cluster utilization. An example output includes the xml file [SGE-qstat.xml](http://www-static.etp.physik.uni-muenchen.de/kurs/Computing/python2/source/SGE-qstat.xml), and a simple SAX parser is [SGE-qstat-parse.py](https://www-static.etp.physik.uni-muenchen.de/kurs/Computing/sw/source/SGE-qstat-parse.py).\n",
    "* Find job-id, user-name, start time and consumed cpu time of jobs\n",
    "* The important monitoring variable is the comparison of the CPU time used to the elapsed wall clock time. Low values ​​indicate I/O heavy jobs or problems with network or storage systems. Determine the CPU/wallclock-time ratio of the jobs and enter it in a histogram (matplotlib) (solution example: [SGEqstatparse2.py](source/solutions/SGEqstatparse2.py)).\n",
    "\n",
    "1. **Real-world example on XML – 2**\n",
    "Another example are GPS devices that are used for navigation or leisure sports. The \"tracks\" are often recorded in the so-called \"gpx\" format, which is defined in XML and allows easy exchange of the recorded tracks or further processing of the data. An example track from MTB Tour in the Alps contains the file [GPS_example.gpx](http://www-static.etp.physik.uni-muenchen.de/kurs/Computing/python2/source/GPS_example.gpx), with information about position, date/time, altitude and heart rate. A simple parsing script is [GPX-simple-parse.py](https://www-static.etp.physik.uni-muenchen.de/kurs/Computing/sw/source/GPX-simple-parse.py).\n",
    "* Make another plot of heart rate history...\n",
    "\n",
    "* ... and to the speed. To do this, you need to calculate the distance between each point and the time difference. Helper functions for this are in [gpxutil.py](source/gpxutil.py). (Sample solution: [gpxutil.py](source/gpxutil.py)). And of course there are already many programs for viewing GPX files.\n",
    "* `Elementtree` template for the above SGE or GPS task: [nb_XML_exercise.ipynb](nb_XML_exercise.ipynb) .\n",
    "\n",
    "1. **JSON example**\n",
    "The content of tables or spreadsheets can easily be converted into JSON format and then read into Python as a list of dicts, each line is a dict element of a list. The column headers are the <font color=#0000ff> **keys**</font> of the dict. The [wlcg.json](data/wlcg.json) file was downloaded from [WLCG resources](https://wlcg-cric.cern.ch/core/pledge/list/) and contains the <font color=#008000> *Pledges*</font> of a variety of data centers that provide resources for data analysis at LHC. Read the file into python via json as a list of dicts, output the disk capacity of the sites from Germany for ATLAS and determine the total. (Sample solution: [wlcg_json.py](https://www-static.etp.physik.uni-muenchen.de/kurs/Computing/sw/source/wlcg_json.py)).\n",
    "1. **Titanic Dates**\n",
    "A classic example of data analysis is the passenger data from the Titanic. You can find the data in [json](http://www-static.etp.physik.uni-muenchen.de/kurs/Computing/python2/source/titanic.json), [csv](http://www-static.etp.physik.uni-muenchen.de/kurs/Computing/python2/source/titanic.csv), [sqlite](http://www-static.etp.physik.uni-muenchen.de/kurs/Computing/python2/source/titanic.db) format. Take the format of your choice and determine the probability of survival separately for sex and class (columns sex and class). (Sample solution: [json](https://www-static.etp.physik.uni-muenchen.de/kurs/Computing/sw/source/ana_titanic_json.py), [sqlite](https://www-static.etp.physik.uni-muenchen.de/kurs/Computing/sw/source/titanic_chk.py))"
   ]
  },
  {
   "cell_type": "code",
   "execution_count": null,
   "metadata": {},
   "outputs": [],
   "source": []
  }
 ],
 "metadata": {
  "kernelspec": {
   "display_name": "Python 3 (ipykernel)",
   "language": "python",
   "name": "python3"
  },
  "language_info": {
   "codemirror_mode": {
    "name": "ipython",
    "version": 3
   },
   "file_extension": ".py",
   "mimetype": "text/x-python",
   "name": "python",
   "nbconvert_exporter": "python",
   "pygments_lexer": "ipython3",
   "version": "3.9.12"
  }
 },
 "nbformat": 4,
 "nbformat_minor": 4
}
