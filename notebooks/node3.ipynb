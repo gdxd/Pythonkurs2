{
 "cells": [
  {
   "cell_type": "markdown",
   "metadata": {},
   "source": [
    "[Node 3: Literatur und Links](http://www-static.etp.physik.uni-muenchen.de/kurs/Computing/python2/node3.html)"
   ]
  },
  {
   "cell_type": "markdown",
   "metadata": {},
   "source": [
    "Navigation:\n",
    "\n",
    "**Next:** [Computing Kenntnisse für Physiker](node4.ipynb)\n",
    "**Up:** [PYTHON2 Kurs](node0.ipynb)\n",
    "**Previous:** [Allgemeines](node2.ipynb)"
   ]
  },
  {
   "cell_type": "markdown",
   "metadata": {},
   "source": [
    "# Literature and links\n",
    "\n",
    "There is a wide range of textbooks for Python, as well as online courses and tutorials, FAQs and discussion forums on the web. Here is a small selection:\n",
    "\n",
    "\n",
    "* [Learning Python](http://shop.oreilly.com/product/0636920028154.do) \n",
    "  Mark Lutz, 5th Edition, O'Reilly Series, 2013. Good thorough introduction to Python.\n",
    "* [Worldwind tour of python](https://jakevdp.github.io/WhirlwindTourOfPython/)\n",
    "  Jake VanderPlas, compact overview,  O'Reilly Book and free electronic version\n",
    "    \n",
    "* [http://www.python.org](http://www.python.org)\n",
    "  Official Python home page. Inexhaustible source of downloads, documentation, tutorials, links.\n",
    "* How to Think Like a Computer Scientist (Python)\n",
    "  available as book and [online](http://openbookproject.net/thinkcs/python/english2e/). Good conceptual introduction to programming.\n",
    "  [Äquivalente Versionen](http://openbookproject.net/thinkcs/) for JAVA and C++.\n",
    "* [Python 3.9 Documentation](https://docs.python.org/3.9/index.html)\n",
    "  General Python documentation\n",
    "* [Python 3.9 Library Reference](https://docs.python.org/3.9/library/index.html)\n",
    "  Python Standard Library documentation\n",
    "\n",
    "* [Python Cookbook](http://aspn.activestate.com/ASPN/Python/Cookbook/)\n",
    "  Extensive collection of recipes for solving problems in Python, albeit at a more advanced level...\n",
    "* [Software Carpentry](http://software-carpentry.org/index.html)\n",
    "  Programming tools for scientists. Not just Python, but all-encompassing shells, programming  techniques, XML, spreadsheets, databases, web programming, and much more. Python as a glue language that links the different areas.\n",
    "* [Test-Driven Development  for the Web, with Python](http://www.obeythetestinggoat.com/)\n",
    "  O'Reilly, A Practical Guide to Programming with Tests\n",
    "* [Python for Data Analysis: Data Wrangling with Pandas, NumPy, and IPython](http://shop.oreilly.com/product/0636920023784.do)\n",
    "  O'Reilly, Practical introduction to pandas and data analysis\n",
    "* [Das Python-Praxisbuch - Der große Profi-Leitfaden für Programmierer](http://pythonbook.hajji.name/de/index.html)\n",
    "  Addison-Wesley Verlag (out of print), but available as a Google book\n",
    "* [Computational Statistics in Python](http://people.duke.edu/~ccc14/sta-663-2018/index.html)\n",
    "  Well-done online course on mathematics and statistics with Python\n",
    "* [Django](https://www.djangoproject.com/)\n",
    "  Django home page with extensive documentation\n",
    "\n"
   ]
  },
  {
   "cell_type": "code",
   "execution_count": null,
   "metadata": {},
   "outputs": [],
   "source": []
  }
 ],
 "metadata": {
  "kernelspec": {
   "display_name": "Python 3 (ipykernel)",
   "language": "python",
   "name": "python3"
  },
  "language_info": {
   "codemirror_mode": {
    "name": "ipython",
    "version": 3
   },
   "file_extension": ".py",
   "mimetype": "text/x-python",
   "name": "python",
   "nbconvert_exporter": "python",
   "pygments_lexer": "ipython3",
   "version": "3.9.12"
  }
 },
 "nbformat": 4,
 "nbformat_minor": 4
}
