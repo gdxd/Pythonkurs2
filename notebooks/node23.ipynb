{
 "cells": [
  {
   "cell_type": "markdown",
   "metadata": {},
   "source": [
    "[Node 23: Objektorientiertes Programmieren – Allgemeines](http://www-static.etp.physik.uni-muenchen.de/kurs/Computing/python2/node23.html)"
   ]
  },
  {
   "cell_type": "markdown",
   "metadata": {},
   "source": [
    "Navigation:\n",
    "\n",
    "**Next:** [UML - Unified Modelling](node24.ipynb) **Up:** [UML - Unified Modelling](node24.ipynb) **Previous:** [UML - Unified Modelling](node24.ipynb)"
   ]
  },
  {
   "cell_type": "markdown",
   "metadata": {},
   "source": [
    "# Object Oriented Programming - General\n",
    "Quote: <font color=#0000ff> **An object-oriented programming language is neither a necessary nor a sufficient condition for object-oriented programming**</font>\n",
    " \n",
    "\n",
    "It's called object-oriented programming\n",
    "* Think, model, design, implement in objects\n",
    "* Objects communicate directly with each other via defined interfaces\n",
    "* instead of sequential call from main program\n",
    "* OO language like Java, C++ or Python extremely helpful for implementation but basic idea also possible in C or Pascal.\n",
    "* Procedural programming or spaghetti code also possible in C++, Java, Python ( <font color=#008000> *\"I program Fortran, no matter what language\"*</font> )\n",
    "\n",
    "\n",
    "## Subchapters\n",
    "* [UML - Unified Modelling Language](node24.ipynb)\n",
    "* [Wozu UML ?](node25.ipynb)\n",
    "* [Klassen in  UML](node26.ipynb)\n",
    "* [Beziehungen zwischen Klassen](node27.ipynb)\n",
    "* [Objekt-Diagramme](node28.ipynb)\n",
    "* [Sequenz-Diagramme](node29.ipynb)\n",
    "* [UML Summary](node30.ipynb)\n",
    "* [Software Engineering](node31.ipynb)\n",
    "* [Software Engineering Modelle](node32.ipynb)\n",
    "* [Code&Fix – ein Beispiel](node33.ipynb)\n",
    "* [Grundlegende (Objekt–Orientierte) design principles](node34.ipynb)\n",
    "* [Aufgaben](node35.ipynb)\n",
    "\n",
    "\n",
    "\n"
   ]
  }
 ],
 "metadata": {
  "kernelspec": {
   "display_name": "Python 3 (ipykernel)",
   "language": "python",
   "name": "python3"
  },
  "language_info": {
   "codemirror_mode": {
    "name": "ipython",
    "version": 3
   },
   "file_extension": ".py",
   "mimetype": "text/x-python",
   "name": "python",
   "nbconvert_exporter": "python",
   "pygments_lexer": "ipython3",
   "version": "3.11.5"
  }
 },
 "nbformat": 4,
 "nbformat_minor": 4
}
