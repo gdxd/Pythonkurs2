{
 "cells": [
  {
   "cell_type": "markdown",
   "metadata": {},
   "source": [
    "[Node 37: TDD Beispiel](http://www-static.etp.physik.uni-muenchen.de/kurs/Computing/python2/node37.html)"
   ]
  },
  {
   "cell_type": "markdown",
   "metadata": {},
   "source": [
    "Navigation:\n",
    "\n",
    "**Next:** [Mit PDB debuggen](node38.ipynb) **Up:** [Mit PDB debuggen](node38.ipynb) **Previous:** [Mit PDB debuggen](node38.ipynb)"
   ]
  },
  {
   "cell_type": "markdown",
   "metadata": {},
   "source": [
    "# Test Driven Development (TDD)\n",
    "\n",
    "* Tests integral part of development\n",
    "* First test is written\n",
    "* Only then is the actual program code implemented\n",
    "* Iterative procedure $\\Rightarrow$ next test $\\Rightarrow$ further code\n",
    "* Tests are part of the program package and are repeated regularly $\\Rightarrow$ <font color=#0000ff> **Nightly Tests**</font>"
   ]
  },
  {
   "cell_type": "markdown",
   "metadata": {},
   "source": [
    "![Image tdd](figures/tdd.svg \"Image tdd\")\n",
    "\n",
    "Program development is thus an iterative process that forces one to think about program behavior <font color=#ff0000> **before**</font> implementation, in addition to examining various cases and branches in the program."
   ]
  },
  {
   "cell_type": "markdown",
   "metadata": {},
   "source": [
    "## Assert statement\n",
    "The basic command for tests is <font color=#0000e6> ``assert``</font> : this tests conditions in the program and throws an exception if necessary:"
   ]
  },
  {
   "cell_type": "code",
   "execution_count": 1,
   "metadata": {},
   "outputs": [],
   "source": [
    "assert 42==42"
   ]
  },
  {
   "cell_type": "code",
   "execution_count": 2,
   "metadata": {},
   "outputs": [
    {
     "ename": "AssertionError",
     "evalue": "",
     "output_type": "error",
     "traceback": [
      "\u001b[0;31m---------------------------------------------------------------------------\u001b[0m",
      "\u001b[0;31mAssertionError\u001b[0m                            Traceback (most recent call last)",
      "Cell \u001b[0;32mIn[2], line 1\u001b[0m\n\u001b[0;32m----> 1\u001b[0m \u001b[38;5;28;01massert\u001b[39;00m \u001b[38;5;241m2\u001b[39m\u001b[38;5;241m==\u001b[39m\u001b[38;5;241m1\u001b[39m\n",
      "\u001b[0;31mAssertionError\u001b[0m: "
     ]
    }
   ],
   "source": [
    "assert 2==1"
   ]
  },
  {
   "cell_type": "markdown",
   "metadata": {},
   "source": [
    "Specifically, so-called unit tests or the <font color=#0000e6> ``unittest``</font> module in Python are used to check program code. The most used methods are:\n",
    "* <font color=#0000e6> ``assert``</font> : base assert that allows custom assertions\n",
    "* <font color=#0000e6> ``assertEqual(a, b)``</font> : check if a and b are equal\n",
    "* <font color=#0000e6> ``assertNotEqual(a, b)``</font> : check if a and b are not equal\n",
    "* <font color=#0000e6> ``assertIn(a, b)``</font> : check if a is in b\n",
    "* <font color=#0000e6> ``assertNotIn(a, b)``</font> : check if a is not in b\n",
    "* <font color=#0000e6> ``assertFalse(a)``</font> : check if the value of a is false\n",
    "* <font color=#0000e6> ``assertTrue(a)``</font> : check if the value of a is true\n",
    "* <font color=#0000e6> ``assertIsInstance(a, TYPE)``</font> : check if a is of type \"TYPE\".\n",
    "* <font color=#0000e6> ``assertRaises(ERROR, a, args)``</font> : check if a with value args thrown raises an ERROR exception"
   ]
  },
  {
   "cell_type": "markdown",
   "metadata": {},
   "source": [
    "Either the module <font color=#0000e6> ``unittest``</font> or the package <font color=#0000e6> ``nosetests``</font> (\"nose extends unittest to make testing easier\") can be used:\n",
    "```bash\n",
    "nosetests3 beispiel_unit_test.py\n",
    "```"
   ]
  },
  {
   "cell_type": "markdown",
   "metadata": {},
   "source": [
    "## Example of TDD\n",
    "As an example of TDD, consider a very simple calculator that uses the <font color=#0000e6> ``add``</font> method to add two numbers and return the result. First, an empty project is created:"
   ]
  },
  {
   "cell_type": "markdown",
   "metadata": {},
   "source": [
    "```bash\n",
    "mkdir mytest\n",
    "cd mytest\n",
    "mkdir app\n",
    "mkdir test\n",
    "touch app/__init__.py\n",
    "touch test/__init__.py\n",
    "```"
   ]
  },
  {
   "cell_type": "markdown",
   "metadata": {},
   "source": [
    "The <font color=#0000e6> ``test_rechner.py``</font> file is created in the <font color=#0000e6> ``test``</font> directory with the following content:\n",
    "\n",
    "```python\n",
    "import unittest\n",
    " \n",
    "class TddBeispiel(unittest.TestCase):\n",
    " \n",
    "    def test_rechner_add_method_gibt_richtiges_ergebnis(self):\n",
    "        rech = Rechner()\n",
    "        res = rech.add(2,2)\n",
    "        self.assertEqual(4, res)\n",
    "\n",
    "if __name__ == '__main__':\n",
    "    unittest.main()\n",
    "```"
   ]
  },
  {
   "cell_type": "markdown",
   "metadata": {},
   "source": [
    "\n",
    "A test has the following structure:\n",
    "* Import of <font color=#0000e6> ``unittest``</font> module.\n",
    "* Create a class derived from <font color=#0000e6> ``unittest.TestCase``</font> that contains all the tests.\n",
    "* All methods of this class implement various tests and must start with <font color=#0000e6> ``test_``</font>.\n",
    "* The last two lines allow testing using the standard <font color=#0000e6> ``unittest``</font> module and the command  ``python test_rechner.py`` to run.\n",
    "\n",
    "The <font color=#0000e6> ``nosetests3``</font> program allows running all existing tests automatically:"
   ]
  },
  {
   "cell_type": "markdown",
   "metadata": {},
   "source": [
    "```bash\n",
    "> nosetests3\n",
    "```\n",
    "<pre>\n",
    "E\n",
    "================================================== ====================\n",
    "ERROR: test_rechner_add_method_gives_correct_result (test_rechner.TddExample)\n",
    "-------------------------------------------------- --------------------\n",
    "Traceback (most recent call last):\n",
    "File \"/home/gduccheck/python/test/mytest/test_rechner.py\", line 6, in test_rechner_add_method_gives_correct_result\n",
    "rec = calculator()\n",
    "NameError: name 'Calculator' is not defined\n",
    "-------------------------------------------------- --------------------\n",
    "Ran 1 test in 0.004s\n",
    "FAILED (errors=1)\n",
    "</pre>"
   ]
  },
  {
   "cell_type": "markdown",
   "metadata": {},
   "source": [
    "<font color=#0000ff> **Error was provoked**</font> ... the actual implementation of <font color=#0000e6> ``Calculator``</font> is still missing. So the file <font color=#0000e6> ``app/rechner.py``</font> is created:\n",
    "```python\n",
    "class Rechner(object):\n",
    " \n",
    "    def add(self, x, y):\n",
    "        pass\n",
    "```\n",
    "and the test extends:\n",
    "```python\n",
    "import unittest\n",
    "from app.rechner import Rechner # neu\n",
    "\n",
    "class TddBeispiel(unittest.TestCase):\n",
    " \n",
    "    def test_rechner_add_method_gibt_richtiges_ergebnis(self):\n",
    "        rech = Rechner()\n",
    "        res = rech.add(2,2)\n",
    "        self.assertEqual(4, res)\n",
    "\n",
    "if __name__ == '__main__':\n",
    "    unittest.main()\n",
    "```"
   ]
  },
  {
   "cell_type": "markdown",
   "metadata": {},
   "source": [
    "Running the tests again gives:\n",
    "<pre>\n",
    "> nose tests3\n",
    "f\n",
    "================================================== ====================\n",
    "FAIL: test_rechner_add_method_gives_correct_result (test_rechner.TddExample)\n",
    "-------------------------------------------------- --------------------\n",
    "Traceback (most recent call last):\n",
    "File \"/home/gduccheck/python/test/mytest/test_rechner.py\", line 9, in test_rechner_add_method_gives_correct_result\n",
    "self.assertEqual(4, res)\n",
    "AssertionError: 4 != None\n",
    "-------------------------------------------------- --------------------\n",
    "Ran 1 test in 0.004s\n",
    "FAILED (failures=1)\n",
    "</pre>"
   ]
  },
  {
   "cell_type": "markdown",
   "metadata": {},
   "source": [
    "The test indicates that the <font color=#0000e6> ``add``</font> method does not yet return a correct result. This can be corrected as follows:\n",
    "```python\n",
    "class Rechner(object):\n",
    " \n",
    "    def add(self, x, y):\n",
    "        return x+y # neu\n",
    "```"
   ]
  },
  {
   "cell_type": "markdown",
   "metadata": {},
   "source": [
    "<pre>\n",
    "> nose tests3\n",
    ".\n",
    "-------------------------------------------------- --------------------\n",
    "Ran 1 test in 0.019s\n",
    "OK\n",
    "</pre>"
   ]
  },
  {
   "cell_type": "markdown",
   "metadata": {},
   "source": [
    "The test works now, but only the case that is actually of interest is tested - what happens if types other than numbers are used, since Python allows adding e.g. strings or lists with the same syntax? To test these cases, the test is extended:\n",
    "```python\n",
    "import unittest\n",
    "from app.rechner import Rechner\n",
    "\n",
    "class TddBeispiel(unittest.TestCase):\n",
    "  \n",
    "    def setUp(self): # neu\n",
    "        self.rech = Rechner()\n",
    "\n",
    "    def test_rechner_add_method_gibt_richtiges_ergebnis(self):\n",
    "        res = self.rech.add(2,2)\n",
    "        self.assertEqual(4, res)\n",
    "\n",
    "    def test_rechner_gibt_fehler_wenn_beide_args_nicht_zahlen(self): # neu\n",
    "        self.assertRaises(ValueError, self.rech.add, 'zwei', 'drei')\n",
    "\n",
    "if __name__ == '__main__':\n",
    "    unittest.main()\n",
    "\n",
    "```"
   ]
  },
  {
   "cell_type": "markdown",
   "metadata": {},
   "source": [
    "The new test checks if a <font color=#0000e6> ``ValueError``</font> exception was thrown. In addition, the <font color=#0000e6> ``setUp``</font> method was used, which can be used to initialize the tests. The test result initially looks like this, since no <font color=#0000e6> ``ValueError``</font> is triggered in the actual code:\n",
    "<pre>\n",
    "> nose tests\n",
    ".F\n",
    "================================================== ====================\n",
    "FAIL: test_rechner_ gives_error_if_both_args_not_count (test.test_rechner.TddExample)\n",
    "-------------------------------------------------- --------------------\n",
    "Traceback (most recent call last):\n",
    "File \"/home/j/Johannes.Elmsheuser/cip_home/python/mytest/test/test_rechner.py\", line 14, in test_rechner_ gives_error_if_both_args_not_count\n",
    "self.assertRaises(ValueError, self.rech.add, 'two', 'three')\n",
    "AssertionError: ValueError not raised\n",
    "-------------------------------------------------- --------------------\n",
    "Ran 2 tests in 0.015s\n",
    "FAILED (failures=1)\n",
    "</pre>"
   ]
  },
  {
   "cell_type": "markdown",
   "metadata": {},
   "source": [
    "So the code needs to be improved as follows:\n",
    "```python\n",
    "class Rechner(object):\n",
    " \n",
    "    def add(self, x, y):\n",
    "        number_typen = (int, float, complex)\n",
    " \n",
    "        if isinstance(x, number_typen) and isinstance(y, number_typen): # neu\n",
    "            return x + y\n",
    "        else:\n",
    "            raise ValueError\n",
    "```"
   ]
  },
  {
   "cell_type": "markdown",
   "metadata": {},
   "source": [
    "Additional tests are added to check all possible combinations:\n",
    "```python\n",
    "import unittest\n",
    "from app.rechner import Rechner\n",
    "\n",
    "class TddBeispiel(unittest.TestCase):\n",
    "  \n",
    "    def setUp(self):\n",
    "        self.rech = Rechner()\n",
    "\n",
    "    def test_rechner_add_method_gibt_richtiges_ergebnis(self):\n",
    "        res = self.rech.add(2,2)\n",
    "        self.assertEqual(4, res)\n",
    "\n",
    "    def test_rechner_gibt_fehler_wenn_beide_args_nicht_zahlen(self):\n",
    "        self.assertRaises(ValueError, self.rech.add, 'zwei', 'drei')\n",
    "\n",
    "    def test_rechner_gibt_fehler_wenn_x_arg_keine_zahl(self): # neu\n",
    "        self.assertRaises(ValueError, self.rech.add, 'zwei', 3)\n",
    " \n",
    "    def test_rechner_gibt_fehler_wenn_y_arg_keine_zahl(self): # neu\n",
    "        self.assertRaises(ValueError, self.rech.add, 2, 'drei')\n",
    "\n",
    "if __name__ == '__main__':\n",
    "    unittest.main()\n",
    "```"
   ]
  },
  {
   "cell_type": "markdown",
   "metadata": {},
   "source": [
    "All 4 tests now work successfully:\n",
    "<pre>\n",
    "> nose tests\n",
    "....\n",
    "-------------------------------------------------- --------------------\n",
    "Ran 4 tests in 0.020s\n",
    "OK\n",
    "</pre>"
   ]
  }
 ],
 "metadata": {
  "kernelspec": {
   "display_name": "Python 3 (ipykernel)",
   "language": "python",
   "name": "python3"
  },
  "language_info": {
   "codemirror_mode": {
    "name": "ipython",
    "version": 3
   },
   "file_extension": ".py",
   "mimetype": "text/x-python",
   "name": "python",
   "nbconvert_exporter": "python",
   "pygments_lexer": "ipython3",
   "version": "3.11.5"
  }
 },
 "nbformat": 4,
 "nbformat_minor": 4
}
