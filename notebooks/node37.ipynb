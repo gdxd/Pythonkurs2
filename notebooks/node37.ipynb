{
 "cells": [
  {
   "cell_type": "markdown",
   "metadata": {},
   "source": [
    "[Node 37: TDD Beispiel](http://www-static.etp.physik.uni-muenchen.de/kurs/Computing/python2/node37.html)"
   ]
  },
  {
   "cell_type": "markdown",
   "metadata": {},
   "source": [
    "Navigation:\n",
    "\n",
    "**Next:** [Mit PDB debuggen](node38.ipynb) **Up:** [Mit PDB debuggen](node38.ipynb) **Previous:** [Mit PDB debuggen](node38.ipynb)"
   ]
  },
  {
   "cell_type": "markdown",
   "metadata": {},
   "source": [
    "# Test Driven Development (TDD)\n",
    "\n",
    "* Tests integral part of development\n",
    "* First test is written\n",
    "* Only then is the actual program code implemented\n",
    "* Iterative procedure $\\Rightarrow$ next test $\\Rightarrow$ further code\n",
    "* Tests are part of the program package and are repeated regularly $\\Rightarrow$ <font color=#0000ff> **Nightly Tests**</font>"
   ]
  },
  {
   "cell_type": "markdown",
   "metadata": {},
   "source": [
    "![Image tdd](figures/tdd.svg \"Image tdd\")\n",
    "\n",
    "Program development is thus an iterative process that forces one to think about program behavior <font color=#ff0000> **before**</font> implementation, in addition to examining various cases and branches in the program."
   ]
  },
  {
   "cell_type": "markdown",
   "metadata": {},
   "source": [
    "## Assert statement\n",
    "The basic command for tests is <font color=#0000e6> ``assert``</font> : this tests conditions in the program and throws an exception if necessary:"
   ]
  },
  {
   "cell_type": "code",
   "execution_count": 1,
   "metadata": {},
   "outputs": [],
   "source": [
    "assert 42==42"
   ]
  },
  {
   "cell_type": "code",
   "execution_count": 2,
   "metadata": {},
   "outputs": [
    {
     "ename": "AssertionError",
     "evalue": "",
     "output_type": "error",
     "traceback": [
      "\u001b[0;31m---------------------------------------------------------------------------\u001b[0m",
      "\u001b[0;31mAssertionError\u001b[0m                            Traceback (most recent call last)",
      "Cell \u001b[0;32mIn[2], line 1\u001b[0m\n\u001b[0;32m----> 1\u001b[0m \u001b[38;5;28;01massert\u001b[39;00m \u001b[38;5;241m2\u001b[39m\u001b[38;5;241m==\u001b[39m\u001b[38;5;241m1\u001b[39m\n",
      "\u001b[0;31mAssertionError\u001b[0m: "
     ]
    }
   ],
   "source": [
    "assert 2==1"
   ]
  },
  {
   "cell_type": "markdown",
   "metadata": {},
   "source": [
    "### pytest\n",
    "\n",
    "A rather straightforward command-tool for systematic tests is  [<font color=#0000e6> ``pytest``</font>](https://docs.pytest.org/en/stable/getting-started.html) . This is installed in the CIP python environment, but it can also be easily installed with pip."
   ]
  },
  {
   "cell_type": "markdown",
   "metadata": {},
   "source": [
    "## Example of TDD\n",
    "As an example of TDD, consider a very simple calculator that uses the <font color=#0000e6> ``add``</font> method to add two numbers and return the result. First, an empty project is created:"
   ]
  },
  {
   "cell_type": "markdown",
   "metadata": {},
   "source": [
    "```bash\n",
    "mkdir mytest\n",
    "cd mytest\n",
    "```"
   ]
  },
  {
   "cell_type": "markdown",
   "metadata": {},
   "source": [
    "The <font color=#0000e6> ``test_rechner.py``</font> file is created in the <font color=#0000e6> ``test``</font> directory with the following content:\n",
    "\n",
    "```python\n",
    "class TestExample:\n",
    " \n",
    "    def test_rechner_add_method_gibt_richtiges_ergebnis(self):\n",
    "        rech = Rechner()\n",
    "        res = rech.add(2,2)\n",
    "        assert 4 == res\n",
    " \n"
   ]
  },
  {
   "cell_type": "markdown",
   "metadata": {},
   "source": [
    "\n",
    "For TDD the folllowing rules and conventions apply:\n",
    "* put your sources in an extra directory\n",
    "* <font color=#0000e6> ``pytest``</font> will look for files with names starting with `test_` or ending with `_test`. Within these files the following functions will be searched and called:\n",
    "   * global functions with names `test_` or\n",
    "   * Classes starting with 'Test' and methods therin with names `test_`\n",
    "* Further info in [Conventions for Python test discovery](https://docs.pytest.org/en/stable/explanation/goodpractices.html#test-discovery)\n",
    "\n"
   ]
  },
  {
   "cell_type": "markdown",
   "metadata": {},
   "source": [
    "Let's execute it:\n",
    "```bash\n",
    "> pytest\n",
    "```\n",
    "<pre>\n",
    "======================================================== test session starts =========================================================\n",
    "platform linux -- Python 3.11.5, pytest-7.4.0, pluggy-1.0.0\n",
    "rootdir: /home/gduckeck/mygitlab/Pythonkurs2/notebooks/mytest\n",
    "plugins: anyio-3.5.0\n",
    "collected 1 item                                                                                                                     \n",
    "\n",
    "test_rechner.py F                                                                                                              [100%]\n",
    "\n",
    "============================================================== FAILURES ==============================================================\n",
    "____________________________________ TestExample.test_rechner_add_method_gibt_richtiges_ergebnis _____________________________________\n",
    "\n",
    "self = <test_rechner.TestExample object at 0x7f61d8daf210>\n",
    "\n",
    "    def test_rechner_add_method_gibt_richtiges_ergebnis(self):\n",
    ">       rech = Rechner()\n",
    "E       NameError: name 'Rechner' is not defined\n",
    "\n",
    "test_rechner.py:4: NameError\n",
    "====================================================== short test summary info =======================================================\n",
    "FAILED test_rechner.py::TestExample::test_rechner_add_method_gibt_richtiges_ergebnis - NameError: name 'Rechner' is not defined\n",
    "========================================================= 1 failed in 0.05s ==========================================================\n",
    "\n",
    "</pre>"
   ]
  },
  {
   "cell_type": "markdown",
   "metadata": {},
   "source": [
    "<font color=#0000ff> **Error was provoked**</font> ... the actual implementation of <font color=#0000e6> ``Rechner``</font> is still missing. So the file <font color=#0000e6> ``rechner.py``</font> is created:\n",
    "```python\n",
    "class Rechner(object):\n",
    " \n",
    "    def add(self, x, y):\n",
    "        pass\n",
    "```\n",
    "and the test extends:\n",
    "```python\n",
    "from rechner import Rechner # new\n",
    "\n",
    "```python\n",
    "class TestExample:\n",
    " \n",
    "    def test_rechner_add_method_gibt_richtiges_ergebnis(self):\n",
    "        rech = Rechner()\n",
    "        res = rech.add(2,2)\n",
    "        assert 4 == res\n",
    "\n",
    "```"
   ]
  },
  {
   "cell_type": "markdown",
   "metadata": {},
   "source": [
    "Running the tests again gives:\n",
    "<pre>\n",
    "> pytest\n",
    "...\n",
    "============================================================== FAILURES ==============================================================\n",
    "____________________________________ TestExample.test_rechner_add_method_gibt_richtiges_ergebnis _____________________________________\n",
    "\n",
    "self = <test_rechner.TestExample object at 0x7f996e907e90>\n",
    "\n",
    "    def test_rechner_add_method_gibt_richtiges_ergebnis(self):\n",
    "        rech = Rechner()\n",
    "        res = rech.add(2,2)\n",
    ">       assert 4 == res\n",
    "E       assert 4 == None\n",
    "\n",
    "test_rechner.py:8: AssertionError\n",
    "====================================================== short test summary info =======================================================\n",
    "FAILED test_rechner.py::TestExample::test_rechner_add_method_gibt_richtiges_ergebnis - assert 4 == None\n",
    "========================================================= 1 failed in 0.05s ==========================================================\n",
    "\n",
    "</pre>"
   ]
  },
  {
   "cell_type": "markdown",
   "metadata": {},
   "source": [
    "The test indicates that the <font color=#0000e6> ``add``</font> method does not yet return a correct result. This can be corrected as follows:\n",
    "```python\n",
    "class Rechner(object):\n",
    " \n",
    "    def add(self, x, y):\n",
    "        return x+y # neu\n",
    "```"
   ]
  },
  {
   "cell_type": "markdown",
   "metadata": {},
   "source": [
    "<pre>\n",
    "pytest\n",
    "======================================================== test session starts =========================================================\n",
    "platform linux -- Python 3.11.5, pytest-7.4.0, pluggy-1.0.0\n",
    "rootdir: /home/gduckeck/mygitlab/Pythonkurs2/notebooks/mytest\n",
    "plugins: anyio-3.5.0\n",
    "collected 1 item                                                                                                                     \n",
    "\n",
    "test_rechner.py .                                                                                                              [100%]\n",
    "\n",
    "========================================================= 1 passed in 0.01s ==========================================================\n",
    "\n",
    "</pre>"
   ]
  },
  {
   "cell_type": "markdown",
   "metadata": {},
   "source": [
    "The test works now, but only the case that is actually of interest is tested - what happens if types other than numbers are used, since Python allows adding e.g. strings or lists with the same syntax? To test these cases, the test is extended:\n",
    "```python\n",
    "from rechner import Rechner\n",
    "import pytest\n",
    "\n",
    "class TestExample:\n",
    "  \n",
    "\n",
    "    def test_rechner_add_method_gibt_richtiges_ergebnis(self):\n",
    "        rech = Rechner()\n",
    "        res = rech.add(2,2)\n",
    "        assert 4 == res\n",
    "\n",
    "    def test_rechner_gibt_fehler_wenn_beide_args_nicht_zahlen(self): # neu\n",
    "        rech = Rechner()\n",
    "        with pytest.raises(ValueError):\n",
    "            rech.add('zwei', 'drei')\n",
    "\n",
    "\n",
    "```"
   ]
  },
  {
   "cell_type": "markdown",
   "metadata": {},
   "source": [
    "The new test checks if a <font color=#0000e6> ``ValueError``</font> exception was thrown.  The test result initially looks like this, since no <font color=#0000e6> ``ValueError``</font> is triggered in the actual code:\n",
    "<pre>\n",
    "...\n",
    "=========================================================================== FAILURES ============================================================================\n",
    "_______________________________________________ TestExample.test_rechner_gibt_fehler_wenn_beide_args_nicht_zahlen _______________________________________________\n",
    "\n",
    "self = <test_rechner.TestExample object at 0x7f540884d010>\n",
    "\n",
    "    def test_rechner_gibt_fehler_wenn_beide_args_nicht_zahlen(self): # neu\n",
    "        rech = Rechner()\n",
    ">       with pytest.raises(ValueError):\n",
    "E       Failed: DID NOT RAISE <class 'ValueError'>\n",
    "\n",
    "test_rechner.py:14: Failed\n",
    "==================================================================== short test summary info ====================================================================\n",
    "FAILED test_rechner.py::TestExample::test_rechner_gibt_fehler_wenn_beide_args_nicht_zahlen - Failed: DID NOT RAISE <class 'ValueError'>\n",
    "================================================================== 1 failed, 1 passed in 0.05s ==================================================================\n",
    "\n",
    "\n",
    "</pre>"
   ]
  },
  {
   "cell_type": "markdown",
   "metadata": {},
   "source": [
    "So the code needs to be improved as follows:\n",
    "```python\n",
    "class Rechner(object):\n",
    " \n",
    "    def add(self, x, y):\n",
    "        number_typen = (int, float, complex)\n",
    " \n",
    "        if isinstance(x, number_typen) and isinstance(y, number_typen): # neu\n",
    "            return x + y\n",
    "        else:\n",
    "            raise ValueError\n",
    "```"
   ]
  },
  {
   "cell_type": "markdown",
   "metadata": {},
   "source": [
    "The test now works ok:\n",
    "<pre>\n",
    "pytest -v\n",
    "====================================================================== test session starts ======================================================================\n",
    "platform linux -- Python 3.11.5, pytest-7.4.0, pluggy-1.0.0 -- /home/gduckeck/anaconda3/bin/python\n",
    "cachedir: .pytest_cache\n",
    "rootdir: /home/gduckeck/mygitlab/Pythonkurs2/notebooks/mytest\n",
    "plugins: anyio-3.5.0\n",
    "collected 2 items                                                                                                                                               \n",
    "\n",
    "test_rechner.py::TestExample::test_rechner_add_method_gibt_richtiges_ergebnis PASSED                                                                      [ 50%]\n",
    "test_rechner.py::TestExample::test_rechner_gibt_fehler_wenn_beide_args_nicht_zahlen PASSED                                                                [100%]\n",
    "\n",
    "======================================================================= 2 passed in 0.01s =======================================================================\n",
    "\n",
    "</pre>\n",
    "\n",
    "One could now continue to add further tests to check all possible combinations of arguments ....\n"
   ]
  },
  {
   "cell_type": "code",
   "execution_count": null,
   "metadata": {},
   "outputs": [],
   "source": []
  }
 ],
 "metadata": {
  "kernelspec": {
   "display_name": "Python 3 (ipykernel)",
   "language": "python",
   "name": "python3"
  },
  "language_info": {
   "codemirror_mode": {
    "name": "ipython",
    "version": 3
   },
   "file_extension": ".py",
   "mimetype": "text/x-python",
   "name": "python",
   "nbconvert_exporter": "python",
   "pygments_lexer": "ipython3",
   "version": "3.11.5"
  }
 },
 "nbformat": 4,
 "nbformat_minor": 4
}
