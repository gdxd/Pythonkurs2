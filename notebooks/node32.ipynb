{
 "cells": [
  {
   "cell_type": "markdown",
   "metadata": {},
   "source": [
    "[Node 32: Software Engineering Modelle](http://www-static.etp.physik.uni-muenchen.de/kurs/Computing/python2/node32.html)"
   ]
  },
  {
   "cell_type": "markdown",
   "metadata": {},
   "source": [
    "Navigation:\n",
    "\n",
    "[](node33.ipynb)[](node33.ipynb)[](node33.ipynb)\n",
    "\n",
    "**Next:** [Code&Fix – ein Beispiel](node33.ipynb) **Up:** [Code&Fix – ein Beispiel](node33.ipynb) **Previous:** [Code&Fix – ein Beispiel](node33.ipynb)"
   ]
  },
  {
   "cell_type": "markdown",
   "metadata": {},
   "source": [
    "## Software engineering models\n",
    "\n",
    "Variety of methods in use, no particular procedure was able to assert itself in general.\n",
    "\n",
    "* **Code&Fix**\n",
    "  * Just go for it, trial and error. Not really a model, but the de facto standard in many areas.\n",
    "  * Advantage: Very flexible, fast development\n",
    "  * Disadvantage: Difficult to maintain and evolve over long periods\n",
    "  * OK for small, manageable projects (both code size (1 kloc), people involved (1-3) and lifespan (months-years)\n",
    "* **Waterfall Model**\n",
    "  * linear design–implementation sequence\n",
    "* **RUP** Rational Unified Process, design with UML, iterative, i.e. cycles of design - implementation. \"Heavyweight model\", a lot of effort and experience required, long design phases\n",
    "* **Agile methods**\n",
    "  * XP, RAD, Scrum, ... Contradictory approach, short cycles, fast implementation, changes are not the exception but the rule, incremental implementation of the specifications according to priorities, executable intermediate products.\n",
    "  * First define detailed test suite, then create the actual program. Test suite is an integral part of the software and is executed whenever there is a change. $\\Rightarrow$ <font color=#008000> *Very useful approach even for small projects and teams!*</font> <font color=#008000> *(Nightly builds)*</font>\n",
    "* **many more variants, alternatives, ...**"
   ]
  },
  {
   "cell_type": "markdown",
   "metadata": {},
   "source": [
    "**Waterfall Model**\n",
    "\n",
    "<table><tr>\n",
    "<td><img src=\"figures/wasserfallkonzept.svg\" /></td>\n",
    "<td><img src=\"figures/Waterfall.jpg\" /> </td>\n",
    "</tr></table>\n",
    "\n",
    "<font color=#ff0000> **Single Pass !**</font>\n",
    "\n",
    "---\n",
    "\n",
    "<font color=#0000ff> **Waterfall model**</font> Developed by the US military in the 1960s for large programming projects, analogous to procedures in classic engineering disciplines.\n",
    "\n",
    "Decisive requirements:\n",
    "* Detailed understanding of all problems in advance\n",
    "* Stable environment, no new requirements during use\n",
    "\n",
    "Changes later are very difficult, as are reuse and expansion.\n",
    "\n",
    "<font color=#0000ff> **Software development $\\ne$ bridge building**</font> :\n",
    "* User requirements change\n",
    "* Environment, tools, services change\n",
    "* ...\n",
    "\n",
    "---\n",
    "\n",
    "**XP - Extreme Programming**\n",
    "\n",
    "Includes 2 essential concepts\n",
    "* Tests are a central part of development: <font color=#0000ff> **“write tests first”**</font>. This means that before classes and functions are actually implemented, the tests that these classes and functions have to fulfill are first developed. $\\Rightarrow$ Tests as detail specification.\n",
    "These tests are part of the development package and are run with every change and recompilation <font color=#008000> *(nightly builds)*</font>, so errors and problems in further development are quickly identified.\n",
    "* <font color=#0000ff> **Pair programming:**</font> Development not as a lone wolf but as a team of 2: One writes the code, the other thinks about it, designs tests, keeps an eye on the big goals, etc The roles are alternated.\n",
    "\n",
    "At least the inclusion of tests in the development can also be easily applied to small projects, but requires the appropriate discipline."
   ]
  }
 ],
 "metadata": {
  "kernelspec": {
   "display_name": "Python 3 (ipykernel)",
   "language": "python",
   "name": "python3"
  },
  "language_info": {
   "codemirror_mode": {
    "name": "ipython",
    "version": 3
   },
   "file_extension": ".py",
   "mimetype": "text/x-python",
   "name": "python",
   "nbconvert_exporter": "python",
   "pygments_lexer": "ipython3",
   "version": "3.11.5"
  }
 },
 "nbformat": 4,
 "nbformat_minor": 4
}
