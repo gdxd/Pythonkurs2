{
 "cells": [
  {
   "cell_type": "markdown",
   "metadata": {},
   "source": [
    "[Node 8: Tools für Listen und Dicts](http://www-static.etp.physik.uni-muenchen.de/kurs/Computing/python2/node8.html)"
   ]
  },
  {
   "cell_type": "markdown",
   "metadata": {},
   "source": [
    "Navigation:\n",
    "\n",
    "[](node9.ipynb)[](node9.ipynb)[](node9.ipynb)\n",
    "\n",
    "**Next:** [Iterables und Generatoren (yield)](node9.ipynb) **Up:** [Iterables und Generatoren (yield) **Previous:** [Iterables und Generatoren (yield)"
   ]
  },
  {
   "cell_type": "markdown",
   "metadata": {},
   "source": [
    "## Tools for lists and dicts\n",
    "You often want to select elements from a list that meet a certain criterion (filtering). Or a list should be transformed into another list. One could also apply a combination of filtering and transforming. The functions <font color=#0000e6> ``filter``</font> and <font color=#0000e6> ``map``</font> are available for this purpose. On the other hand, so-called list comprehensions can be used.\n",
    "* Let's take a list <font color=#0000e6> ``[ 1, 2, 3, 4, 5]``</font> as an example.\n",
    "* A mathematical operation (here: calculation of the root) is to be carried out with each list element.\n",
    "* Only even elements should be selected\n",
    "* Only even elements should be selected and multiplied by 10."
   ]
  },
  {
   "cell_type": "markdown",
   "metadata": {},
   "source": [
    "First <font color=#0000e6> ``filter``</font> and <font color=#0000e6> ``map``</font> :"
   ]
  },
  {
   "cell_type": "code",
   "execution_count": null,
   "metadata": {},
   "outputs": [],
   "source": [
    "liste1 = [ 1, 2, 3, 4, 5 ]\n",
    "import math\n",
    "map(math.sqrt, liste1) # apply math.sqrt to each element"
   ]
  },
  {
   "cell_type": "markdown",
   "metadata": {},
   "source": [
    "In contrast to Python2, Python3 no longer returns a list, but an iterator. We can output the entries by explicitly converting them into a list:"
   ]
  },
  {
   "cell_type": "code",
   "execution_count": null,
   "metadata": {},
   "outputs": [],
   "source": [
    "list(map(math.sqrt, liste1))"
   ]
  },
  {
   "cell_type": "code",
   "execution_count": null,
   "metadata": {},
   "outputs": [],
   "source": [
    "list(map(lambda x: x**0.5, liste1)) # same with lambda function"
   ]
  },
  {
   "cell_type": "code",
   "execution_count": null,
   "metadata": {},
   "outputs": [],
   "source": [
    "list(filter(lambda x: x % 2 == 0, liste1))"
   ]
  },
  {
   "cell_type": "code",
   "execution_count": null,
   "metadata": {},
   "outputs": [],
   "source": [
    "list(map(lambda x: x*10, filter(lambda x: x % 2 == 0, liste1)))"
   ]
  },
  {
   "cell_type": "markdown",
   "metadata": {},
   "source": [
    "### List comprehensions\n",
    "\n",
    "Alternatively, you can use <font color=#0000ff> **list comprehensions**</font>.\n",
    "The identity mapping returns the list itself:"
   ]
  },
  {
   "cell_type": "code",
   "execution_count": null,
   "metadata": {},
   "outputs": [],
   "source": [
    "[element for element in liste1]"
   ]
  },
  {
   "cell_type": "markdown",
   "metadata": {},
   "source": [
    "The following less trivial examples do the same as we achieved above with `map` and `filter`:"
   ]
  },
  {
   "cell_type": "code",
   "execution_count": null,
   "metadata": {},
   "outputs": [],
   "source": [
    "[element**0.5 for element in liste1]"
   ]
  },
  {
   "cell_type": "code",
   "execution_count": null,
   "metadata": {},
   "outputs": [],
   "source": [
    "[element for element in liste1 if element % 2 == 0]"
   ]
  },
  {
   "cell_type": "code",
   "execution_count": null,
   "metadata": {},
   "outputs": [],
   "source": [
    "[element*10 for element in liste1 if element % 2 == 0]"
   ]
  },
  {
   "cell_type": "markdown",
   "metadata": {},
   "source": [
    "List comprehensions have the following general form:\n",
    "\n",
    "```python\n",
    "[ expr(element) for element in iterable if pred(element) ]\n",
    "```"
   ]
  },
  {
   "cell_type": "markdown",
   "metadata": {},
   "source": [
    "With\n",
    "* <font color=#0000e6> ``expr(element)``</font> any expression depending on <font color=#0000e6> ``element``</font>,\n",
    "* <font color=#0000e6> ``iterable``</font> any sequence and\n",
    "* <font color=#0000e6> ``pred(element)``</font> a function that <font color=#0000e6> ``True``</font> or <font color=#0000e6> `` False``</font> and depends on <font color=#0000e6> ``element``</font>.\n",
    "\n",
    "---\n",
    "\n",
    "You can also combine multiple lists:"
   ]
  },
  {
   "cell_type": "code",
   "execution_count": null,
   "metadata": {},
   "outputs": [],
   "source": [
    "[(x,y) for x in range(5) for y in range(5) ]"
   ]
  },
  {
   "cell_type": "markdown",
   "metadata": {},
   "source": [
    "and also add <font color=#008000>*if*</font> conditions:"
   ]
  },
  {
   "cell_type": "code",
   "execution_count": null,
   "metadata": {},
   "outputs": [],
   "source": [
    "[(x,y) for x in range(5) if x % 2 == 0 for y in range(5) if y % 2 == 1]"
   ]
  },
  {
   "cell_type": "markdown",
   "metadata": {},
   "source": [
    "This gives a combination of all even numbers from 0 to 4 and all odd numbers from 0 to 4. This is equivalent to a double <font color=#008000> *for*</font> loop:"
   ]
  },
  {
   "cell_type": "code",
   "execution_count": null,
   "metadata": {},
   "outputs": [],
   "source": [
    "result = []\n",
    "for x in range(5):\n",
    "   if x % 2 == 0:\n",
    "      for y in range(5):\n",
    "         if y % 2 == 1:\n",
    "            result.append((x,y))\n",
    "print(result)"
   ]
  },
  {
   "cell_type": "markdown",
   "metadata": {},
   "source": [
    "Clearer and easier to understand with explicit for loops, but significantly more complex to write and somewhat slower to execute ([this post](https://stackoverflow.com/questions/30245397/why-is-a-list-comprehension-so-much-faster-than-appending-to-a-list) explains this with \"suspending and resuming a function's frame, or multiple functions in other cases, is slower than creating a list on demand\" ):"
   ]
  },
  {
   "cell_type": "code",
   "execution_count": null,
   "metadata": {},
   "outputs": [],
   "source": [
    "%%timeit\n",
    "# Zeitmessung für Listenausdruck\n",
    "[(x,y) for x in range(1000) if x % 2 == 0 for y in range(5) if y % 2 == 1]"
   ]
  },
  {
   "cell_type": "code",
   "execution_count": null,
   "metadata": {},
   "outputs": [],
   "source": [
    "%%timeit\n",
    "# Zeitmessung für explizite for-Schleife\n",
    "result = []\n",
    "for x in range(1000):\n",
    "   if x % 2 == 0:\n",
    "      for y in range(5):\n",
    "         if y % 2 == 1:\n",
    "            result.append((x,y))"
   ]
  },
  {
   "cell_type": "markdown",
   "metadata": {},
   "source": [
    "The easiest way to understand list expressions is to read them back to front and think of them as a series of `if` statements and `for` loops, as above.\n",
    "\n",
    "Typical use case: transformation of a list (input = list, output = list)."
   ]
  },
  {
   "cell_type": "markdown",
   "metadata": {},
   "source": [
    "Similar to <font color=#ff0000> **list comprehensions**</font> for lists, there are <font color=#0000ff> **dict comprehensions**</font> for dictionaries:"
   ]
  },
  {
   "cell_type": "code",
   "execution_count": null,
   "metadata": {},
   "outputs": [],
   "source": [
    "sqdict = { i : i**2 for i in range(10) }\n",
    "print(sqdict)"
   ]
  },
  {
   "cell_type": "markdown",
   "metadata": {},
   "source": [
    "### Merge lists with zip"
   ]
  },
  {
   "cell_type": "code",
   "execution_count": null,
   "metadata": {},
   "outputs": [],
   "source": [
    "a = [ 1, 2, 3 ]\n",
    "b = ['a', 'b', 'c']\n",
    "list(zip(a,b))"
   ]
  },
  {
   "cell_type": "markdown",
   "metadata": {},
   "source": [
    "Returns combined list of <font color=#008000>tuples.</font>\n",
    " \n",
    "\n",
    "Practical application - dot product (with [`sum`](https://docs.python.org/3/library/functions.html#sum) as a function that can run over iterators):"
   ]
  },
  {
   "cell_type": "code",
   "execution_count": null,
   "metadata": {},
   "outputs": [],
   "source": [
    "a = [ 0.3, 1.8, -2.2 ] \n",
    "b = [ -2.5, 3.8, 0.4]\n",
    "sp = sum([ x*y for x,y in zip(a,b)])\n",
    "print(sp)"
   ]
  },
  {
   "cell_type": "markdown",
   "metadata": {},
   "source": [
    "Can be easily extended to combine two lists into one dict:"
   ]
  },
  {
   "cell_type": "code",
   "execution_count": null,
   "metadata": {},
   "outputs": [],
   "source": [
    "d = { x[1] : x[0] for x in zip(a, b) }\n",
    "print(d)"
   ]
  },
  {
   "cell_type": "code",
   "execution_count": null,
   "metadata": {},
   "outputs": [],
   "source": [
    "# Oder direkter ...\n",
    "d = dict(zip(b,a))\n",
    "d"
   ]
  },
  {
   "cell_type": "markdown",
   "metadata": {},
   "source": [
    "\n",
    "### defaultdict\n",
    " \n",
    "\n",
    "In the <font color=#008000> *collections*</font> module there are useful helper classes for working with lists and dicts. Here's an example of how to determine the frequency of words in a text file:"
   ]
  },
  {
   "cell_type": "code",
   "execution_count": null,
   "metadata": {},
   "outputs": [],
   "source": [
    "# download Kant's text\n",
    "import urllib.request\n",
    "f = urllib.request.urlopen(\"https://goo.gl/rGqW4k\")\n",
    "\n",
    "# split into words and convert to unicode\n",
    "words=[]\n",
    "for line in f: # iteriere ueber alle Zeilen\n",
    "    line=line.decode(\"utf-8\") # Decoding the binary data to text.\n",
    "    words += line.split() # packe Words in list\n",
    "\n",
    "print (\"Gesamtzahl der Wörter:\", len(words))    \n",
    "# or more direct w/ double list-comprehension:\n",
    "# words=[ word for line in f for word in line.split() ]"
   ]
  },
  {
   "cell_type": "markdown",
   "metadata": {},
   "source": [
    "Now let's try different methods to count the frequency of individual words (using the word \"Vernunft (=reason)\" as an example), initially without using any additional modules:"
   ]
  },
  {
   "cell_type": "code",
   "execution_count": null,
   "metadata": {},
   "outputs": [],
   "source": [
    "# count words v1 (if / else)\n",
    "word_counts = {}\n",
    "for word in words:\n",
    "    if word in word_counts:\n",
    "        word_counts[word] += 1\n",
    "    else:\n",
    "        word_counts[word] = 1\n",
    "\n",
    "print (\"V1:\", word_counts[\"Vernunft\"])\n",
    "# Umstaendlich ..."
   ]
  },
  {
   "cell_type": "code",
   "execution_count": null,
   "metadata": {},
   "outputs": [],
   "source": [
    "# count words v2 (try / except)\n",
    "word_counts = {}\n",
    "for word in words:\n",
    "    try:\n",
    "        word_counts[word] += 1\n",
    "    except:\n",
    "        word_counts[word] = 1\n",
    "\n",
    "print (\"V2:\", word_counts[\"Vernunft\"])\n",
    "# Auch umstaendlich ..."
   ]
  },
  {
   "cell_type": "code",
   "execution_count": null,
   "metadata": {},
   "outputs": [],
   "source": [
    "# count words v3\n",
    "from collections import defaultdict\n",
    "# defaultdict(int) initialisiert Eintraege beim Ansprechen automatisch auf int() = 0\n",
    "word_counts = defaultdict(int)\n",
    "for word in words:\n",
    "    word_counts[word] += 1\n",
    "\n",
    "print (\"V3:\", word_counts[\"Vernunft\"])"
   ]
  },
  {
   "cell_type": "code",
   "execution_count": null,
   "metadata": {},
   "outputs": [],
   "source": [
    "# oder noch einfacher ...\n",
    "from collections import Counter\n",
    "word_counts=Counter(words)\n",
    "# Counter liefert eine Art dict zurück, das als Wert die Häufigkeit enthält... \n",
    "print (\"V4:\", word_counts[\"Vernunft\"])"
   ]
  },
  {
   "cell_type": "code",
   "execution_count": null,
   "metadata": {},
   "outputs": [],
   "source": [
    "# und weitere Methoden...\n",
    "print(word_counts.most_common(10)) # die 10 häufigsten..."
   ]
  },
  {
   "cell_type": "markdown",
   "metadata": {},
   "source": [
    "### enumerate\n",
    "\n",
    "Another common problem is that when iterating over a list, you want both the item and the index."
   ]
  },
  {
   "cell_type": "code",
   "execution_count": null,
   "metadata": {},
   "outputs": [],
   "source": [
    "# find largest element in list,\n",
    "# both index and value of this element\n",
    "#\n",
    "nums = [ 1,5,8,3,7,6,15,11 ] # list with some numbers -- largest element is 15 at position 6 (counting from 0)"
   ]
  },
  {
   "cell_type": "code",
   "execution_count": null,
   "metadata": {},
   "outputs": [],
   "source": [
    "# initialize\n",
    "maxv = nums[0]\n",
    "imax = 0\n",
    "\n",
    "# classical method-1\n",
    "for i in range(len(nums)): # index loop\n",
    "    if nums[i]>maxv:\n",
    "        maxv = nums[i]\n",
    "        imax = i\n",
    "\n",
    "print (maxv, imax)"
   ]
  },
  {
   "cell_type": "code",
   "execution_count": null,
   "metadata": {},
   "outputs": [],
   "source": [
    "# classical method-2\n",
    "maxv=nums[0]\n",
    "imax = 0\n",
    "i = 0\n",
    "for x in nums: # keep separate counter/index\n",
    "    if x>maxv:\n",
    "        maxv = x\n",
    "        imax = i\n",
    "    i += 1\n",
    "print (maxv, imax)"
   ]
  },
  {
   "cell_type": "code",
   "execution_count": null,
   "metadata": {},
   "outputs": [],
   "source": [
    "# pythonic way: better use enumerate\n",
    "#\n",
    "maxv=nums[0]\n",
    "imax = 0\n",
    "for i,x in enumerate(nums): # provides index,value \n",
    "    if x>maxv:\n",
    "        maxv = x\n",
    "        imax = i\n",
    "print (maxv, imax)"
   ]
  },
  {
   "cell_type": "markdown",
   "metadata": {},
   "source": [
    "<font color=#0000e6> ``enumerate``</font> returns index and element together:"
   ]
  },
  {
   "cell_type": "code",
   "execution_count": null,
   "metadata": {},
   "outputs": [],
   "source": [
    "list(enumerate(nums))"
   ]
  },
  {
   "cell_type": "markdown",
   "metadata": {},
   "source": [
    "### Extra options for standard functions\n",
    "\n",
    "Python provides a couple of standard functions for common tasks, such as max, min, sort, etc.\n",
    "\n",
    "Simple use is straightforward but there are extra options which increase functionality.\n",
    "\n",
    "#### sort:\n",
    "\n",
    "specify criteria"
   ]
  },
  {
   "cell_type": "code",
   "execution_count": null,
   "metadata": {},
   "outputs": [],
   "source": [
    "txtl = [ 'hello', 'Munich', 'terrible', 'Acronym']\n",
    "# default sort\n",
    "print(sorted(txtl))\n",
    "#\n",
    "# sort using ignoring lower/upper case\n",
    "print(sorted(txtl,key=lambda x: x.lower()))\n",
    "#\n",
    "# sort using length\n",
    "print(sorted(txtl,key=lambda x: len(x)))\n",
    "print(sorted(txtl,key=len))\n",
    "\n"
   ]
  },
  {
   "cell_type": "markdown",
   "metadata": {},
   "source": [
    "#### max\n"
   ]
  },
  {
   "cell_type": "code",
   "execution_count": null,
   "metadata": {},
   "outputs": [],
   "source": [
    "# return max element\n",
    "a = [1,2,7,3,88,17]\n",
    "print (max(a))\n",
    "\n",
    "# find most frequent element\n",
    "li=[1,5,8,6,5,9,6,9,5,6,9,6,5,4,\"a\",\"a\",\"b\",\"b\",\"a\",\"a\",\"a\"]\n",
    "print(max(set(li), key=li.count))\n"
   ]
  },
  {
   "cell_type": "code",
   "execution_count": null,
   "metadata": {},
   "outputs": [],
   "source": []
  }
 ],
 "metadata": {
  "@webio": {
   "lastCommId": null,
   "lastKernelId": null
  },
  "kernelspec": {
   "display_name": "Python 3 (ipykernel)",
   "language": "python",
   "name": "python3"
  },
  "language_info": {
   "codemirror_mode": {
    "name": "ipython",
    "version": 3
   },
   "file_extension": ".py",
   "mimetype": "text/x-python",
   "name": "python",
   "nbconvert_exporter": "python",
   "pygments_lexer": "ipython3",
   "version": "3.11.5"
  }
 },
 "nbformat": 4,
 "nbformat_minor": 4
}
