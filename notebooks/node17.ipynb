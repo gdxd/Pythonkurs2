{
 "cells": [
  {
   "cell_type": "markdown",
   "metadata": {},
   "source": [
    "[Node 17: Die Thread Klasse](http://www-static.etp.physik.uni-muenchen.de/kurs/Computing/python2/node17.html)"
   ]
  },
  {
   "cell_type": "markdown",
   "metadata": {},
   "source": [
    "Navigation:\n",
    "\n",
    "**Next:** [Synchronisation](node18.ipynb) **Up:** [Synchronisation](node18.ipynb) **Previous:** [Synchronisation](node18.ipynb)"
   ]
  },
  {
   "cell_type": "markdown",
   "metadata": {},
   "source": [
    "## The Thread class\n",
    "Derive from base class [<font color=#008000> *threading.Thread*</font>](https://docs.python.org/3/library/threading.html#threading.Thread).\n",
    "\n",
    "Two basic methods:\n",
    "* <font color=#008000> *start()*</font> initialization, <font color=#ff0000> **must**</font> be called by the user agent. Causes `run` to run in its own thread.\n",
    "* <font color=#008000> *run()*</font> The actual method while the thread is running. Called by the system, triggered by a <font color=#008000> *start()*</font> call."
   ]
  },
  {
   "cell_type": "code",
   "execution_count": null,
   "metadata": {},
   "outputs": [],
   "source": [
    "import threading\n",
    "\n",
    "class BytePrinter( threading.Thread ) :\n",
    "    \"\"\"\n",
    "    A sample thread class\n",
    "    \"\"\"\n",
    "    \n",
    "    def __init__(self):\n",
    "        \"\"\"\n",
    "        Constructor, setting initial variables\n",
    "        \"\"\"\n",
    "        threading.Thread.__init__(self, name=\"TestThread\")\n",
    "        \n",
    "    def run(self):\n",
    "        \"\"\"\n",
    "        overload of threading.thread.run()\n",
    "        main control loop\n",
    "        (The standard run() method invokes the callable object passed to the object’s constructor as the \n",
    "        target argument, if any, with positional and keyword arguments taken from the args and kwargs arguments, respectively.)\n",
    "        \"\"\"\n",
    "        print (\"%s starts\" % (self.getName(),))\n",
    "\n",
    "        for i in range(-128,128):\n",
    "            print (i)\n",
    "\n",
    "bp = BytePrinter()\n",
    "print (\"Starting BytePrinter\")\n",
    "bp.start()\n",
    "print (\"Started BytePrinter\")"
   ]
  },
  {
   "cell_type": "markdown",
   "metadata": {},
   "source": [
    "\n",
    "As soon as <font color=#008000> *bp.start()*</font> is called, 2 processes run:\n",
    "* One continues with the statements in the main program after <font color=#008000> *bp.start()*</font>\n",
    "* The other, new <font color=#ff0000>**bp–thread**</font> starts the <font color=#008000> *bp.run()*</font> method\n",
    "\n",
    "When which process comes into play is not fixed, but random\n",
    "\n",
    "The <font color=#ff0000> **Thread**</font> runs until\n",
    "* <font color=#008000> *run()*</font> is finished.\n",
    "* <font color=#008000> *time.sleep(..)*</font> or other wait commands are called and interrupt execution\n"
   ]
  },
  {
   "cell_type": "code",
   "execution_count": null,
   "metadata": {},
   "outputs": [],
   "source": [
    "import threading\n",
    "\n",
    "class BytePrinter( threading.Thread ) :\n",
    "    \"\"\"\n",
    "    A sample thread class\n",
    "    \"\"\"\n",
    "    def __init__(self):\n",
    "        \"\"\"\n",
    "        Constructor, setting initial variables\n",
    "        \"\"\"\n",
    "        threading.Thread.__init__(self, name=\"TestThread\")\n",
    "        \n",
    "    def run(self):\n",
    "        \"\"\"\n",
    "        overload of threading.thread.run()\n",
    "        main control loop\n",
    "        \"\"\"\n",
    "        print (\"%s starts\" % (self.getName(),))\n",
    "\n",
    "        for i in range(-128,128):\n",
    "            print (i)\n",
    "\n",
    "bp1 = BytePrinter()\n",
    "bp2 = BytePrinter()\n",
    "bp3 = BytePrinter()\n",
    "\n",
    "bp1.start()\n",
    "bp2.start()\n",
    "bp3.start()"
   ]
  },
  {
   "cell_type": "markdown",
   "metadata": {},
   "source": [
    "\n",
    "Execution time for <font color=#ff0000> **bp–Threads**</font> so short that the individual threads usually run sequentially.\n",
    "\n",
    "$\\Rightarrow$ demo short <font color=#008000> *sleep()*</font> in <font color=#008000> *run()*</font> method. To distinguish multiple threads, you can give them names.\n",
    "\n"
   ]
  },
  {
   "cell_type": "code",
   "execution_count": null,
   "metadata": {},
   "outputs": [],
   "source": [
    "import threading\n",
    "import time\n",
    "\n",
    "class BytePrinter( threading.Thread ) :\n",
    "\n",
    "    def __init__(self, name = \"TestThread\"):\n",
    "        threading.Thread.__init__(self, name=name)\n",
    "        \n",
    "    def run(self):\n",
    "        print (\"%s starts\" % (self.getName(),))\n",
    "        for i in range(-128,128):\n",
    "            print (self.getName(), i)\n",
    "            time.sleep(0.0001) # sleep 0.1 ms\n",
    "\n",
    "# main\n",
    "bp1 = BytePrinter(\"Helmut\")\n",
    "bp2 = BytePrinter(\"Edi\")\n",
    "bp3 = BytePrinter(\"Angie\")\n",
    "bp1.start()\n",
    "bp2.start()\n",
    "bp3.start()\n"
   ]
  },
  {
   "cell_type": "code",
   "execution_count": null,
   "metadata": {},
   "outputs": [],
   "source": []
  }
 ],
 "metadata": {
  "@webio": {
   "lastCommId": null,
   "lastKernelId": null
  },
  "kernelspec": {
   "display_name": "Python 3 (ipykernel)",
   "language": "python",
   "name": "python3"
  },
  "language_info": {
   "codemirror_mode": {
    "name": "ipython",
    "version": 3
   },
   "file_extension": ".py",
   "mimetype": "text/x-python",
   "name": "python",
   "nbconvert_exporter": "python",
   "pygments_lexer": "ipython3",
   "version": "3.9.12"
  }
 },
 "nbformat": 4,
 "nbformat_minor": 4
}
