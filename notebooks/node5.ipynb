{
 "cells": [
  {
   "cell_type": "markdown",
   "metadata": {},
   "source": [
    "[Node 5: Python Features](http://www-static.etp.physik.uni-muenchen.de/kurs/Computing/python2/node5.html)"
   ]
  },
  {
   "cell_type": "markdown",
   "metadata": {},
   "source": [
    "Navigation:\n",
    "\n",
    "**Next:** [Python-Grundlagen](node6.ipynb) **Up:** [Python-Grundlagen](node6.ipynb) **Previous:** [Python-Grundlagen](node6.ipynb)"
   ]
  },
  {
   "cell_type": "markdown",
   "metadata": {},
   "source": [
    "# Python features\n",
    "\n",
    "* Python is an object-oriented, platform-independent programming language. Developed in the late 90s.\n",
    "* Python is an interpreter/scripting language, like <font color=#008000>shell scripts, Perl, Basic</font> , as opposed to compiler languages ​​<font color=#0000ff>C/C++, Fortran, Cobol, . ..,</font> (JAVA somewhere in between)\n",
    "* Traditionally, interpreter/script languages ​​are primarily used for system administration or auxiliary macros (e.g. MS Excel/VB).\n",
    "* Python established as an independent language for a variety of application areas.\n",
    "* In particular as <font color=#ff0000> **glue language**</font> to link different areas, e.g. <font color=#008000> *Data acquisition via sensor in C/C++, access via web interfaces, saving in database*</font> $\\Rightarrow$ Python ideal for connecting different componens and services\n",
    "\n",
    "---\n",
    "\n",
    "**Python vs C++**\n",
    "\n",
    "<font color=#0000ff>Pros:</font>\n",
    "* Well-defined, manageable language scope\n",
    "* Numerous help packages for <font color=#0000ff>I/O, networking, graphics, databases, ...</font> integrated into the standard distribution.\n",
    "* Many features integrated into language that make everyday programming tasks much easier.\n",
    "* Platform independent\n",
    "* Flat learning curve, high programming efficiency\n",
    "\n",
    "<font color=#0000ff>Cons:</font>\n",
    "* Performance disadvantages\n",
    "* Hardware-related programming difficult\n",
    "\n",
    "---\n",
    "\n",
    "Python and C++ don't really compete but rather complement each other. In Python many “simple” tasks can be solved very easily. For time/memory-critical problems, C/C++ is way better. <font color=#008000> *However: With today's computer performance this is rarely the case. Then preferably a heterogeneous solution*</font>\n",
    "\n",
    "\n",
    "\n",
    "---"
   ]
  },
  {
   "cell_type": "code",
   "execution_count": null,
   "metadata": {},
   "outputs": [],
   "source": []
  }
 ],
 "metadata": {
  "kernelspec": {
   "display_name": "Python 3 (ipykernel)",
   "language": "python",
   "name": "python3"
  },
  "language_info": {
   "codemirror_mode": {
    "name": "ipython",
    "version": 3
   },
   "file_extension": ".py",
   "mimetype": "text/x-python",
   "name": "python",
   "nbconvert_exporter": "python",
   "pygments_lexer": "ipython3",
   "version": "3.11.5"
  }
 },
 "nbformat": 4,
 "nbformat_minor": 4
}
