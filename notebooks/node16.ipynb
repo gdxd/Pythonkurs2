{
 "cells": [
  {
   "cell_type": "markdown",
   "metadata": {},
   "source": [
    "[Node 16: Threads and Multi–Processing](http://www-static.etp.physik.uni-muenchen.de/kurs/Computing/python2/node16.html)"
   ]
  },
  {
   "cell_type": "markdown",
   "metadata": {},
   "source": [
    "Navigation:\n",
    "\n",
    "**Next:** [Die Thread Klasse](node17.ipynb) **Up:** [Die Thread Klasse](node17.ipynb) **Previous:** [Die Thread Klasse](node17.ipynb)"
   ]
  },
  {
   "cell_type": "markdown",
   "metadata": {},
   "source": [
    "# Threads and Multi-Processing\n",
    "Python supports <font color=#008000> *Multi–Threading*</font>. Essentially, this means that several processes (= <font color=#008000> *Threads*</font>) running in parallel can be started from a Python program.\n",
    "\n",
    "History:\n",
    "* In early computers, a program would run from start to finish before the next program started $\\Rightarrow$ <font color=#008000> *Batch–Processing*</font>\n",
    "* More modern operating systems support <font color=#008000> *Multi-Tasking*</font> , i.e. the CPU time is distributed to the various processes via a time-sharing mechanism. On single-CPU computers, of course, only one process is running at a time, but typically after a few milliseconds, the next one is $\\Rightarrow$ Basis for <font color=#008000> *interactive multi-user systems*</font>\n",
    "\n",
    "However, the individual processes run completely separately, each program has its own memory area, its own variables, etc.\n",
    "* <font color=#008000> *Multi–Processing:*</font> Programs run in parallel, but still independently (as independent processes), i.e. no shared memory area. Explicit tools needed for communication. Can also be distributed over several/many computing nodes.\n",
    "* <font color=#008000> *Multi–Threading*</font> goes beyond that. Several versions of <font color=#008000> *a*</font> program run “simultaneously” on a computing node, all of which access the <font color=#008000> *same*</font> memory area.\n",
    "$\\Rightarrow$ sensitive, possible conflicts when accessing memory areas (read, write, delete).\n"
   ]
  },
  {
   "cell_type": "markdown",
   "metadata": {},
   "source": [
    "**New trend in programming: Concurrency = Multithreading**\n",
    " \n",
    "\n",
    "Until recently, multi-threading was limited to specific applications (GUIs, controls, server processes) and for experts.\n",
    "\n",
    "However, for about 10 years there has been a trend reversal in hardware development:\n",
    "* Increased performance of the processors through increasing clock rates and optimized processor processes pretty much exhausted, at least greatly slowed down. Problem: Scaling of heat development with clock rate (linear at best, but often even worse).\n",
    "* Instead, introduction of <font color=#0000ff> **Multi-Core**</font> CPUs, i.e. multiple processor cores on one chip. Currently 2-4 cores are already common in smartphones and laptops, 8 cores in desktop systems and 16-80 cores in servers, the trend towards more cores continues.\n",
    "* Performance in the future mainly due to more processor cores, only slow progress with individual processors.\n",
    "\n",
    "Requires programs with multi-threading (disadvantage of multi-processing: linear storage space requirements) in order to exploit increases in performance.\n",
    "See also article by Herb Sutter: [**The Free Lunch Is Over**](http://www.gotw.ca/publications/concurrency-ddj.htm)"
   ]
  },
  {
   "cell_type": "markdown",
   "metadata": {},
   "source": [
    "**History of transistor/CPU development** ![Image 42-years-processor-trend](figures/42-years-processor-trend.png \"Image 42-years-processor-trend\")"
   ]
  },
  {
   "cell_type": "markdown",
   "metadata": {},
   "source": [
    "(Single-thread performance continues to increase at the same clock speed due to improved processor architectures and more complex processing of instructions. Some of these, such as speculative code execution, can be exploited in hacks such as [\"Spectre\"](https://spectreattack.com/spectre.pdf):\n",
    "```\n",
    "if(x < array1_size) # x kann vom Angreifer kontrolliert werden\n",
    "  y = array2[array1[x]*4096]; # array1 enthält geheime Infos\n",
    "```\n",
    "by using \"side channels\" to extract information from actually inaccessible memory areas very slowly but reliably, e.g. by measuring execution times (cache miss).)"
   ]
  },
  {
   "cell_type": "markdown",
   "metadata": {},
   "source": [
    "## Subchapters\n",
    "* [Die Thread Klasse](node17.ipynb)\n",
    "* [Synchronisation](node18.ipynb)\n",
    "* [Python Threads und GIL](node19.ipynb)\n",
    "* [Python Multi-Processing](node20.ipynb)\n",
    "* [Aufgaben](node21.ipynb)"
   ]
  }
 ],
 "metadata": {
  "kernelspec": {
   "display_name": "Python 3 (ipykernel)",
   "language": "python",
   "name": "python3"
  },
  "language_info": {
   "codemirror_mode": {
    "name": "ipython",
    "version": 3
   },
   "file_extension": ".py",
   "mimetype": "text/x-python",
   "name": "python",
   "nbconvert_exporter": "python",
   "pygments_lexer": "ipython3",
   "version": "3.9.12"
  }
 },
 "nbformat": 4,
 "nbformat_minor": 4
}
