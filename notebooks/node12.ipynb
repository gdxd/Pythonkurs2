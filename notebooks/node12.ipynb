{
 "cells": [
  {
   "cell_type": "markdown",
   "metadata": {},
   "source": [
    "[Node 12: Aufgaben](http://www-static.etp.physik.uni-muenchen.de/kurs/Computing/python2/node12.html)"
   ]
  },
  {
   "cell_type": "markdown",
   "metadata": {},
   "source": [
    "Navigation:\n",
    "\n",
    "**Next:** [Python und C/C++](node13.ipynb) **Up:** [Python und C/C++](node13.ipynb) **Previous:** [Python und C/C++](node13.ipynb)"
   ]
  },
  {
   "cell_type": "markdown",
   "metadata": {},
   "source": [
    "###  Tasks\n",
    "\n",
    "1. **Generate random numbers**\n",
    "\n",
    "With the help of list comprehensions you create a list of random numbers, e.g. a dice roll or two dice rolls at the same time. To do this, use <font color=#0000e6> ``random.randrange(1,7)``</font>, which returns a single random number between 1 and 6.\n",
    "\n",
    "Solution: [wuerfel.py](source/solutions/wuerfel.py)\n",
    " \n",
    "\n",
    "Use the generated lists of dice rolls to calculate the following:\n",
    "* Mean (of a cube)\n",
    "* standard deviation (of a cube)\n",
    "* Number of 6-rolls (with a dice)\n",
    "* Number of double rolls (two identical numbers with two dice)\n",
    " \n",
    "\n",
    " \n",
    "\n",
    "2. **Function parameters**\n",
    "\n",
    "Vary the transfer of arguments in the example of function parameters, e.g.\n",
    "```python\n",
    "s=list(range(5)) \n",
    "d = {'vorname': 'Peter', 'nachname': 'Maier', 'age': 25}\n",
    "f(s)\n",
    "f(*s)\n",
    "f(d)\n",
    "f(*d)\n",
    "f(**d)\n",
    "f(1,**d)\n",
    "```\n",
    "Try to understand what is happening in each case."
   ]
  },
  {
   "cell_type": "markdown",
   "metadata": {},
   "source": [
    "3. **Search in strings**\n",
    "\n",
    "Write a program that takes a string and a substring as input. The substring is to be searched for in the string and the position and possible multiple occurrences are to be checked.\n",
    "\n",
    "Solution: [stringsearch.py](source/solutions/stringsearch.py)\n",
    " \n",
    "\n",
    "4. **word count**\n",
    "\n",
    "The program example for counting words in <font color=#0000e6> ``kant.txt``</font> is a bit sloppy because punctuation marks are not handled correctly (e.g. <font color=#0000e6> ``Vernunft``</font> and <font color=#0000e6> ``Vernunft,``</font> are counted separately). How to fix?\n",
    "\n",
    "Solution: [wordcount.py](source/solutions/wordcount.py)\n",
    " \n",
    "\n",
    "5. **Encode Strings**\n",
    "\n",
    "The program [text_encode.py](source/text_encode.py) shows a short example for the encryption of text strings according to the so-called [text_encode.py](source/text_encode.py).\n",
    " \n",
    "\n",
    "(a) Try to understand the individual program steps\n",
    "\n",
    "(b) Change the algorithm so that instead of a fixed shift, a random mapping of the characters is made (function <font color=#0000e6> ``random.shuffle(list)``</font> brings elements of a list into random order )\n",
    "\n",
    "\n",
    "\n",
    "---"
   ]
  },
  {
   "cell_type": "code",
   "execution_count": null,
   "metadata": {},
   "outputs": [],
   "source": []
  }
 ],
 "metadata": {
  "kernelspec": {
   "display_name": "Python 3 (ipykernel)",
   "language": "python",
   "name": "python3"
  },
  "language_info": {
   "codemirror_mode": {
    "name": "ipython",
    "version": 3
   },
   "file_extension": ".py",
   "mimetype": "text/x-python",
   "name": "python",
   "nbconvert_exporter": "python",
   "pygments_lexer": "ipython3",
   "version": "3.11.5"
  }
 },
 "nbformat": 4,
 "nbformat_minor": 4
}
