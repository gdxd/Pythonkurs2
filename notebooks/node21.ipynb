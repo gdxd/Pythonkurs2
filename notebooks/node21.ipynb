{
 "cells": [
  {
   "cell_type": "markdown",
   "metadata": {},
   "source": [
    "[Node 21: Aufgaben](http://www-static.etp.physik.uni-muenchen.de/kurs/Computing/python2/node21.html)"
   ]
  },
  {
   "cell_type": "markdown",
   "metadata": {},
   "source": [
    "Navigation:\n",
    "\n",
    "**Next:** [Numpy, Scipy und Matplotlib](node22.ipynb) **Up:** [Numpy, Scipy und Matplotlib](node22.ipynb) **Previous:** [Numpy, Scipy und Matplotlib](node22.ipynb)"
   ]
  },
  {
   "cell_type": "markdown",
   "metadata": {},
   "source": [
    "##  Tasks\n",
    "\n",
    "1. **BytePrinter**\n",
    "\n",
    "a) Test the <font color=#008000> *BytePrinter*</font> classes. Run it multiple times in a row to see the randomness of the sequence.\n",
    "\n",
    "b) Study the effects of <font color=#008000> *sleep()*</font>\n",
    "<!-- c) Change the priorities. [not supported in Python threading?] -->\n",
    " \n",
    "\n",
    "1. **Elevator Simulation**\n",
    "\n",
    "Assume a multi-storey house in which several people work. The people occasionally change floors and use a 1-person elevator (ie even smaller than in Schellingstraße 4...). Each person should be simulated in a separate thread. Work between elevator uses is simulated by <font color=#008000> *sleep(some-random-time)*</font>. Elevator ride is a separate class/method. The driving time is again simulated with <font color=#008000> *sleep()*</font> proportional to the distance. <font color=#008000> *Locking*</font> can be used to ensure that only one person (=thread) uses the elevator. Output of the actions using `print()`. Study the influence of the number of floors, number of employees, etc. on the throughput.\n",
    "Simple sample program: [<font color=#0000ff>AufzugSim.py</font>](source/AufzugSim.py)\n",
    "\n",
    "1. **Multi-Threading and Multi-Processing**\n",
    "\n",
    "Test the different variants of the program for calculating Pi for multi-threading ([``randpi.py``](source/randpi.py)) and multi-processing ([``randpiMP.py``](source/randpiMP.py), [``randpiMP2.py``](source/randpiMP2.py)).\n",
    "\n",
    "<!-- removed because example changed (old see node18orig)\n",
    "1. **Sync**\n",
    "\n",
    "Go through the <font color=#008000> *CounterThread*</font> example, how can a thread get stuck in an infinite loop?\n",
    "\n",
    "Convince yourself of the effect of the <font color=#008000> *Locking*</font> mechanism.\n",
    "-->\n"
   ]
  },
  {
   "cell_type": "code",
   "execution_count": null,
   "metadata": {},
   "outputs": [],
   "source": []
  }
 ],
 "metadata": {
  "kernelspec": {
   "display_name": "Python 3 (ipykernel)",
   "language": "python",
   "name": "python3"
  },
  "language_info": {
   "codemirror_mode": {
    "name": "ipython",
    "version": 3
   },
   "file_extension": ".py",
   "mimetype": "text/x-python",
   "name": "python",
   "nbconvert_exporter": "python",
   "pygments_lexer": "ipython3",
   "version": "3.9.12"
  }
 },
 "nbformat": 4,
 "nbformat_minor": 4
}
