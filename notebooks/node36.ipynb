{
 "cells": [
  {
   "cell_type": "markdown",
   "metadata": {},
   "source": [
    "[Node 36: Software Testen](http://www-static.etp.physik.uni-muenchen.de/kurs/Computing/python2/node36.html)"
   ]
  },
  {
   "cell_type": "markdown",
   "metadata": {},
   "source": [
    "Navigation:\n",
    "\n",
    "[](node37.ipynb)[](node37.ipynb)[](node37.ipynb)\n",
    "\n",
    "**Next:** [Test-Driven Development (TDD)](node37.ipynb) **Up:** [Test-Driven Development (TDD) **Previous:** [Test-Driven Development (TDD)"
   ]
  },
  {
   "cell_type": "markdown",
   "metadata": {},
   "source": [
    "# Software testing\n",
    "\n",
    "**Why?**\n",
    "\n",
    "<font color=#0000ff> **Basically**</font>\n",
    "* Proof that software does what it is supposed to\n",
    "* Find bugs and problems before real use <font color=#008000> *(= Production-use)*</font> takes place\n",
    "\n",
    "Rapid increase in systems and processes that are controlled by software, errors can have serious consequences. Ensuring that programs work as intended and fixing bugs is the most important aspect of creating <font color=#0000ff> **Production–Use**</font> programs.\n",
    "\n",
    "An interesting list of partly strange, but partly fatal errors in software can be found e.g. in [**Collection of Software Bugs**](https://www5.in.tum.de/persons/huckle/bugse.html).\n",
    "\n",
    "<font color=#008000> *You can never prove with tests that a program has no bugs, but at least they can greatly reduce the occurrence of bugs....*</font>"
   ]
  },
  {
   "cell_type": "markdown",
   "metadata": {},
   "source": [
    "<font color=#ff0000> **[Apple's goto-fail bug](https://nakedsecurity.sophos.com/2014/02/24/anatomy-of-a-goto-fail-apples-ssl-bug-explained-plus-an-unofficial-patch/)**</font>\n",
    "\n",
    "Current example (2014) for a security-related bug in Apple iOS 7 <font color=#008000> *(C program code)*</font>. The function [`SSLVerifySignedServerKeyExchange`](https://opensource.apple.com/source/Security/Security-55471/libsecurity_ssl/lib/sslKeyExchange.c) should return 0 if the check was successful and the TLS connection is allowed to be established. To do this, it performs a series of tests:\n",
    "\n",
    "```cxx\n",
    "// ...\n",
    "hashOut.data = hashes + SSL_MD5_DIGEST_LEN;\n",
    "hashOut.length = SSL_SHA1_DIGEST_LEN;\n",
    "if ((err = SSLFreeBuffer(&hashCtx)) != 0)\n",
    "    goto fail;\n",
    "if ((err = ReadyHash(&SSLHashSHA1, &hashCtx)) != 0)\n",
    "    goto fail;\n",
    "if ((err = SSLHashSHA1.update(&hashCtx, &clientRandom)) != 0)\n",
    "    goto fail;\n",
    "if ((err = SSLHashSHA1.update(&hashCtx, &serverRandom)) != 0)\n",
    "    goto fail;\n",
    "if ((err = SSLHashSHA1.update(&hashCtx, &signedParams)) != 0)\n",
    "    goto fail;\n",
    "    goto fail; \n",
    "if ((err = SSLHashSHA1.final(&hashCtx, &hashOut)) != 0)\n",
    "    goto fail;\n",
    "\n",
    "err = sslRawVerify(...);\n",
    "\n",
    "fail:\n",
    "    ...\n",
    "    return err;\n",
    "\n",
    "}\n",
    "```"
   ]
  },
  {
   "cell_type": "markdown",
   "metadata": {},
   "source": [
    "Crucial check (<font color=#0000e6> ``sslRawVerify()``</font> ) is not executed, but the value of `err = ` of the last check is returned. This enables attacks on encrypted (TLS/SSL) connections since the verification process has not taken place. (`goto fail` apparently only leads to the end of the function, despite the name `fail` as a jump label, and then returns the error code in `err`.)"
   ]
  },
  {
   "cell_type": "markdown",
   "metadata": {},
   "source": [
    "## Subchapters\n",
    "* [Test-Driven Development (TDD)](node37.ipynb)\n",
    "* [Mit PDB debuggen](node38.ipynb)\n",
    "* [Aufgaben](node39.ipynb)"
   ]
  }
 ],
 "metadata": {
  "kernelspec": {
   "display_name": "Python 3 (ipykernel)",
   "language": "python",
   "name": "python3"
  },
  "language_info": {
   "codemirror_mode": {
    "name": "ipython",
    "version": 3
   },
   "file_extension": ".py",
   "mimetype": "text/x-python",
   "name": "python",
   "nbconvert_exporter": "python",
   "pygments_lexer": "ipython3",
   "version": "3.11.5"
  }
 },
 "nbformat": 4,
 "nbformat_minor": 4
}
