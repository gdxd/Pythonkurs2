{
 "cells": [
  {
   "cell_type": "markdown",
   "metadata": {},
   "source": [
    "[Node 1: Schlüsselqualifikation für Bachelor/Master](http://www-static.etp.physik.uni-muenchen.de/kurs/Computing/python2/node1.html)"
   ]
  },
  {
   "cell_type": "markdown",
   "metadata": {},
   "source": [
    "Navigation:\n",
    "\n",
    "**Next:** [Allgemeines](node2.ipynb)\n",
    "**Up:** [PYTHON2 Kurs](node0.ipynb)\n",
    "**Previous:** [PYTHON2 Kurs](node0.ipynb)"
   ]
  },
  {
   "cell_type": "markdown",
   "metadata": {},
   "source": [
    "# Key qualification for Bachelor/Master\n",
    "\n",
    "* One-week block course equivalent to SQ 1+2, i.e.\n",
    "\n",
    "<font color=#ff0000> **1. Course = Python for Physicists = SQ1+2 = 3 ECTS points**</font>\n",
    "\n",
    "<font color=#ff0000> **2. Course = Advanced Programming in Python = SQ1+2 = 3 ECTS points**</font>\n",
    "\n",
    "but can only be counted once!\n",
    "* Successfully passing the exam (= short written test at the end) is the criterion for awarding points\n",
    "* Together with the exam tasks, we distribute the template forms that you fill out and hand in with the exam.\n",
    "* When the correction is ready it will be announced here on the shared google doc for the course. Those who did not pass will be notified by email. Everyone else can pick up their certificates from the examination office from around the beginning of November. In urgent cases you can also ask to obtain the certificate from us beforehand, please arrange this by email.\n",
    "\n",
    "\n",
    "\n",
    "---"
   ]
  },
  {
   "cell_type": "code",
   "execution_count": null,
   "metadata": {},
   "outputs": [],
   "source": []
  }
 ],
 "metadata": {
  "kernelspec": {
   "display_name": "Python 3 (ipykernel)",
   "language": "python",
   "name": "python3"
  },
  "language_info": {
   "codemirror_mode": {
    "name": "ipython",
    "version": 3
   },
   "file_extension": ".py",
   "mimetype": "text/x-python",
   "name": "python",
   "nbconvert_exporter": "python",
   "pygments_lexer": "ipython3",
   "version": "3.9.12"
  }
 },
 "nbformat": 4,
 "nbformat_minor": 4
}
