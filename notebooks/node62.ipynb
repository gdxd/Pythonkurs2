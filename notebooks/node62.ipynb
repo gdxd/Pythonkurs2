{
 "cells": [
  {
   "cell_type": "markdown",
   "metadata": {},
   "source": [
    "[Node 62: Netzwerkprogrammierung](http://www-static.etp.physik.uni-muenchen.de/kurs/Computing/python2/node62.html)"
   ]
  },
  {
   "cell_type": "markdown",
   "metadata": {},
   "source": [
    "\n",
    "\n",
    "**Next:** [Überblick Netzwerkprogrammierung](node63.ipynb) "
   ]
  },
  {
   "cell_type": "markdown",
   "metadata": {},
   "source": [
    "# Network Programming\n",
    "\n",
    "Content:\n",
    "* Introduction and modules of the Python standard library\n",
    "* Distributed programs using XML-RPC\n",
    "\n",
    "\n",
    "## Subchapters\n",
    "* [Overview network programming ](node63.ipynb)\n",
    "* [Modules of Python-Standardlib](node64.ipynb)\n",
    "* [Distributed processing using XML-RPC](node65.ipynb)\n",
    "* [Exercises](node66.ipynb)\n"
   ]
  },
  {
   "cell_type": "code",
   "execution_count": null,
   "metadata": {},
   "outputs": [],
   "source": []
  }
 ],
 "metadata": {
  "kernelspec": {
   "display_name": "Python 3 (ipykernel)",
   "language": "python",
   "name": "python3"
  },
  "language_info": {
   "codemirror_mode": {
    "name": "ipython",
    "version": 3
   },
   "file_extension": ".py",
   "mimetype": "text/x-python",
   "name": "python",
   "nbconvert_exporter": "python",
   "pygments_lexer": "ipython3",
   "version": "3.9.12"
  }
 },
 "nbformat": 4,
 "nbformat_minor": 4
}
