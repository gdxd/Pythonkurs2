{
 "cells": [
  {
   "cell_type": "markdown",
   "metadata": {},
   "source": [
    "[Node 14: ctypes](http://www-static.etp.physik.uni-muenchen.de/kurs/Computing/python2/node14.html)"
   ]
  },
  {
   "cell_type": "markdown",
   "metadata": {},
   "source": [
    "Navigation:\n",
    "\n",
    "**Next:** [SWIG](node15.ipynb) **Up:** [SWIG](node15.ipynb) **Previous:** [SWIG](node15.ipynb)"
   ]
  },
  {
   "cell_type": "markdown",
   "metadata": {},
   "source": [
    "## ctypes\n",
    "Using the Python standard module [``ctypes``](https://docs.python.org/3/library/ctypes.html), functions can be called from dynamic libraries without extension modules:\n",
    "> ctypes is a foreign function library for Python. It provides C compatible data types, and allows calling functions in DLLs or shared libraries. It can be used to wrap these libraries in pure Python.\n",
    "\n",
    "The data type difference between Python and C is bridged by some ``c_*`` data types, e.g. ``c_short: int/long``, ``c_double: double``, ``c_char_p: str``. An overview of the data types can be found at [hier](https://docs.python.org/3/library/ctypes.html#fundamental-data-types)."
   ]
  },
  {
   "cell_type": "code",
   "execution_count": null,
   "metadata": {},
   "outputs": [],
   "source": [
    "from ctypes import *\n",
    "i = c_int()\n",
    "s = c_wchar_p('Hello World!') # corresponding C type: wchar_t * (NUL terminated)\n",
    "type(s)"
   ]
  },
  {
   "cell_type": "code",
   "execution_count": null,
   "metadata": {},
   "outputs": [],
   "source": [
    "s.value"
   ]
  },
  {
   "cell_type": "code",
   "execution_count": null,
   "metadata": {},
   "outputs": [],
   "source": [
    "i.value"
   ]
  },
  {
   "cell_type": "markdown",
   "metadata": {},
   "source": [
    "Pointers can also be processed:"
   ]
  },
  {
   "cell_type": "code",
   "execution_count": null,
   "metadata": {},
   "outputs": [],
   "source": [
    "i  = c_int(42)\n",
    "pi = pointer(i)\n",
    "pi"
   ]
  },
  {
   "cell_type": "code",
   "execution_count": null,
   "metadata": {},
   "outputs": [],
   "source": [
    "pi.contents.value"
   ]
  },
  {
   "cell_type": "markdown",
   "metadata": {},
   "source": [
    "``ctypes`` is used to load and call functions from C dynamic libraries. First the library must be loaded in order to then call the C functions:"
   ]
  },
  {
   "cell_type": "code",
   "execution_count": null,
   "metadata": {},
   "outputs": [],
   "source": [
    "libc=cdll.LoadLibrary('libc.so.6')\n",
    "libc"
   ]
  },
  {
   "cell_type": "code",
   "execution_count": null,
   "metadata": {},
   "outputs": [],
   "source": [
    "dir(libc)"
   ]
  },
  {
   "cell_type": "markdown",
   "metadata": {},
   "source": [
    "The C functions ``printf`` or ``sleep`` can be loaded dynamically:"
   ]
  },
  {
   "cell_type": "code",
   "execution_count": null,
   "metadata": {},
   "outputs": [],
   "source": [
    "libc.printf"
   ]
  },
  {
   "cell_type": "code",
   "execution_count": null,
   "metadata": {},
   "outputs": [],
   "source": [
    "libc.sleep"
   ]
  },
  {
   "cell_type": "code",
   "execution_count": null,
   "metadata": {},
   "outputs": [],
   "source": [
    "[s for s in dir(libc) if s[:2] != '__' and s[-2:] != '__']"
   ]
  },
  {
   "cell_type": "markdown",
   "metadata": {},
   "source": [
    "(This list does not include all functions, only those we mentioned earlier. A complete list of all defined functions can be printed with `nm -D`:"
   ]
  },
  {
   "cell_type": "code",
   "execution_count": null,
   "metadata": {},
   "outputs": [],
   "source": [
    "!nm -D `locate libc.so.6 | head -n1`"
   ]
  },
  {
   "cell_type": "markdown",
   "metadata": {},
   "source": [
    "Argument and return values ​​should be defined using ``argtypes`` and ``restypes``:"
   ]
  },
  {
   "cell_type": "code",
   "execution_count": null,
   "metadata": {},
   "outputs": [],
   "source": [
    "libm=cdll.LoadLibrary('libm.so.6')\n",
    "cos=libm.cos\n",
    "cos"
   ]
  },
  {
   "cell_type": "code",
   "execution_count": null,
   "metadata": {},
   "outputs": [],
   "source": [
    "# throws an error:\n",
    "cos(3.14159265)"
   ]
  },
  {
   "cell_type": "code",
   "execution_count": null,
   "metadata": {},
   "outputs": [],
   "source": [
    "# returns wrong result. By default functions are assumed to return the C int type.\n",
    "cos(c_double(3.14159265))"
   ]
  },
  {
   "cell_type": "code",
   "execution_count": null,
   "metadata": {},
   "outputs": [],
   "source": [
    "# returns wrong result\n",
    "cos(c_double(0.0))"
   ]
  },
  {
   "cell_type": "code",
   "execution_count": null,
   "metadata": {},
   "outputs": [],
   "source": [
    "# returns wrong result\n",
    "cos(c_double(0.1))"
   ]
  },
  {
   "cell_type": "code",
   "execution_count": null,
   "metadata": {},
   "outputs": [],
   "source": [
    "# need to define the call and return parameter types\n",
    "cos.argtypes=[c_double]\n",
    "cos.restype=c_double\n",
    "# now it works\n",
    "cos(c_double(0.0))"
   ]
  },
  {
   "cell_type": "code",
   "execution_count": null,
   "metadata": {},
   "outputs": [],
   "source": [
    "cos(3.14159265)"
   ]
  },
  {
   "cell_type": "markdown",
   "metadata": {},
   "source": [
    "Functions that write to a buffer are called like this (example here: [gethostname](http://man7.org/linux/man-pages/man2/gethostname.2.html)):"
   ]
  },
  {
   "cell_type": "code",
   "execution_count": null,
   "metadata": {},
   "outputs": [],
   "source": [
    "libc = cdll.LoadLibrary('libc.so.6')\n",
    "gethostname = libc.gethostname\n",
    "gethostname.argtypes = [c_char * 255, c_uint]\n",
    "gethostname.restype  = c_int\n",
    "# create the char buffer and call the function\n",
    "buf = create_string_buffer(255)\n",
    "gethostname(buf, 3) # too short to hold hostname"
   ]
  },
  {
   "cell_type": "code",
   "execution_count": null,
   "metadata": {},
   "outputs": [],
   "source": [
    "buf.value # is truncated"
   ]
  },
  {
   "cell_type": "code",
   "execution_count": null,
   "metadata": {},
   "outputs": [],
   "source": [
    "gethostname(buf, 30) # more space (our buffer has actually 255 chars)"
   ]
  },
  {
   "cell_type": "code",
   "execution_count": null,
   "metadata": {},
   "outputs": [],
   "source": [
    "buf.value"
   ]
  },
  {
   "cell_type": "code",
   "execution_count": null,
   "metadata": {},
   "outputs": [],
   "source": []
  }
 ],
 "metadata": {
  "@webio": {
   "lastCommId": null,
   "lastKernelId": null
  },
  "kernelspec": {
   "display_name": "Python 3 (ipykernel)",
   "language": "python",
   "name": "python3"
  },
  "language_info": {
   "codemirror_mode": {
    "name": "ipython",
    "version": 3
   },
   "file_extension": ".py",
   "mimetype": "text/x-python",
   "name": "python",
   "nbconvert_exporter": "python",
   "pygments_lexer": "ipython3",
   "version": "3.9.12"
  }
 },
 "nbformat": 4,
 "nbformat_minor": 4
}
