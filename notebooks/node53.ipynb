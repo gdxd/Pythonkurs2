{
 "cells": [
  {
   "cell_type": "markdown",
   "metadata": {},
   "source": [
    "Navigation:\n",
    "\n",
    "**Next:** [HTML](node54.ipynb) "
   ]
  },
  {
   "cell_type": "markdown",
   "metadata": {},
   "source": [
    "# Data Formats II – XML and JSON\n",
    "\n",
    "* Introduction and HTML\n",
    "* XML Basics\n",
    "* XML processing with SAX\n",
    "* JSON - Lightweight Alternative\n",
    "* ... and tasks ...\n",
    "\n",
    "\n",
    "## Subchapters\n",
    "* [HTML](node54.ipynb)\n",
    "* [XML Basics](node55.ipynb)\n",
    "* [XML Struktur im Detail](node56.ipynb)\n",
    "* [SAX Parser](node57.ipynb)\n",
    "* [JSON – Lightweight Alternative](node58.ipynb)\n",
    "* [REST API](nb/REST_API.ipynb)\n",
    "* [Daten I/O – Summary](node59.ipynb)\n",
    "* [Aufgaben](node60.ipynb)\n"
   ]
  },
  {
   "cell_type": "code",
   "execution_count": null,
   "metadata": {},
   "outputs": [],
   "source": []
  }
 ],
 "metadata": {
  "kernelspec": {
   "display_name": "Python 3 (ipykernel)",
   "language": "python",
   "name": "python3"
  },
  "language_info": {
   "codemirror_mode": {
    "name": "ipython",
    "version": 3
   },
   "file_extension": ".py",
   "mimetype": "text/x-python",
   "name": "python",
   "nbconvert_exporter": "python",
   "pygments_lexer": "ipython3",
   "version": "3.9.12"
  }
 },
 "nbformat": 4,
 "nbformat_minor": 4
}
