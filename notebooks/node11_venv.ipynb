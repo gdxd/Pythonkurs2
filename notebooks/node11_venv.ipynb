{
 "cells": [
  {
   "cell_type": "markdown",
   "metadata": {},
   "source": [
    "[Node 11: Reguläre Ausdrücke ](http://www-static.etp.physik.uni-muenchen.de/kurs/Computing/python2/node11.html)"
   ]
  },
  {
   "cell_type": "code",
   "execution_count": null,
   "metadata": {},
   "outputs": [],
   "source": []
  },
  {
   "cell_type": "markdown",
   "metadata": {},
   "source": [
    "## Installing Packages and Virtual Environments\n",
    "The standard python environment in principle covers already a large functionality, see \n",
    "[Python Standard Library](https://docs.python.org/3.12/library/index.html). However, there are many frequently used additional packages which are not automatically includes, such as the Data Science eco-system (numpy, scipy, matlpotlib, pandas, ...) and the ML tools (scikit-learn, Keras, Torch, ...).\n",
    "\n",
    "Depending on the system you are working these are already installed or yu have to take care of the installation.\n",
    "\n",
    "* here at LMU physics CIP the basic python version which comes with the Alma Linux OS is just the bare standard python environemnt\n",
    "* However, via the [module system](https://collab.dvb.bayern/spaces/LMULMPHGST/pages/134212078/Module+System) a lot of additional software packges can be made available (not just for python).\n",
    "   *    ``module load python`` provides you with a very recent python version with many frequently used additional packages installed, in particular the data science and ML environment (check with ``pip list``)\n",
    "* This is basically also the default environment one gets when connecting via [Jupyter Hub](https://jupyter.physik.uni-muenchen.de)\n",
    "* For a private installation [Conda](https://docs.conda.io/en/latest/index.html) is a popular tool for custom installations.\n",
    "\n",
    "\n",
    "### Installing additional packages \n",
    "It still happens quite often that one needs to install additional packages on top of an existing installation. \n",
    "The most straightforward solution is to use \n",
    "* ``pip install --user  <some-package>``\n",
    "   * This will install extra packages into ``$HOME/.local/lib/python<version>/site-packages``\n",
    "* For example, to install ``uncertainties`` (a nice small package for error propagation) do:\n",
    "   * ```pip install --user  uncertainties```"
   ]
  },
  {
   "cell_type": "markdown",
   "metadata": {},
   "source": [
    "For a small number of additional packages that is fine, however, in can easily get rather messy if you install many packages for many python versions with many package managers...\n",
    "\n",
    "![xkcd python env](https://imgs.xkcd.com/comics/python_environment.png)"
   ]
  },
  {
   "cell_type": "markdown",
   "metadata": {},
   "source": [
    "### Virtual environments\n",
    "A better controled alternative to manage the installation of additional packages are [virtual environemnts](https://docs.python.org/3/tutorial/venv.html).\n",
    "\n",
    "Create virtal env:\n",
    "```\n",
    "module load python\n",
    "python -m venv --system-site-packages test_my_venv # will create environment in sub-dir test_my_venv\n",
    "```\n",
    "Enable venv:\n",
    "```\n",
    "source test_my_env/bin/activate\n",
    "# install extra packges --> will go to venv_test/lib/pythonXXX/site-packages\n",
    "pip install uncertainties\n",
    "# python wwill now see this package\n",
    "python ...\n",
    "\n",
    "# deactivate env\n",
    "source test_my_env/bin/deactivate\n",
    "```\n",
    "\n",
    "#### Virtual environments for jupyter hub\n",
    "A few further steps are needed to make such a virtual environment also visible and usable when connecting via jupyter hub, see [Jupyterhub-CustomEnvironments](https://collab.dvb.bayern/pages/viewpage.action?spaceKey=LMULMPHGST&title=Jupyterhub#Jupyterhub-CustomEnvironments)\n",
    "\n",
    "\n",
    "\n"
   ]
  },
  {
   "cell_type": "code",
   "execution_count": null,
   "metadata": {},
   "outputs": [],
   "source": []
  }
 ],
 "metadata": {
  "@webio": {
   "lastCommId": null,
   "lastKernelId": null
  },
  "kernelspec": {
   "display_name": "Python 3 (ipykernel)",
   "language": "python",
   "name": "python3"
  },
  "language_info": {
   "codemirror_mode": {
    "name": "ipython",
    "version": 3
   },
   "file_extension": ".py",
   "mimetype": "text/x-python",
   "name": "python",
   "nbconvert_exporter": "python",
   "pygments_lexer": "ipython3",
   "version": "3.12.7"
  }
 },
 "nbformat": 4,
 "nbformat_minor": 4
}
