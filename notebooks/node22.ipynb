{
 "cells": [
  {
   "cell_type": "markdown",
   "metadata": {},
   "source": [
    "[Node 22: Numpy,Scipy und Matplotlib](http://www-static.etp.physik.uni-muenchen.de/kurs/Computing/python2/node22.html)"
   ]
  },
  {
   "cell_type": "markdown",
   "metadata": {},
   "source": [
    "Navigation:\n",
    "\n",
    "**Next:** [Objektorientiertes Programmieren – Allgemeines](node23.ipynb) **Up:** [Objektorientiertes Programmieren – Allgemeines](node23.ipynb) **Previous:** [Objektorientiertes Programmieren – Allgemeines](node23.ipynb)"
   ]
  },
  {
   "cell_type": "markdown",
   "metadata": {},
   "source": [
    "# Numpy, Scipy and Matplotlib\n",
    "There are numerous scientific programs, packages and libraries written in different languages: Mathematica, Maple, Matlab, Root, Numerical Recipes, etc. For large scientific applications, execution speed is often important. There are numerous external libraries that can be accessed with a Python API. The following packages are briefly discussed below:\n",
    "* numpy\n",
    "* scipy\n",
    "* matplotlib\n",
    "\n",
    "\n",
    "## Subchapters\n",
    "<font color=#0000ff> **Jupyter Notebooks**</font> provide a great interactive environment for using these scientific packages, which we also use directly for the following discussion and examples.\n",
    "* [**Jupyter Notebook Introduction**](nb/nb_intro.ipynb)\n",
    "* [**Numpy**](nb/nb_NumpyIntro.ipynb)\n",
    "* [**Matplotlib**](nb/nb_MatplotlibIntro.ipynb)\n",
    "* [**SciPy**](nb/nb_ScipyIntro.ipynb)\n",
    "* [**Exercises**](nb/nb_ScipyExercises.ipynb)\n",
    "* [**SymPy**](nb/nb_SymPy.ipynb)"
   ]
  },
  {
   "cell_type": "code",
   "execution_count": null,
   "metadata": {},
   "outputs": [],
   "source": []
  },
  {
   "cell_type": "code",
   "execution_count": null,
   "metadata": {},
   "outputs": [],
   "source": []
  }
 ],
 "metadata": {
  "kernelspec": {
   "display_name": "Python 3 (ipykernel)",
   "language": "python",
   "name": "python3"
  },
  "language_info": {
   "codemirror_mode": {
    "name": "ipython",
    "version": 3
   },
   "file_extension": ".py",
   "mimetype": "text/x-python",
   "name": "python",
   "nbconvert_exporter": "python",
   "pygments_lexer": "ipython3",
   "version": "3.9.12"
  }
 },
 "nbformat": 4,
 "nbformat_minor": 4
}
