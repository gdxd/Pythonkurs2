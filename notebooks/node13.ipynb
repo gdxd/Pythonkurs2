{
 "cells": [
  {
   "cell_type": "markdown",
   "metadata": {},
   "source": [
    "[Node 13: Python und C/C++](http://www-static.etp.physik.uni-muenchen.de/kurs/Computing/python2/node13.html)"
   ]
  },
  {
   "cell_type": "markdown",
   "metadata": {},
   "source": [
    "Navigation:\n",
    "\n",
    "**Next:** [ctypes](node14.ipynb) **Up:** [ctypes](node14.ipynb) **Previous:** [ctypes](node14.ipynb)"
   ]
  },
  {
   "cell_type": "markdown",
   "metadata": {},
   "source": [
    "# Python and C/C++\n",
    "In Python, not all Python modules are pure Python code. Instead, many modules call functions in the background from a C or C++ library. Pretty much every library is potentially callable from Python, such as GUI toolkits. How to call C libraries from Python is described in the Python documentation in the following chapters:\n",
    "* [Extending and Embedding the Python Interpreter](http://docs.python.org/extending/index.html)\n",
    "* [Python/C API Reference Manual](http://docs.python.org/c-api/index.html)\n",
    "\n",
    "The two modules <font color=#0000ff> **ctypes**</font> and <font color=#0000ff> **SWIG**</font> will be discussed here. They provide interface generators which simplify and automate work significantly. Various short examples are also discussed on the following page: <font color=#0000ff>[Calling C/C++ from python](http://stackoverflow.com/questions/145270/calling-c-c-from-python)</font>\n",
    "\n",
    "Then we'll look at Numba, a much newer project for *just-in-time* compiling Python code to native machine code.\n",
    "\n",
    "\n",
    "## Subchapters\n",
    "* [ctypes](node14.ipynb)\n",
    "* [SWIG](node15.ipynb)\n",
    "* [Numba](node15_numba.ipynb)\n",
    "* [Cython](node15_cython.ipynb)\n",
    "\n"
   ]
  },
  {
   "cell_type": "code",
   "execution_count": null,
   "metadata": {},
   "outputs": [],
   "source": []
  }
 ],
 "metadata": {
  "kernelspec": {
   "display_name": "Python 3 (ipykernel)",
   "language": "python",
   "name": "python3"
  },
  "language_info": {
   "codemirror_mode": {
    "name": "ipython",
    "version": 3
   },
   "file_extension": ".py",
   "mimetype": "text/x-python",
   "name": "python",
   "nbconvert_exporter": "python",
   "pygments_lexer": "ipython3",
   "version": "3.9.12"
  }
 },
 "nbformat": 4,
 "nbformat_minor": 4
}
