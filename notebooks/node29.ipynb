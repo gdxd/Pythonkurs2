{
 "cells": [
  {
   "cell_type": "markdown",
   "metadata": {},
   "source": [
    "[Node 29: Sequenz-Diagramme](http://www-static.etp.physik.uni-muenchen.de/kurs/Computing/python2/node29.html)"
   ]
  },
  {
   "cell_type": "markdown",
   "metadata": {},
   "source": [
    "Navigation:\n",
    "\n",
    "**Next:** [UML Summary](node30.ipynb) **Up:** [UML Summary](node30.ipynb) **Previous:** [UML Summary](node30.ipynb)"
   ]
  },
  {
   "cell_type": "markdown",
   "metadata": {},
   "source": [
    "## Sequence Diagrams\n",
    "\n",
    "In addition to the classes or object structure and the relationships between them, the <font color=#0000ff> **dynamics**</font>, i.e. the flow of the program in a given scenario, is important for the design\n",
    "\n",
    "![Image Sequence1](figures/UML_Sequence1.png \"Image Sequence1\")\n",
    "\n",
    "---\n",
    "\n",
    "**Specific Example - Call Mom**\n",
    "\n",
    "![Image TeleSeq](figures/UML_TeleSeq.png \"Image TeleSeq\")\n",
    "\n",
    "---\n",
    "\n",
    "**Mostly busy...**\n",
    "\n",
    "![Image TeleSeq2](figures/UML_TeleSeq2.png \"Image TeleSeq2\")\n",
    "\n"
   ]
  }
 ],
 "metadata": {
  "kernelspec": {
   "display_name": "Python 3 (ipykernel)",
   "language": "python",
   "name": "python3"
  },
  "language_info": {
   "codemirror_mode": {
    "name": "ipython",
    "version": 3
   },
   "file_extension": ".py",
   "mimetype": "text/x-python",
   "name": "python",
   "nbconvert_exporter": "python",
   "pygments_lexer": "ipython3",
   "version": "3.11.5"
  }
 },
 "nbformat": 4,
 "nbformat_minor": 4
}
