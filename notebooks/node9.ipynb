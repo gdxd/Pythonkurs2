{
 "cells": [
  {
   "cell_type": "markdown",
   "metadata": {},
   "source": [
    "[Node 9: Iterables und Generatoren (yield)](http://www-static.etp.physics.uni-muenchen.de/kurs/Computing/python2/node9.html)"
   ]
  },
  {
   "cell_type": "markdown",
   "metadata": {},
   "source": [
    "Navigation:\n",
    "\n",
    "[](node10.ipynb)[](node10.ipynb)[](node10.ipynb)\n",
    "\n",
    "**Next:** [Funktionsaufrufe](node10.ipynb) **Up:** [Funktionsaufrufe](node10.ipynb) **Previous:** [Funktionsaufrufe](node10.ipynb)"
   ]
  },
  {
   "cell_type": "markdown",
   "metadata": {},
   "source": [
    "## Iterables and generators (yield)\n",
    "Lists, dicts, etc, are so-called <font color=#008000> *Iterables*</font>, i.e. anything about what you can loop with <font color=#0000e6> ``for ... in ...` `</font>, e.g.:"
   ]
  },
  {
   "cell_type": "code",
   "execution_count": null,
   "metadata": {},
   "outputs": [],
   "source": [
    "mylist = [x*x for x in range(3)]\n",
    "for i in mylist:\n",
    "   print(i)\n",
    "mylist"
   ]
  },
  {
   "cell_type": "markdown",
   "metadata": {},
   "source": [
    "With lists, all elements of the list are created and stored in memory, which can be a lot. As an alternative, there is <font color=#008000> *generators*</font> (\"lazy evaluation\"):"
   ]
  },
  {
   "cell_type": "code",
   "execution_count": null,
   "metadata": {},
   "outputs": [],
   "source": [
    "mygenerator = (x*x for x in range(3)) # (...) erzeugt ein Generator-Objekt\n",
    "mygenerator"
   ]
  },
  {
   "cell_type": "code",
   "execution_count": null,
   "metadata": {},
   "outputs": [],
   "source": [
    "for i in mygenerator:\n",
    "   print(i)"
   ]
  },
  {
   "cell_type": "markdown",
   "metadata": {},
   "source": [
    "Usage here almost identical, only created with round brackets instead of square brackets. And it creates a generator object that can be used to <font color=#0000ff> **once**</font> fetch the values ​​<font color=#0000ff> **one at a time**</font>, only the current element is created, and at the end the generator object is \"through\", i.e. you cannot run through it again with <font color=#0000e6> ``for i in mygenerator:``</font>."
   ]
  },
  {
   "cell_type": "markdown",
   "metadata": {},
   "source": [
    "You can also achieve this functionality using so-called <font color=#008000> *generator functions*</font> and <font color=#0000ff> **yield**</font>:"
   ]
  },
  {
   "cell_type": "code",
   "execution_count": null,
   "metadata": {},
   "outputs": [],
   "source": [
    "# a generator that yields items instead of returning a list\n",
    "def firstnsq(n):\n",
    "    num = 0\n",
    "    while num < n:\n",
    "        yield num*num # \"yield\" makes this function a generator\n",
    "        num += 1\n",
    "        \n",
    "mygen = firstnsq(3)\n",
    "for i in mygen:\n",
    "   print(i)"
   ]
  },
  {
   "cell_type": "markdown",
   "metadata": {},
   "source": [
    "The keyword <font color=#0000ff> **yield**</font> roughly corresponds to <font color=#0000ff> **return**</font> for normal functions, only the process is different:\n",
    "* Calling <font color=#0000e6> ``mygen = firstnsq(3)``</font> does not execute the generator code, just creates generator object\n",
    "* The first time the object is called in <font color=#0000e6> ``for``</font> loop, statements are executed as in function until <font color=#0000e6> ``yield``</font> comes, then the generator aborts and returns a value\n",
    "* On further calls, the loop in the generator continues until the next <font color=#0000e6> ``yield``</font>.\n",
    "* If no more <font color=#0000e6> ``yield``</font> comes, the generator is finished.\n"
   ]
  },
  {
   "cell_type": "markdown",
   "metadata": {},
   "source": [
    "Instead of using the <font color=#0000e6> ``for``</font> loop, you can also call up the individual values ​​with <font color=#0000e6> ``next(...)``</font>:"
   ]
  },
  {
   "cell_type": "code",
   "execution_count": null,
   "metadata": {},
   "outputs": [],
   "source": [
    "mygen = firstnsq(3)\n",
    "mygen"
   ]
  },
  {
   "cell_type": "code",
   "execution_count": null,
   "metadata": {},
   "outputs": [],
   "source": [
    "next(mygen)"
   ]
  },
  {
   "cell_type": "code",
   "execution_count": null,
   "metadata": {},
   "outputs": [],
   "source": [
    "next(mygen)"
   ]
  },
  {
   "cell_type": "code",
   "execution_count": null,
   "metadata": {},
   "outputs": [],
   "source": [
    "next(mygen)"
   ]
  },
  {
   "cell_type": "markdown",
   "metadata": {},
   "source": [
    "When the generator finishes, the next time `next` is called, a `StopIteration` exception is thrown:"
   ]
  },
  {
   "cell_type": "code",
   "execution_count": null,
   "metadata": {},
   "outputs": [],
   "source": [
    "next(mygen)"
   ]
  },
  {
   "cell_type": "markdown",
   "metadata": {},
   "source": [
    "More about it in this [stackoverflow thread](http://stackoverflow.com/questions/231767/what-does-the-yield-keyword-do-in-python)."
   ]
  },
  {
   "cell_type": "code",
   "execution_count": null,
   "metadata": {},
   "outputs": [],
   "source": []
  }
 ],
 "metadata": {
  "@webio": {
   "lastCommId": null,
   "lastKernelId": null
  },
  "kernelspec": {
   "display_name": "Python 3 (ipykernel)",
   "language": "python",
   "name": "python3"
  },
  "language_info": {
   "codemirror_mode": {
    "name": "ipython",
    "version": 3
   },
   "file_extension": ".py",
   "mimetype": "text/x-python",
   "name": "python",
   "nbconvert_exporter": "python",
   "pygments_lexer": "ipython3",
   "version": "3.11.5"
  }
 },
 "nbformat": 4,
 "nbformat_minor": 4
}
