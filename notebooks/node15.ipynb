{
 "cells": [
  {
   "cell_type": "markdown",
   "metadata": {},
   "source": [
    "[Node 15: SWIG](http://www-static.etp.physik.uni-muenchen.de/kurs/Computing/python2/node15.html)"
   ]
  },
  {
   "cell_type": "markdown",
   "metadata": {},
   "source": [
    "Navigation:\n",
    "\n",
    "**Next:** [Threads and Multi–Processing](node16.ipynb) **Up:** [Threads and Multi–Processing](node16.ipynb) **Previous:** [Threads and Multi–Processing](node16.ipynb)"
   ]
  },
  {
   "cell_type": "markdown",
   "metadata": {},
   "source": [
    "## SWIG\n",
    "To connect a C or C++ library to Python, we use the SWIG interface generator (SWIG = Simplified Wrapper and Interface Generator). This module is not part of the standard Python installation and must be installed separately, e.g. with ``sudo apt-get install swig`` on Ubuntu systems. (It is not limited to Python, but can also be used as an interface to other languages.)\n",
    " \n",
    "\n",
    "### C Classes\n",
    "We use the example from the [Tutorial](http://www.swig.org/tutorial.html).\n",
    "The file ``example.c`` should be included in Python:"
   ]
  },
  {
   "cell_type": "markdown",
   "metadata": {},
   "source": [
    "```C++\n",
    "/* File : example.c */\n",
    " \n",
    " #include <time.h>\n",
    " double My_variable = 3.0;\n",
    " \n",
    " int fact(int n) {\n",
    "     if (n <= 1) return 1;\n",
    "     else return n*fact(n-1);\n",
    " }\n",
    " \n",
    " int my_mod(int x, int y) {\n",
    "     return (x%y);\n",
    " }\n",
    "        \n",
    " char *get_time()\n",
    " {\n",
    "     time_t ltime;\n",
    "     time(&ltime);\n",
    "     return ctime(&ltime);\n",
    " }\n",
    "```"
   ]
  },
  {
   "cell_type": "markdown",
   "metadata": {},
   "source": [
    "To wrap the functions ``fact, my_mod, get_time`` and the variable ``My_variable`` from ``example.c``, we need the following interface file ``example.i`` :"
   ]
  },
  {
   "cell_type": "markdown",
   "metadata": {},
   "source": [
    "```C++\n",
    "/* example.i */\n",
    " %module example\n",
    " %{\n",
    " /* Put header files here or function declarations like below */\n",
    " extern double My_variable;\n",
    " extern int fact(int n);\n",
    " extern int my_mod(int x, int y);\n",
    " extern char *get_time();\n",
    " %}\n",
    " \n",
    " // list functions swig should generate wrappers for\n",
    " extern double My_variable;\n",
    " extern int fact(int n);\n",
    " extern int my_mod(int x, int y);\n",
    " extern char *get_time();\n",
    "```"
   ]
  },
  {
   "cell_type": "markdown",
   "metadata": {},
   "source": [
    "The `%module` directive defines the name of the module to be generated and contains other code (headers and declarations) that is copied into the SWIG-generated wrapper.\n",
    "The [zweite Teil](https://stackoverflow.com/questions/32208350/swig-why-we-need-to-declare-functions-twice) contains the definitions of those functions for which a wrapper is to be created.\n",
    "\n",
    "SWIG can use this interface file to generate 'glue-code' for some languages ​​(e.g. Perl, Java). For Python, SWIG is invoked as follows, creating the files ``example.py`` and ``example_wrap.c.`` :\n",
    "\n",
    "**( change to sub-dir ./source/swig )**\n",
    "\n",
    "```bash\n",
    "swig -python example.i\n",
    "```\n",
    "Now ``example_wrap.c.`` needs to be compiled into a shared library called ``_example.so``:\n",
    "```bash\n",
    "gcc -fPIC -c example.c example_wrap.c -I/usr/include/python3.5/\n",
    "ld -shared example.o example_wrap.o -o _example.so\n",
    "```"
   ]
  },
  {
   "cell_type": "markdown",
   "metadata": {},
   "source": [
    "Within Python, the new module ``example`` and the corresponding routines can now be called as follows:"
   ]
  },
  {
   "cell_type": "code",
   "execution_count": null,
   "metadata": {},
   "outputs": [],
   "source": [
    "from source.swig import example\n",
    "example.fact(5)"
   ]
  },
  {
   "cell_type": "code",
   "execution_count": null,
   "metadata": {},
   "outputs": [],
   "source": [
    "dir(example)"
   ]
  },
  {
   "cell_type": "code",
   "execution_count": null,
   "metadata": {},
   "outputs": [],
   "source": [
    "example.my_mod(7,3)"
   ]
  },
  {
   "cell_type": "code",
   "execution_count": null,
   "metadata": {},
   "outputs": [],
   "source": [
    "example.get_time()"
   ]
  },
  {
   "cell_type": "code",
   "execution_count": null,
   "metadata": {},
   "outputs": [],
   "source": [
    "example.cvar.My_variable"
   ]
  },
  {
   "cell_type": "markdown",
   "metadata": {},
   "source": [
    "Everything in the ``%{ ... % }`` block is pasted unmodified into the auto-generated ``example_wrap.c``.\n",
    " \n",
    "\n",
    "### Compile automatically\n",
    "The following Python program ``example_setup.py`` (uses [``distutils``](https://docs.python.org/3/library/distutils.html)) can be used to compile the entire program code at once and combine it into a shared library:\n",
    "```python\n",
    "#!/usr/bin/env python\n",
    "from distutils.core import setup, Extension\n",
    "example_module = Extension('_example', sources = ['example.c','example_wrap.c'])\n",
    "setup ( name = 'example',\n",
    "        version = '0.1',\n",
    "        author = 'John Doe',\n",
    "        description = \"An example program\",\n",
    "        ext_modules = [example_module],\n",
    "        py_modules = ['example']\n",
    ")\n",
    "```"
   ]
  },
  {
   "cell_type": "markdown",
   "metadata": {},
   "source": [
    "Then create the module ``example`` with the following line:\n",
    "```bash\n",
    "python example_setup.py build_ext --inplace\n",
    "```\n",
    "(`swig` must have been called beforehand.)"
   ]
  },
  {
   "cell_type": "markdown",
   "metadata": {},
   "source": [
    "### C++ classes\n",
    "\n",
    "C++ classes are included just like C classes. A class ``Person`` is declared in header file [person.h](source/swig/person.h). The member functions are declared in the [person.h](source/swig/person.h) file. A test program [person.h](source/swig/person.h) demonstrates the use of the ``Person`` class. This C++ program can be compiled and started as follows:\n",
    "```bash\n",
    "g++ person.cxx person_test.cxx -o person_test\n",
    "./person_test\n",
    "```\n",
    "\n",
    "In the SWIG wrapper [person.i](source/swig/person.i) the whole class ``Person`` is defined unchanged. The [person.i](source/swig/person.i) file is used to automatically compile the code. The SWIG glue code is generated with the following line:\n",
    "\n",
    "```bash\n",
    "swig -python -c++ person.i\n",
    "```\n",
    "\n",
    "The entire ``person`` module is created with the following command:\n",
    "```bash\n",
    "python3 person_setup.py build_ext --inplace\n",
    "```\n",
    "(You may need to rename the `_person*.so` to `_person.so`."
   ]
  },
  {
   "cell_type": "markdown",
   "metadata": {},
   "source": [
    "Within Python, the ``Person`` module can be used like this:"
   ]
  },
  {
   "cell_type": "code",
   "execution_count": null,
   "metadata": {},
   "outputs": [],
   "source": [
    "from source.swig.person import Person\n",
    "p=Person('Max Student')\n",
    "p.get_name()"
   ]
  },
  {
   "cell_type": "code",
   "execution_count": null,
   "metadata": {},
   "outputs": [],
   "source": [
    "p.set_name('Maria Studentin')\n",
    "p.get_name()"
   ]
  },
  {
   "cell_type": "code",
   "execution_count": null,
   "metadata": {},
   "outputs": [],
   "source": [
    "p2=Person(p)\n",
    "p2.get_name()"
   ]
  },
  {
   "cell_type": "code",
   "execution_count": null,
   "metadata": {},
   "outputs": [],
   "source": [
    "# quit() causes to the kernel to stop.\n",
    "# We use it to see that the destructor is called.\n",
    "# (Check the output in the console where you started the notebook server.)\n",
    "quit()"
   ]
  },
  {
   "cell_type": "code",
   "execution_count": null,
   "metadata": {},
   "outputs": [],
   "source": []
  },
  {
   "cell_type": "code",
   "execution_count": null,
   "metadata": {},
   "outputs": [],
   "source": []
  }
 ],
 "metadata": {
  "@webio": {
   "lastCommId": null,
   "lastKernelId": null
  },
  "kernelspec": {
   "display_name": "Python 3 (ipykernel)",
   "language": "python",
   "name": "python3"
  },
  "language_info": {
   "codemirror_mode": {
    "name": "ipython",
    "version": 3
   },
   "file_extension": ".py",
   "mimetype": "text/x-python",
   "name": "python",
   "nbconvert_exporter": "python",
   "pygments_lexer": "ipython3",
   "version": "3.9.12"
  }
 },
 "nbformat": 4,
 "nbformat_minor": 4
}
