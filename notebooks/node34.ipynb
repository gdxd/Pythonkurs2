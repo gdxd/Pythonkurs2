{
 "cells": [
  {
   "cell_type": "markdown",
   "metadata": {},
   "source": [
    "[Node 34: Grundlegende (Objekt–Orientierte) design principles](http://www-static.etp.physics.uni-muenchen.de/kurs/Computing/python2/node34.html)"
   ]
  },
  {
   "cell_type": "markdown",
   "metadata": {},
   "source": [
    "Navigation:\n",
    "\n",
    "**Next:** [Aufgaben](node35.ipynb) **Up:** [Aufgaben](node35.ipynb) **Previous:** [Aufgaben](node35.ipynb)"
   ]
  },
  {
   "cell_type": "markdown",
   "metadata": {},
   "source": [
    "## Basic (object-oriented) design principles\n",
    "\n",
    "There are a number of important principles to keep in mind when designing object-oriented programs.\n",
    "\n",
    "Central point: <font color=#0000ff> **Minimize dependencies**</font>\n",
    "\n",
    "<font color=#008000> *Object-oriented programming's most important benefit is that it lets us reduce software complexity by managing code interdependencies. (Herb Sutter, Exceptional C++)*</font>\n",
    "\n",
    "---\n",
    "\n",
    "In the literature, the important design principles are listed with more or less catchy acronyms ... here are just 3 examples:\n",
    "\n",
    "**KISS** <font color=#008000>\n",
    "*Keep It Simple Stupid*</font>\n",
    "* General rationale, programming (especially in C++) is difficult enough as it is.\n",
    "* Minimize dependencies\n",
    "* Keep program structure simple\n",
    "* Use standard components\n",
    "* ...\n",
    "    \n",
    "\n",
    "**DRY**\n",
    "<font color=#008000> *Don't Repeat Yourself*</font>\n",
    "* Components should be unique and clearly recognizable exactly once.\n",
    "* No multiple, slightly different variations\n",
    "* <font color=#008000> *Opposite = WET – Write Everything Twice*</font>\n",
    "\n",
    "**SRP** <font color=#008000>\n",
    "*Single Responsibility Principle*</font>\n",
    "* Class or function should have exactly one well-defined task.\n",
    "* See also example <font color=#0000e6> ``copy``</font> function.\n",
    "\n",
    "---\n",
    "\n",
    "![Image wtfm](figures/wtfm.jpg \"Image wtfm\")\n",
    "\n",
    "---\n",
    "\n",
    "See [further discussion and examples](https://medium.com/@hlfdev/kiss-dry-solid-yagni-a-simple-guide-to-some-principles-of-software-engineering-and-clean-code-05e60233c79f)"
   ]
  },
  {
   "cell_type": "code",
   "execution_count": null,
   "metadata": {},
   "outputs": [],
   "source": []
  }
 ],
 "metadata": {
  "kernelspec": {
   "display_name": "Python 3 (ipykernel)",
   "language": "python",
   "name": "python3"
  },
  "language_info": {
   "codemirror_mode": {
    "name": "ipython",
    "version": 3
   },
   "file_extension": ".py",
   "mimetype": "text/x-python",
   "name": "python",
   "nbconvert_exporter": "python",
   "pygments_lexer": "ipython3",
   "version": "3.11.5"
  }
 },
 "nbformat": 4,
 "nbformat_minor": 4
}
