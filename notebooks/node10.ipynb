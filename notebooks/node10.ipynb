{
 "cells": [
  {
   "cell_type": "markdown",
   "metadata": {},
   "source": [
    "[Node 10: Funktionsaufrufe ](http://www-static.etp.physik.uni-muenchen.de/kurs/Computing/python2/node10.html)"
   ]
  },
  {
   "cell_type": "markdown",
   "metadata": {},
   "source": [
    "Navigation:\n",
    "\n",
    "**Next:** [Reguläre Ausdrücke](node11.ipynb) **Up:** [Reguläre Ausdrücke](node11.ipynb) **Previous:** [Reguläre Ausdrücke](node11.ipynb)](node9.ipynb)"
   ]
  },
  {
   "cell_type": "markdown",
   "metadata": {},
   "source": [
    "## function calls\n",
    "A function in general form looks like this:\n"
   ]
  },
  {
   "cell_type": "code",
   "execution_count": null,
   "metadata": {},
   "outputs": [],
   "source": [
    "def f(param1, param2='default2', param3=42, *liste1, **dict1):\n",
    "   \"\"\"Eine Funktion die ihre Argumente ausgibt\"\"\"\n",
    "   print (\"param1: \", param1)\n",
    "   print (\"param2: \", param2)\n",
    "   print (\"param3: \", param3)\n",
    "   print (\"liste1: \", liste1)  \n",
    "   print (\"dict1: \", dict1)\n",
    "   try:\n",
    "       nachname1 = dict1.get('nachname')\n",
    "       print (nachname1)\n",
    "   except:\n",
    "       pass\n",
    "   \n",
    "   return [param1, param2]"
   ]
  },
  {
   "cell_type": "markdown",
   "metadata": {},
   "source": [
    "\n",
    "This function has the parameters:\n",
    "* <font color=#0000e6> ``param1``</font> with no default value (**must** be specified),\n",
    "* <font color=#0000e6> ``param2='default2'``</font> with a default value,\n",
    "* <font color=#0000e6> ``*list1``</font> which stores an unspecified number of parameters in a list\n",
    "* <font color=#0000e6> ``**dict1``</font> which stores an unspecified number of parameters with key,value in a dictionary. The individual values ​​can be queried with e.g. <font color=#0000e6> ``get``</font>.\n",
    "\n",
    "---\n",
    "\n",
    "Call with the following arguments:\n",
    "\n",
    "<font color=#0000e6> ``f('hello', 'world', 'more', 'arguments', firstname = 'max', lastname='mueller')``</font> returns as output:"
   ]
  },
  {
   "cell_type": "code",
   "execution_count": null,
   "metadata": {},
   "outputs": [],
   "source": [
    "f('hello', 'world', 85, 'more', 'arguments', firstname = 'max', lastname='mueller');"
   ]
  },
  {
   "cell_type": "markdown",
   "metadata": {},
   "source": [
    "Named arguments can be specified in any order:"
   ]
  },
  {
   "cell_type": "code",
   "execution_count": null,
   "metadata": {},
   "outputs": [],
   "source": [
    "f('hello', param3 = 101, param2 = 'world')"
   ]
  },
  {
   "cell_type": "code",
   "execution_count": null,
   "metadata": {},
   "outputs": [],
   "source": [
    "# sowas geht allerdings nicht\n",
    "#f('hello', param2 = 'world', 101)"
   ]
  },
  {
   "cell_type": "code",
   "execution_count": 15,
   "metadata": {},
   "outputs": [],
   "source": [
    "#f('hello', param1 = 'world')"
   ]
  },
  {
   "cell_type": "markdown",
   "metadata": {},
   "source": [
    "\n",
    "\n",
    "---\n",
    "\n",
    "Or call with list or dict:"
   ]
  },
  {
   "cell_type": "code",
   "execution_count": null,
   "metadata": {},
   "outputs": [],
   "source": [
    "s = list(range(3)) # [0, 1, 2]\n",
    "d = {'vorname': 'Peter', 'nachname': 'Maier', 'age': 25}\n",
    "\n",
    "f('bla', 2, *s, **d);\n"
   ]
  },
  {
   "cell_type": "markdown",
   "metadata": {},
   "source": [
    "#### what happens with these calls?"
   ]
  },
  {
   "cell_type": "code",
   "execution_count": null,
   "metadata": {
    "tags": []
   },
   "outputs": [],
   "source": [
    "f(*s)"
   ]
  },
  {
   "cell_type": "code",
   "execution_count": null,
   "metadata": {},
   "outputs": [],
   "source": [
    "f(1,**d)"
   ]
  },
  {
   "cell_type": "code",
   "execution_count": null,
   "metadata": {},
   "outputs": [],
   "source": [
    "d['param2']=999\n",
    "f(1,**d)"
   ]
  },
  {
   "cell_type": "markdown",
   "metadata": {},
   "source": [
    "Be careful with lists as default parameters. Here's a function that takes an argument and a list, and returns the list with the argument appended. If no list is passed, an empty list is specified by default:"
   ]
  },
  {
   "cell_type": "code",
   "execution_count": null,
   "metadata": {},
   "outputs": [],
   "source": [
    "def f(a, L=[]):\n",
    "    L.append(a)\n",
    "    return L"
   ]
  },
  {
   "cell_type": "markdown",
   "metadata": {},
   "source": [
    "What does this function return when called multiple times?"
   ]
  },
  {
   "cell_type": "code",
   "execution_count": null,
   "metadata": {},
   "outputs": [],
   "source": [
    "#print(f(1))\n",
    "#print(f(2))\n",
    "#print(f(3))"
   ]
  },
  {
   "cell_type": "code",
   "execution_count": null,
   "metadata": {},
   "outputs": [],
   "source": []
  }
 ],
 "metadata": {
  "@webio": {
   "lastCommId": null,
   "lastKernelId": null
  },
  "kernelspec": {
   "display_name": "Python 3 (ipykernel)",
   "language": "python",
   "name": "python3"
  },
  "language_info": {
   "codemirror_mode": {
    "name": "ipython",
    "version": 3
   },
   "file_extension": ".py",
   "mimetype": "text/x-python",
   "name": "python",
   "nbconvert_exporter": "python",
   "pygments_lexer": "ipython3",
   "version": "3.9.12"
  }
 },
 "nbformat": 4,
 "nbformat_minor": 4
}
