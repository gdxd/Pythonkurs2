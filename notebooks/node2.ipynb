{
 "cells": [
  {
   "cell_type": "markdown",
   "metadata": {},
   "source": [
    "[Node 2: Allgemeines](http://www-static.etp.physik.uni-muenchen.de/kurs/Computing/python2/node2.html)"
   ]
  },
  {
   "cell_type": "markdown",
   "metadata": {},
   "source": [
    "Navigation:\n",
    "\n",
    "**Next:** [Literatur und Links](node3.ipynb)\n",
    "**Up:** [PYTHON2 Kurs](node0.ipynb)\n",
    "**Previous:** [Schlüsselqualifikation für Bachelor/Master](node1.ipynb)"
   ]
  },
  {
   "cell_type": "markdown",
   "metadata": {},
   "source": [
    "# General\n",
    "Python is modern scripting language\n",
    "* clear syntax\n",
    "* simple structure\n",
    "* Features for object-oriented programming\n",
    "* Powerful function packages (=modules) included\n",
    "\n",
    "$\\Rightarrow$ flat learning curve\n",
    "\n",
    "\n",
    "* Get started much faster than Fortran, C/C++, and even JAVA\n",
    "* <font color=#ff0000> **But:**</font> huge range of functions, variety of modules, extensions (databases, XML, networking, ...), development environments, etc.\n",
    "\n",
    "---\n",
    "\n",
    "Goals of Course-1: Python for Physicists:\n",
    "* Python syntax\n",
    "* Basic functionality: variables, functions, classes, I/O, standard API\n",
    "\n",
    "and thus\n",
    "* Ability to create small programs\n",
    "* Suggestions for using advanced modules\n",
    "\n",
    "---\n",
    "\n",
    "Goals of Course-2: Advanced Programming in Python:\n",
    "* Current IT applications with Python\n",
    "* Selected, non-trivial examples using Python\n",
    "* Use of the basic language elements (classes, exceptions, ...) in real applications\n",
    "\n",
    "\n",
    "\n",
    "---"
   ]
  }
 ],
 "metadata": {
  "kernelspec": {
   "display_name": "Python 3 (ipykernel)",
   "language": "python",
   "name": "python3"
  },
  "language_info": {
   "codemirror_mode": {
    "name": "ipython",
    "version": 3
   },
   "file_extension": ".py",
   "mimetype": "text/x-python",
   "name": "python",
   "nbconvert_exporter": "python",
   "pygments_lexer": "ipython3",
   "version": "3.11.5"
  }
 },
 "nbformat": 4,
 "nbformat_minor": 4
}
