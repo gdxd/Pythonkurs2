{
 "cells": [
  {
   "cell_type": "markdown",
   "metadata": {},
   "source": []
  },
  {
   "cell_type": "markdown",
   "metadata": {},
   "source": [
    "## Type Hints\n",
    "Python in principle is a dynamically-typed language, i.e. the data type gets automatically determined from the context. In contrast, in statically-typed languages such as Java or C++ all variables need to be declared before use.\n",
    "\n",
    "Dynamic typing is convenient for quick scripting, but it also has substantial disadvantages when it comes to clean and professional coding, in particular in larger projects.\n",
    "\n",
    "In more recent python versions (3.5) **type hints** got introduced which at least partially addresses the problem. They allow to specify the type\n",
    "* in variable delarations\n",
    "* for function arguments\n",
    "* and function return types\n",
    "\n",
    "\n",
    "\n"
   ]
  },
  {
   "cell_type": "markdown",
   "metadata": {},
   "source": [
    "These types are still **not enforced** by the python interpreter when executing code, but it \n",
    "* improves readability and documentation\n",
    "* dedicated code-checkers, such as `pyright` or `mypy` can be applied to the code which will check proper usage based on these type hints.\n",
    "\n",
    "Example:\n",
    "```python\n",
    "age: int = 20\n",
    "name: str = \"Alice\"\n",
    "is_prime: bool = True\n",
    "```\n",
    "\n",
    "You can still override as you like\n",
    "```python\n",
    "age = 1+3j\n",
    "```\n",
    "python will not complain when executing.\n",
    "\n",
    "#### The main purpose is the use of type hints with function declarations.\n",
    "\n",
    "Here an example of the worst way to declare a function\n",
    "```python\n",
    "def do_something( a, b, c ):\n",
    "    \"\"\"\n",
    "    ... does_something ...\n",
    "    \"\"\"\n",
    "    pass\n",
    "```\n",
    "You have no idea what the paraemters are, what the functions is supposed to do, what it returns and what exceptions it might raise.\n",
    "\n"
   ]
  },
  {
   "cell_type": "markdown",
   "metadata": {},
   "source": [
    "Here how it should look like with type-hints and proper doc string discussion\n",
    "```python\n",
    "def do_something( \n",
    "    name: str, \n",
    "    quantity: int,\n",
    "    fruits: list[str]\n",
    ") -> list[str] :\n",
    "    \"\"\"\n",
    "    ... check available fruits ...\n",
    "    :param name: name of action (str)\n",
    "    :param quantity: how many (int)\n",
    "    :param fruits: list of fruit names (list[str])\n",
    "    :return: list of available fruits (list[str]).\n",
    "    :raises: tbd\n",
    "    \"\"\"\n",
    "    pass\n",
    "```\n",
    "\n",
    "Of course it is quite some effort to add all this extra information, but it is in general required to do that when working in a professinal environment. \n",
    "\n",
    "Typically in such environments automatic checks and tests are applied when new or updated software is uploaded (*pull request*) and it will get rejected if the code does not follow these rules.\n",
    "\n",
    "Just as an example here [open-source code](https://github.com/PanDAWMS/pilot3/blob/master/pilot/copytool/gfal.py)\n",
    "used in the ATLAS (experiment at LHC/Cern) distributed computing system. ATLAS is a large collaboration with ~3000 scientists, a few 100 are active in software and computing and around 10-20 are contributing to that repository.\n"
   ]
  },
  {
   "cell_type": "code",
   "execution_count": null,
   "metadata": {},
   "outputs": [],
   "source": []
  }
 ],
 "metadata": {
  "@webio": {
   "lastCommId": null,
   "lastKernelId": null
  },
  "kernelspec": {
   "display_name": "Python 3 (ipykernel)",
   "language": "python",
   "name": "python3"
  },
  "language_info": {
   "codemirror_mode": {
    "name": "ipython",
    "version": 3
   },
   "file_extension": ".py",
   "mimetype": "text/x-python",
   "name": "python",
   "nbconvert_exporter": "python",
   "pygments_lexer": "ipython3",
   "version": "3.11.5"
  }
 },
 "nbformat": 4,
 "nbformat_minor": 4
}
