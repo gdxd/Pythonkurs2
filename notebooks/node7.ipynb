{
 "cells": [
  {
   "cell_type": "markdown",
   "metadata": {},
   "source": [
    "[Node 7: Weitergehende und häufig verwendete Python Features](http://www-static.etp.physik.uni-muenchen.de/kurs/Computing/python2/node7.html)"
   ]
  },
  {
   "cell_type": "markdown",
   "metadata": {},
   "source": [
    "Navigation:\n",
    "\n",
    "**Next:** [Tools für Listen und Wörterbücher](node8.ipynb) **Up:** [Tools für Listen und Wörterbücher](node8.ipynb) **Previous:** [Tools für Listen und Wörterbücher](node8.ipynb)"
   ]
  },
  {
   "cell_type": "markdown",
   "metadata": {},
   "source": [
    "# Advanced and frequently used Python features\n",
    "Python offers a number of very useful advanced features that go beyond the standard repertoire of common programming languages ​​and that are frequently used in Python. We briefly cover <font color=#008000>*list and dictionary tools, generators, function call arguments, and regular expressions*.</font>\n",
    "\n",
    "\n",
    "## Subchapters\n",
    "* [Tools für Listen und Wörterbücher](node8.ipynb)\n",
    "* [Iterables und Generatoren (yield)](node9.ipynb)\n",
    "* [Funktionsaufrufe](node10.ipynb)\n",
    "* [Reguläre Ausdrücke](node11.ipynb)\n",
    "* [Aufgaben](node12.ipynb)\n",
    "\n"
   ]
  },
  {
   "cell_type": "code",
   "execution_count": null,
   "metadata": {},
   "outputs": [],
   "source": []
  }
 ],
 "metadata": {
  "kernelspec": {
   "display_name": "Python 3 (ipykernel)",
   "language": "python",
   "name": "python3"
  },
  "language_info": {
   "codemirror_mode": {
    "name": "ipython",
    "version": 3
   },
   "file_extension": ".py",
   "mimetype": "text/x-python",
   "name": "python",
   "nbconvert_exporter": "python",
   "pygments_lexer": "ipython3",
   "version": "3.9.12"
  }
 },
 "nbformat": 4,
 "nbformat_minor": 4
}
