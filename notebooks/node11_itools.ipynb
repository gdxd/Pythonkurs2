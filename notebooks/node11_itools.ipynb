{
 "cells": [
  {
   "cell_type": "markdown",
   "metadata": {},
   "source": []
  },
  {
   "cell_type": "markdown",
   "metadata": {},
   "source": [
    "## itertools \n",
    "It is frequent problem in programming that you have to loop over lists (or iterables) and combine the list elements in various ways, all possible combinations, all permutations of one or more lists.\n",
    "\n",
    "The classical apporach is the clever use of nested loops to get the desired outcome, however, that can be rather tricky and error-prone. \n",
    "\n",
    "`itertools` is a nice python module which provides various functions which adress that.\n",
    "\n",
    "\n",
    "\n",
    "#### product of lists\n"
   ]
  },
  {
   "cell_type": "code",
   "execution_count": null,
   "metadata": {},
   "outputs": [],
   "source": [
    "import itertools\n",
    "list1 = [1,2,3]\n",
    "list2 = [0.1, 0.2, 0.3]\n",
    "list3 = [1e1, 1e2, 1e3]\n",
    "\n",
    "# get all possible combinations (=cartesian product)\n",
    "for i in list1:\n",
    "    for x in list2:\n",
    "        for z in list3:\n",
    "            print(f'{i=},{x=},{z=}')"
   ]
  },
  {
   "cell_type": "code",
   "execution_count": null,
   "metadata": {},
   "outputs": [],
   "source": [
    "# single loop with itertools \n",
    "for i,x,z in itertools.product(list1,list2,list3):\n",
    "    print(f'{i=},{x=},{z=}')"
   ]
  },
  {
   "cell_type": "code",
   "execution_count": null,
   "metadata": {},
   "outputs": [],
   "source": [
    "# works also for repeated combinations of single list\n",
    "for a,b in itertools.product(range(4),repeat=2):\n",
    "    print(a,b)"
   ]
  },
  {
   "cell_type": "markdown",
   "metadata": {},
   "source": [
    "#### permutations of iterable\n",
    "\n",
    "... all orderings"
   ]
  },
  {
   "cell_type": "code",
   "execution_count": null,
   "metadata": {},
   "outputs": [],
   "source": [
    "for perm in itertools.permutations(range(4)):\n",
    "    print(perm)\n",
    "\n"
   ]
  },
  {
   "cell_type": "code",
   "execution_count": null,
   "metadata": {},
   "outputs": [],
   "source": [
    "# by default it takes all elements but can be specified:\n",
    "for perm in itertools.permutations(range(4),2):\n",
    "    print(perm)\n"
   ]
  },
  {
   "cell_type": "markdown",
   "metadata": {},
   "source": [
    "#### combinations of iterable\n",
    "\n",
    "... ordered "
   ]
  },
  {
   "cell_type": "code",
   "execution_count": null,
   "metadata": {},
   "outputs": [],
   "source": [
    "for perm in itertools.combinations(range(4),2):\n",
    "    print(perm)\n"
   ]
  },
  {
   "cell_type": "code",
   "execution_count": null,
   "metadata": {},
   "outputs": [],
   "source": [
    "# and variant with repeated elements\n",
    "for perm in itertools.combinations_with_replacement(range(4),2):\n",
    "    print(perm)\n"
   ]
  },
  {
   "cell_type": "markdown",
   "metadata": {},
   "source": [
    "Of course all that can also be programmed in classical nested loop style, but safer and more convenient via `itertools`.\n",
    "\n",
    "Ther are more useful functions, e.g. `cycle, count, ...` see discussion in [python-doc](https://docs.python.org/3/library/itertools.html) or [here](https://www.geeksforgeeks.org/python-itertools/) .\n",
    "\n"
   ]
  },
  {
   "cell_type": "code",
   "execution_count": null,
   "metadata": {},
   "outputs": [],
   "source": []
  }
 ],
 "metadata": {
  "@webio": {
   "lastCommId": null,
   "lastKernelId": null
  },
  "kernelspec": {
   "display_name": "Python 3 (ipykernel)",
   "language": "python",
   "name": "python3"
  },
  "language_info": {
   "codemirror_mode": {
    "name": "ipython",
    "version": 3
   },
   "file_extension": ".py",
   "mimetype": "text/x-python",
   "name": "python",
   "nbconvert_exporter": "python",
   "pygments_lexer": "ipython3",
   "version": "3.11.5"
  }
 },
 "nbformat": 4,
 "nbformat_minor": 4
}
