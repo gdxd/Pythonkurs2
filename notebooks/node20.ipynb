{
 "cells": [
  {
   "cell_type": "markdown",
   "metadata": {},
   "source": [
    "[Node 20: Python Multi-Processing](http://www-static.etp.physik.uni-muenchen.de/kurs/Computing/python2/node20.html)"
   ]
  },
  {
   "cell_type": "markdown",
   "metadata": {},
   "source": [
    "Navigation:\n",
    "\n",
    "**Next:** [Aufgaben](node21.ipynb) **Up:** [Aufgaben](node21.ipynb) **Previous:** [Aufgaben](node21.ipynb)"
   ]
  },
  {
   "cell_type": "markdown",
   "metadata": {},
   "source": [
    "## Multi-processing in Python\n",
    "An alternative to avoid speed losses caused by GIL is multi-processing.\n",
    "* Multiple Python processes run independently\n",
    "* Python module <font color=#008000> *multiprocessing*</font> can be used similar to <font color=#008000> *threading*</font>.\n",
    "* Unlike <font color=#008000> *threading*</font>, no shared program/memory area\n",
    "* directly converted program [``randpiMP.py``](source/randpiMP.py) does not work, result not visible for main process\n",
    "* Explicit communication between processes required, e.g. with message queues [``multiprocessing.Queue()``](https://docs.python.org/2/library/multiprocessing.html#multiprocessing.Queue)\n",
    "* as in the extended example [``randpiMP2.py``](source/randpiMP2.py)\n",
    "\n",
    "An even more far-reaching alternative is multi-processing distributed over several computers or an entire computing cluster. In this case, data must be transferred across computer boundaries. A standard tool for this is <font color=#0000ff> **MPI**</font> ([Message Passing Interface](https://de.wikipedia.org/wiki/Message_Passing_Interface)), which provides interfaces for many programming languages. Here is a short\n",
    "[MPI example from the software tools course](https://www-static.etp.physik.uni-muenchen.de/kurs/Computing/sw/node72.html)."
   ]
  },
  {
   "cell_type": "code",
   "execution_count": null,
   "metadata": {},
   "outputs": [],
   "source": []
  }
 ],
 "metadata": {
  "kernelspec": {
   "display_name": "Python 3 (ipykernel)",
   "language": "python",
   "name": "python3"
  },
  "language_info": {
   "codemirror_mode": {
    "name": "ipython",
    "version": 3
   },
   "file_extension": ".py",
   "mimetype": "text/x-python",
   "name": "python",
   "nbconvert_exporter": "python",
   "pygments_lexer": "ipython3",
   "version": "3.11.5"
  }
 },
 "nbformat": 4,
 "nbformat_minor": 4
}
